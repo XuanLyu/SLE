{
 "cells": [
  {
   "cell_type": "code",
   "execution_count": 1,
   "metadata": {},
   "outputs": [
    {
     "name": "stderr",
     "output_type": "stream",
     "text": [
      "/Users/lvjingzhe/anaconda3/lib/python3.7/site-packages/pandas/compat/_optional.py:138: UserWarning: Pandas requires version '2.7.0' or newer of 'numexpr' (version '2.6.9' currently installed).\n",
      "  warnings.warn(msg, UserWarning)\n",
      "/Users/lvjingzhe/anaconda3/lib/python3.7/site-packages/dask/config.py:168: YAMLLoadWarning: calling yaml.load() without Loader=... is deprecated, as the default Loader is unsafe. Please read https://msg.pyyaml.org/load for full details.\n",
      "  data = yaml.load(f.read()) or {}\n",
      "/Users/lvjingzhe/anaconda3/lib/python3.7/site-packages/dask/dataframe/utils.py:13: FutureWarning: pandas.util.testing is deprecated. Use the functions in the public API at pandas.testing instead.\n",
      "  import pandas.util.testing as tm\n",
      "/Users/lvjingzhe/anaconda3/lib/python3.7/site-packages/distributed/config.py:20: YAMLLoadWarning: calling yaml.load() without Loader=... is deprecated, as the default Loader is unsafe. Please read https://msg.pyyaml.org/load for full details.\n",
      "  defaults = yaml.load(f)\n"
     ]
    }
   ],
   "source": [
    "import scipy.stats as st\n",
    "from sympy.solvers import solve\n",
    "from sympy import Symbol\n",
    "from scipy.optimize import fsolve\n",
    "import testjx\n",
    "import numpy as np\n",
    "import cvxopt\n",
    "import cv2\n",
    "import os \n",
    "import random\n",
    "from sklearn.preprocessing import LabelBinarizer\n",
    "import matplotlib.pyplot as plt\n",
    "from cvxopt import matrix\n",
    "from cvxopt import solvers\n",
    "import face_recognition\n",
    "import sklearn.metrics as sm\n",
    "from sklearn.model_selection import cross_val_score\n",
    "from sklearn.model_selection import StratifiedKFold\n",
    "# from scikitplot import plotters as skplt\n",
    "\n",
    "from sklearn.linear_model import LogisticRegression\n",
    "from sklearn.linear_model import RidgeClassifier\n",
    "from sklearn.ensemble import RandomForestClassifier\n",
    "from sklearn.ensemble import AdaBoostClassifier\n",
    "from xgboost import XGBClassifier\n",
    "from sklearn.svm import SVC, LinearSVC\n",
    "import pandas as pd\n",
    "from sklearn import svm\n",
    "from sklearn.metrics import roc_curve, auc\n",
    "import matplotlib.pyplot as plt\n",
    "import seaborn as sns\n",
    "from sklearn.preprocessing import label_binarize\n",
    "from sklearn.metrics import confusion_matrix, classification_report\n",
    "from sklearn.neural_network import MLPClassifier\n",
    "from sklearn.model_selection import train_test_split\n",
    "from sklearn.preprocessing import StandardScaler\n",
    "from sklearn.linear_model import LogisticRegression\n",
    "\n",
    "from statsmodels.discrete.discrete_model import Logit, Probit, MNLogit\n",
    "from pylab import mpl\n",
    "\n",
    "import warnings\n",
    "import matplotlib as mpl\n",
    "warnings.filterwarnings('ignore')\n",
    "from sklearn.metrics import accuracy_score\n",
    "from sklearn.metrics import classification_report\n",
    "from collections import Counter\n",
    "import cv2\n",
    "import os\n",
    "import glob\n",
    "import skimage\n",
    "import numpy as np\n",
    "import pandas as pd\n",
    "import seaborn as sn\n",
    "import preprocessing\n",
    "from tqdm import tqdm\n",
    "from PIL import Image\n",
    "from os import listdir\n",
    "import matplotlib.pyplot as plt\n",
    "from skimage.transform import resize\n",
    "from collections import Counter\n",
    "\n",
    "sn.set()\n",
    "from sklearn.pipeline import make_pipeline\n",
    "from sklearn.pipeline import Pipeline\n",
    "from sklearn.svm import SVC # SVC\n",
    "from sklearn import metrics\n",
    "from sklearn.utils import shuffle\n",
    "from xgboost import XGBClassifier # XGBClassifier\n",
    "from sklearn import metrics\n",
    "from sklearn.metrics import confusion_matrix, classification_report, accuracy_score,f1_score,recall_score,cohen_kappa_score,precision_score\n",
    "from sklearn.utils import compute_class_weight\n",
    "from sklearn.preprocessing import MinMaxScaler,LabelBinarizer\n",
    "from sklearn.ensemble import AdaBoostClassifier # AdaBoostClassifier\n",
    "from sklearn.neighbors import KNeighborsClassifier # KNeighborsClassifier\n",
    "from sklearn.ensemble import RandomForestClassifier # RandomForestClassifier\n",
    "from sklearn.model_selection import train_test_split\n",
    "import tensorflow.compat.v1 as tf\n",
    "from sklearn.preprocessing import LabelEncoder\n",
    "from tensorflow.keras.utils import to_categorical\n",
    "from tensorflow.keras.metrics import AUC\n",
    "from tensorflow.keras.preprocessing import image\n",
    "from tensorflow.keras.models import Model, Sequential\n",
    "from tensorflow.keras.applications.vgg16 import VGG16 # VGG16\n",
    "from tensorflow.keras.applications.vgg19 import VGG19 # VGG19\n",
    "from tensorflow.keras.applications.resnet50 import ResNet50 # ResNet50\n",
    "from tensorflow.keras.applications.xception import Xception # Xception\n",
    "from tensorflow.keras.applications.mobilenet import MobileNet # MobileNet\n",
    "from tensorflow.keras.applications.nasnet import NASNetMobile # NASNetMobile\n",
    "from tensorflow.keras.applications.densenet import DenseNet169 # DenseNet169\n",
    "from tensorflow.keras.applications.densenet import DenseNet121 # DenseNet121\n",
    "from tensorflow.keras.applications.mobilenet_v2 import MobileNetV2 # MobileNetV2\n",
    "from tensorflow.keras.applications.inception_v3 import InceptionV3 # InceptionV3\n",
    "from tensorflow.keras.layers import Input, Dense, Dropout, BatchNormalization, Flatten, Activation, GlobalAveragePooling2D,Conv2D, MaxPooling2D\n",
    "from tensorflow.keras.callbacks import EarlyStopping, ModelCheckpoint"
   ]
  },
  {
   "cell_type": "code",
   "execution_count": 331,
   "metadata": {},
   "outputs": [],
   "source": [
    "files = os.listdir('/Users/lvjingzhe/Downloads/celebA/train/')\n",
    "train = []\n",
    "    \n",
    "for i in range(20000):\n",
    "# for i in range(20000):\n",
    "    img_ = cv2.imread('/Users/lvjingzhe/Downloads/celebA/train/%d.jpg' %(i))\n",
    "\n",
    "    train.append(img_)\n",
    "\n",
    "# files = os.listdir('/Users/lvjingzhe/Downloads/celebA/test/')\n",
    "# test = []\n",
    "    \n",
    "# for i in range(2000,2200):\n",
    "#     img_ = cv2.imread('/Users/lvjingzhe/Downloads/celebA/test/%d.jpg' %(i))\n",
    "\n",
    "#     test.append(img_)"
   ]
  },
  {
   "cell_type": "code",
   "execution_count": 3,
   "metadata": {},
   "outputs": [],
   "source": [
    "from sklearn.model_selection import KFold\n",
    "from sklearn.metrics import fbeta_score\n",
    "from sklearn.metrics import recall_score"
   ]
  },
  {
   "cell_type": "code",
   "execution_count": 4,
   "metadata": {},
   "outputs": [],
   "source": [
    "train_image=np.array(train)\n",
    "train_label=np.concatenate((np.array([0]*19000),np.array([1]*1000)))"
   ]
  },
  {
   "cell_type": "code",
   "execution_count": 9,
   "metadata": {},
   "outputs": [
    {
     "data": {
      "text/plain": [
       "(10,)"
      ]
     },
     "execution_count": 9,
     "metadata": {},
     "output_type": "execute_result"
    }
   ],
   "source": [
    "np.array(img).shape"
   ]
  },
  {
   "cell_type": "code",
   "execution_count": 344,
   "metadata": {},
   "outputs": [
    {
     "data": {
      "text/plain": [
       "<tensorflow.python.keras.engine.training.Model at 0x1d5cc3b0b8>"
      ]
     },
     "execution_count": 344,
     "metadata": {},
     "output_type": "execute_result"
    }
   ],
   "source": [
    "model_feat"
   ]
  },
  {
   "cell_type": "code",
   "execution_count": 20,
   "metadata": {},
   "outputs": [
    {
     "name": "stderr",
     "output_type": "stream",
     "text": [
      "WARNING: Logging before flag parsing goes to stderr.\n",
      "W1013 10:33:21.958698 140736125404032 deprecation.py:506] From /Users/lvjingzhe/anaconda3/lib/python3.7/site-packages/tensorflow/python/ops/init_ops.py:1251: calling VarianceScaling.__init__ (from tensorflow.python.ops.init_ops) with dtype is deprecated and will be removed in a future version.\n",
      "Instructions for updating:\n",
      "Call initializer instance with the dtype argument instead of passing it to the constructor\n"
     ]
    },
    {
     "name": "stdout",
     "output_type": "stream",
     "text": [
      "running time:248.7198269367218\n"
     ]
    }
   ],
   "source": [
    "import time\n",
    "start=time.time()\n",
    "base_model= VGG19( weights='imagenet', include_top=False,input_shape=(64,64,3))\n",
    "x = base_model.output\n",
    "# x = Dropout(0.2)(x)\n",
    "predictions = Flatten()(x)\n",
    "\n",
    "model_feat = Model(inputs=base_model.input,outputs=predictions)\n",
    "\n",
    "train_features = model_feat.predict(train_image/255)\n",
    "# test_features=model_feat.predict(test_image/255)\n",
    "end=time.time()\n",
    "print('running time:{}'.format(end-start))"
   ]
  },
  {
   "cell_type": "code",
   "execution_count": 356,
   "metadata": {},
   "outputs": [
    {
     "data": {
      "text/plain": [
       "(20000, 2048)"
      ]
     },
     "execution_count": 356,
     "metadata": {},
     "output_type": "execute_result"
    }
   ],
   "source": [
    "train_features.shape\n"
   ]
  },
  {
   "cell_type": "code",
   "execution_count": 368,
   "metadata": {},
   "outputs": [],
   "source": [
    "top_model=Sequential()\n",
    "top_model.add(Dense(256,activation='relu'))\n",
    "top_model.add(Dense(2,activation='softmax'))\n",
    "model=Sequential()\n",
    "# model.add(model_feat)\n",
    "model.add(top_model)"
   ]
  },
  {
   "cell_type": "code",
   "execution_count": 390,
   "metadata": {},
   "outputs": [
    {
     "data": {
      "text/plain": [
       "<tensorflow.python.keras.callbacks.History at 0x1dc423e048>"
      ]
     },
     "execution_count": 390,
     "metadata": {},
     "output_type": "execute_result"
    }
   ],
   "source": [
    "##VGG19网络结构\n",
    "import tensorflow as tf\n",
    "from tensorflow import keras\n",
    "METRICS = [\n",
    "    keras.metrics.TruePositives(name='tp'),\n",
    "    keras.metrics.FalsePositives(name='fp'),\n",
    "    keras.metrics.TrueNegatives(name='tn'),\n",
    "    keras.metrics.FalseNegatives(name='fn'), \n",
    "    keras.metrics.BinaryAccuracy(name='accuracy'),\n",
    "    keras.metrics.Precision(name='precision'),\n",
    "    keras.metrics.Recall(name='recall'),\n",
    "    keras.metrics.AUC(name='auc'),\n",
    "]\n",
    "\n",
    "model.compile(\n",
    "            optimizer=keras.optimizers.Adam(lr=1e-3),\n",
    "            loss='categorical_crossentropy'\n",
    "            )\n",
    "model.fit(\n",
    "                        x_tr,y_tr,\n",
    "                        batch_size=2000,\n",
    "                        epochs=1000,verbose=0\n",
    "                       )\n"
   ]
  },
  {
   "cell_type": "code",
   "execution_count": 361,
   "metadata": {},
   "outputs": [],
   "source": [
    "train_features_=model.predict(train_features)"
   ]
  },
  {
   "cell_type": "code",
   "execution_count": 381,
   "metadata": {},
   "outputs": [],
   "source": [
    "x_tr, x_te, y_tr, y_te = train_test_split(train_features,train_label,test_size = 0.2,\n",
    "                                                  shuffle = True,\n",
    "                                                  random_state = 42)"
   ]
  },
  {
   "cell_type": "code",
   "execution_count": 884,
   "metadata": {},
   "outputs": [
    {
     "data": {
      "text/plain": [
       "20.0"
      ]
     },
     "execution_count": 884,
     "metadata": {},
     "output_type": "execute_result"
    }
   ],
   "source": [
    "16000/800\n"
   ]
  },
  {
   "cell_type": "code",
   "execution_count": 382,
   "metadata": {},
   "outputs": [],
   "source": [
    "X_test=np.c_[x_te,np.ones(x_te.shape[0])]"
   ]
  },
  {
   "cell_type": "code",
   "execution_count": 772,
   "metadata": {},
   "outputs": [],
   "source": [
    "err=(y_tr-s.sigmoid(np.dot(X_train,w)))**2\n",
    "err[index]=2.6*err[index]\n",
    "def split(x):\n",
    "    n=y_tr[y_tr==1].shape[0]\n",
    "    m=int((X_train.shape[0]-n)/19)\n",
    "    indice=[k*m for k in range(1,19)]\n",
    "    indice.append(X_train.shape[0]-n)\n",
    "    x_c=np.concatenate((x[y_tr==0],x[y_tr==1]))\n",
    "    return np.array(np.split(x_c,indice))\n",
    "[np.sum(split(err)[i]) for i in range(20)]"
   ]
  },
  {
   "cell_type": "code",
   "execution_count": 741,
   "metadata": {},
   "outputs": [],
   "source": [
    "# x_boost=np.concatenate((x_no,x_tr))\n",
    "# y_boost=np.concatenate((y_no,y_tr))\n",
    "X_train=np.c_[x_tr,np.ones(x_tr.shape[0])]\n",
    "n=y_tr[y_tr==1].shape[0]\n",
    "XX=np.concatenate((X_train[y_tr==0],X_train[y_tr==1]))\n",
    "YY=np.concatenate((np.array([0]*(X_train.shape[0]-n)),np.array([1]*n)))\n",
    "m=int((X_train.shape[0]-n)/19)\n",
    "indice=[k*m for k in range(1,19)]\n",
    "indice.append(X_train.shape[0]-n)\n",
    "# X_train=np.c_[x_boost,np.ones(x_boost.shape[0])]\n",
    "# n=y_boost[y_boost==1].shape[0]\n",
    "# XX=np.concatenate((X_train[y_boost==0],X_train[y_boost==1]))\n",
    "# YY=np.concatenate((np.array([0]*(X_train.shape[0]-n)),np.array([1]*n)))\n",
    "# m=int((X_train.shape[0]-n)/19)\n",
    "# indice=[k*m for k in range(1,19)]\n",
    "# indice.append(X_train.shape[0]-n)\n",
    "pre_XX=np.array(np.split(XX,indice))\n",
    "pre_YY=np.array(np.split(YY,indice))"
   ]
  },
  {
   "cell_type": "code",
   "execution_count": 886,
   "metadata": {},
   "outputs": [
    {
     "data": {
      "text/plain": [
       "4098"
      ]
     },
     "execution_count": 886,
     "metadata": {},
     "output_type": "execute_result"
    }
   ],
   "source": [
    "2049*2"
   ]
  },
  {
   "cell_type": "code",
   "execution_count": 384,
   "metadata": {},
   "outputs": [],
   "source": [
    "from sklearn.model_selection import cross_val_score\n",
    "from sklearn.model_selection import RepeatedStratifiedKFold\n",
    "from sklearn.metrics import roc_auc_score\n",
    "cv= RepeatedStratifiedKFold(n_splits=5, n_repeats=1, random_state=0)"
   ]
  },
  {
   "cell_type": "code",
   "execution_count": null,
   "metadata": {},
   "outputs": [],
   "source": [
    "def max_mean_loss(y_true, y_probs,penalty = None):\n",
    "    n=y_true[y_true==1].shape[0]\n",
    "    XX=tf.concat((X_train[y_tr==0],X_train[y_tr==1]))\n",
    "    YY=np.concatenate((np.array([0]*(X_train.shape[0]-n)),np.array([1]*n)))\n",
    "    m=int((X_train.shape[0]-n)/19)\n",
    "    indice=[k*m for k in range(1,19)]\n",
    "    indice.append(X_train.shape[0]-n)\n",
    "    pre_XX=np.array(np.split(XX,indice))\n",
    "    pre_YY=np.array(np.split(YY,indice))\n",
    "\n",
    "    f=tf.reduce_max([tf.reduce_mean((y_probs-y_true)**2 ) for x,y in zip(pre_XX,pre_YY)])\n"
   ]
  },
  {
   "cell_type": "code",
   "execution_count": null,
   "metadata": {},
   "outputs": [],
   "source": []
  },
  {
   "cell_type": "code",
   "execution_count": null,
   "metadata": {},
   "outputs": [],
   "source": []
  },
  {
   "cell_type": "markdown",
   "metadata": {},
   "source": [
    "## 经典模型：LR、CS_LR、AUSTBOOST、BAGGING"
   ]
  },
  {
   "cell_type": "code",
   "execution_count": 687,
   "metadata": {},
   "outputs": [],
   "source": [
    "class LogisticRegression_:\n",
    "    \n",
    "    #默认没有正则化，正则项参数默认为1，学习率默认为0.001，迭代次数为10001次\n",
    "    def __init__(self,penalty = None,Lambda = 0.03,a = 0.1,epochs = 200):\n",
    "        self.W = None\n",
    "        self.penalty = penalty\n",
    "        self.Lambda = Lambda\n",
    "        self.a = a\n",
    "        self.epochs =epochs\n",
    "        self.sigmoid = lambda x:1/(1 + np.exp(-x))\n",
    "        \n",
    "    def loss(self,x,y):\n",
    "        m=x.shape[0]\n",
    "        y_pred = self.sigmoid(x.dot(self.W))\n",
    "        return (-1/m) * np.sum((y*np.log(y_pred) + (1-y)*np.log(1-y_pred)))\n",
    "    \n",
    "    def fit(self,x,y):\n",
    "        lossList = []\n",
    "        #计算总数据量\n",
    "        m = x.shape[0]\n",
    "        #给x添加偏置项\n",
    "        \n",
    "        #计算总特征数\n",
    "        n = x.shape[1]\n",
    "        #初始化W的值,要变成矩阵形式\n",
    "        np.random.seed(3421)\n",
    "        self.W = np.ones((n,1))\n",
    "        #X转为矩阵形式\n",
    "       \n",
    "        #y转为矩阵形式，这步非常重要,且要是m x 1的维度格式\n",
    "        y_=y.reshape((-1,1))\n",
    "        #循环epochs次\n",
    "        for i in range(self.epochs):\n",
    "            #预测值\n",
    "            h = self.sigmoid(x.dot(self.W))\n",
    "            gradient = (x.T).dot(h - y_)/m\n",
    "            \n",
    "            \n",
    "            #加入l1和l2正则项，和之前的线性回归正则化一样\n",
    "            if self.penalty == 'l2':\n",
    "                gradient = gradient + self.Lambda * self.W\n",
    "            elif self.penalty == 'l1':\n",
    "                gradient = gradient + self.Lambda * np.sign(self.W)\n",
    "          \n",
    "            self.W = self.W-self.a * gradient\n",
    "            if i % 50 == 0:\n",
    "                lossList.append(self.loss(x,y_))\n",
    "\t\t#返回系数，和损失列表\n",
    "        return self.W,lossList"
   ]
  },
  {
   "cell_type": "code",
   "execution_count": 688,
   "metadata": {},
   "outputs": [
    {
     "name": "stdout",
     "output_type": "stream",
     "text": [
      "测试集f1：34.27%\n",
      "训练集准确率：93.88%\n",
      "测试集准确率：94.15%\n",
      "              precision    recall  f1-score   support\n",
      "\n",
      "           0       0.97      0.97      0.97      3812\n",
      "           1       0.36      0.32      0.34       188\n",
      "\n",
      "    accuracy                           0.94      4000\n",
      "   macro avg       0.66      0.65      0.66      4000\n",
      "weighted avg       0.94      0.94      0.94      4000\n",
      "\n",
      "              precision    recall  f1-score   support\n",
      "\n",
      "           0       0.97      0.97      0.97     15188\n",
      "           1       0.39      0.38      0.39       812\n",
      "\n",
      "    accuracy                           0.94     16000\n",
      "   macro avg       0.68      0.68      0.68     16000\n",
      "weighted avg       0.94      0.94      0.94     16000\n",
      "\n",
      "运行时间:5.17秒\n"
     ]
    }
   ],
   "source": [
    "lr = LogisticRegression_()\n",
    "import time\n",
    "start=time.time()\n",
    "\n",
    "\n",
    "w_mle,lossList = lr.fit(X_train,y_tr)\n",
    "y_train_pred=lr.sigmoid(X_train.dot(w_mle))\n",
    "y_pred=lr.sigmoid(X_test.dot(w_mle))\n",
    "y_train_pred[y_train_pred>=0.5]=1\n",
    "y_train_pred[y_train_pred<0.5]=0\n",
    "y_pred[y_pred>=0.5]=1\n",
    "y_pred[y_pred<0.5]=0\n",
    "\n",
    "print('测试集f1：{:.2%}'.format(f1_score(y_te,y_pred)))    \n",
    "print('训练集准确率：{:.2%}'.format(accuracy_score(y_tr,y_train_pred)))\n",
    "print('测试集准确率：{:.2%}'.format(accuracy_score(y_te,y_pred)))\n",
    "print(classification_report(y_te,y_pred))\n",
    "print(classification_report(y_tr,y_train_pred))\n",
    "end=time.time()\n",
    "print(\"运行时间:%.2f秒\"%(end-start))\n",
    "# confusion_matrix(train_label_,y_train_pred)\n"
   ]
  },
  {
   "cell_type": "code",
   "execution_count": 1029,
   "metadata": {},
   "outputs": [
    {
     "name": "stdout",
     "output_type": "stream",
     "text": [
      "AUC:0.9712986425844479\n",
      "              precision    recall  f1-score   support\n",
      "\n",
      "           0       0.98      0.99      0.99      3812\n",
      "           1       0.80      0.69      0.74       188\n",
      "\n",
      "    accuracy                           0.98      4000\n",
      "   macro avg       0.89      0.84      0.86      4000\n",
      "weighted avg       0.98      0.98      0.98      4000\n",
      "\n",
      "运行时间:3.22秒\n",
      "训练集准确率：99.12%\n",
      "测试集准确率：97.72%\n",
      "              precision    recall  f1-score   support\n",
      "\n",
      "           0       0.99      1.00      1.00     15188\n",
      "           1       0.98      0.85      0.91       812\n",
      "\n",
      "    accuracy                           0.99     16000\n",
      "   macro avg       0.99      0.92      0.95     16000\n",
      "weighted avg       0.99      0.99      0.99     16000\n",
      "\n"
     ]
    }
   ],
   "source": [
    "import time\n",
    "start=time.time()\n",
    "model_in=LogisticRegression()\n",
    "# model_in.fit(pt.fit_transform(train_image_),train_label_)\n",
    "model_in.fit(x_tr,y_tr)\n",
    "end=time.time()\n",
    "y_train_proba=model_in.predict_proba(x_tr)\n",
    "y_train_label=model_in.predict(x_tr)\n",
    "y_test_proba=model_in.predict_proba(x_te)\n",
    "print('AUC:{}'.format(roc_auc_score(y_te,y_test_proba[:,-1])))\n",
    "y_test_label=model_in.predict(x_te)\n",
    "# y_test_proba=model_in.predict_proba(image_test)\n",
    "# y_test_label=model_in.predict(image_test)\n",
    "\n",
    "from sklearn.metrics import classification_report\n",
    "print(classification_report(y_te,y_test_label))\n",
    "print(\"运行时间:%.2f秒\"%(end-start))\n",
    "from sklearn.metrics import accuracy_score\n",
    "print('训练集准确率：{:.2%}'.format(accuracy_score(y_train_label,y_tr)))\n",
    "print('测试集准确率：{:.2%}'.format(accuracy_score(y_test_label,y_te)))\n",
    "print(classification_report(y_tr,y_train_label))"
   ]
  },
  {
   "cell_type": "code",
   "execution_count": 606,
   "metadata": {},
   "outputs": [
    {
     "name": "stdout",
     "output_type": "stream",
     "text": [
      "AUC:0.9124852090821818\n",
      "              precision    recall  f1-score   support\n",
      "\n",
      "           0       1.00      0.64      0.78      3812\n",
      "           1       0.11      0.95      0.20       188\n",
      "\n",
      "    accuracy                           0.65      4000\n",
      "   macro avg       0.56      0.79      0.49      4000\n",
      "weighted avg       0.95      0.65      0.75      4000\n",
      "\n",
      "运行时间:0.75秒\n",
      "训练集准确率：65.26%\n",
      "测试集准确率：65.22%\n"
     ]
    }
   ],
   "source": [
    "##LR+RUS\n",
    "import time\n",
    "start=time.time()\n",
    "model_in=LogisticRegression()\n",
    "# model_in.fit(pt.fit_transform(train_image_),train_label_)\n",
    "model_in.fit(X_resampled_2,y_resampled_2)\n",
    "y_train_proba=model_in.predict_proba(x_tr)\n",
    "y_train_label=model_in.predict(x_tr)\n",
    "y_test_proba=model_in.predict_proba(x_te)\n",
    "print('AUC:{}'.format(roc_auc_score(y_te,y_test_proba[:,-1])))\n",
    "y_test_label=model_in.predict(x_te)\n",
    "# y_test_proba=model_in.predict_proba(image_test)\n",
    "# y_test_label=model_in.predict(image_test)\n",
    "end=time.time()\n",
    "from sklearn.metrics import classification_report\n",
    "print(classification_report(y_te,y_test_label))\n",
    "print(\"运行时间:%.2f秒\"%(end-start))\n",
    "from sklearn.metrics import accuracy_score\n",
    "print('训练集准确率：{:.2%}'.format(accuracy_score(y_train_label,y_tr)))\n",
    "print('测试集准确率：{:.2%}'.format(accuracy_score(y_test_label,y_te)))"
   ]
  },
  {
   "cell_type": "code",
   "execution_count": 608,
   "metadata": {},
   "outputs": [
    {
     "name": "stdout",
     "output_type": "stream",
     "text": [
      "AUC:0.9681311535799603\n",
      "              precision    recall  f1-score   support\n",
      "\n",
      "           0       0.99      0.97      0.98      3812\n",
      "           1       0.60      0.80      0.69       188\n",
      "\n",
      "    accuracy                           0.97      4000\n",
      "   macro avg       0.80      0.89      0.84      4000\n",
      "weighted avg       0.97      0.97      0.97      4000\n",
      "\n",
      "运行时间:6.40秒\n",
      "训练集准确率：98.51%\n",
      "测试集准确率：96.60%\n"
     ]
    }
   ],
   "source": [
    "##LR+SMOTE采样\n",
    "import time\n",
    "start=time.time()\n",
    "model_in=LogisticRegression()\n",
    "# model_in.fit(pt.fit_transform(train_image_),train_label_)\n",
    "model_in.fit(X_resampled_smote,y_resampled_smote\n",
    "            )\n",
    "y_train_proba=model_in.predict_proba(x_tr)\n",
    "y_train_label=model_in.predict(x_tr)\n",
    "y_test_proba=model_in.predict_proba(x_te)\n",
    "print('AUC:{}'.format(roc_auc_score(y_te,y_test_proba[:,-1])))\n",
    "y_test_label=model_in.predict(x_te)\n",
    "# y_test_proba=model_in.predict_proba(image_test)\n",
    "# y_test_label=model_in.predict(image_test)\n",
    "end=time.time()\n",
    "from sklearn.metrics import classification_report\n",
    "print(classification_report(y_te,y_test_label))\n",
    "print(\"运行时间:%.2f秒\"%(end-start))\n",
    "from sklearn.metrics import accuracy_score\n",
    "print('训练集准确率：{:.2%}'.format(accuracy_score(y_train_label,y_tr)))\n",
    "print('测试集准确率：{:.2%}'.format(accuracy_score(y_test_label,y_te)))"
   ]
  },
  {
   "cell_type": "code",
   "execution_count": 399,
   "metadata": {},
   "outputs": [
    {
     "name": "stdout",
     "output_type": "stream",
     "text": [
      "AUC:0.9706093299993303\n",
      "              precision    recall  f1-score   support\n",
      "\n",
      "           0       0.99      0.97      0.98      3812\n",
      "           1       0.55      0.84      0.67       188\n",
      "\n",
      "    accuracy                           0.96      4000\n",
      "   macro avg       0.77      0.90      0.82      4000\n",
      "weighted avg       0.97      0.96      0.96      4000\n",
      "\n",
      "运行时间:3.43秒\n",
      "训练集准确率：97.88%\n",
      "测试集准确率：90.36%\n",
      "测试集F2：76.18%\n"
     ]
    }
   ],
   "source": [
    "##LR+cost-learning\n",
    "import time\n",
    "start=time.time()\n",
    "model_cs=LogisticRegression(class_weight='balanced')\n",
    "# model_in.fit(pt.fit_transform(train_image_),train_label_)\n",
    "model_cs.fit(x_tr,y_tr)\n",
    "y_train_proba=model_cs.predict_proba(x_tr)\n",
    "y_train_label=model_cs.predict(x_tr)\n",
    "y_test_proba=model_cs.predict_proba(x_te)\n",
    "print('AUC:{}'.format(roc_auc_score(y_te,y_test_proba[:,-1])))\n",
    "y_test_label=model_cs.predict(x_te)\n",
    "# y_test_proba=model_in.predict_proba(image_test)\n",
    "# y_test_label=model_in.predict(image_test)\n",
    "end=time.time()\n",
    "from sklearn.metrics import classification_report\n",
    "print(classification_report(y_te,y_test_label))\n",
    "print(\"运行时间:%.2f秒\"%(end-start))\n",
    "from sklearn.metrics import accuracy_score\n",
    "print('训练集准确率：{:.2%}'.format(accuracy_score(y_train_label,y_tr)))\n",
    "print('测试集准确率：{:.2%}'.format(balanced_accuracy_score(y_te,y_test_label)))\n",
    "print('测试集F2：{:.2%}'.format(fbeta_score(y_te,y_test_label,beta=2)))\n"
   ]
  },
  {
   "cell_type": "code",
   "execution_count": 978,
   "metadata": {},
   "outputs": [
    {
     "data": {
      "text/plain": [
       "(0.48404255319148937,\n",
       " 0.7417589471099104,\n",
       " 0.5108086348007167,\n",
       " 0.5788700450340388,\n",
       " 0.5202870298634)"
      ]
     },
     "execution_count": 978,
     "metadata": {},
     "output_type": "execute_result"
    }
   ],
   "source": [
    "from sklearn.metrics import fbeta_score\n",
    "import time\n",
    "start=time.time()\n",
    "model_svc=SVC(probability=True)\n",
    "# model_in.fit(pt.fit_transform(train_image_),train_label_)\n",
    "# model_svc.fit(x_tr,y_tr)\n",
    "# end=time.time()\n",
    "# y_train_proba=model_svc.predict_proba(x_tr)\n",
    "# y_train_label=model_svc.predict(x_tr)\n",
    "# y_test_proba=model_svc.predict_proba(x_te)\n",
    "# print('AUC:{}'.format(roc_auc_score(y_te,y_test_proba[:,-1])))\n",
    "# y_test_label=model_svc.predict(x_te)\n",
    "# # y_test_proba=model_in.predict_proba(image_test)\n",
    "# # y_test_label=model_in.predict(image_test)\n",
    "\n",
    "# from sklearn.metrics import classification_report\n",
    "# print(classification_report(y_te,y_test_label))\n",
    "# print(\"运行时间:%.2f秒\"%(end-start))\n",
    "# from sklearn.metrics import accuracy_score\n",
    "# print('训练集准确率：{:.2%}'.format(accuracy_score(y_train_label,y_tr)))\n",
    "# bacc=balanced_accuracy_score(y_te,y_test_label)\n",
    "# fbeta=fbeta_score(y_te,y_test_label,beta=2.94)\n",
    "# recall=recall_score(y_te,y_test_label)\n",
    "recall,bacc,fbeta,np.mean([recall,bacc,fbeta]),0.9*np.mean([recall,bacc,fbeta])+0.1/(end-start)"
   ]
  },
  {
   "cell_type": "code",
   "execution_count": 1000,
   "metadata": {},
   "outputs": [
    {
     "data": {
      "text/plain": [
       "-143.67595887183447"
      ]
     },
     "execution_count": 1000,
     "metadata": {},
     "output_type": "execute_result"
    }
   ],
   "source": [
    " 0.1/(0.5202870298634-0.9*0.5788700450340388)"
   ]
  },
  {
   "cell_type": "code",
   "execution_count": 990,
   "metadata": {},
   "outputs": [],
   "source": [
    "from imblearn.over_sampling import RandomOverSampler,SVMSMOTE\n",
    "from imblearn.under_sampling import RandomUnderSampler\n",
    "rus = RandomUnderSampler(random_state=0)\n",
    "\n",
    "X_resampled, y_resampled = rus.fit_resample(x_tr,y_tr)"
   ]
  },
  {
   "cell_type": "code",
   "execution_count": 997,
   "metadata": {},
   "outputs": [],
   "source": [
    "import time\n",
    "start=time.time()\n",
    "# model_smsvc=SVMSMOTE()\n",
    "# model_in.fit(pt.fit_transform(train_image_),train_label_)\n",
    "X_svm, y_svm=SVMSMOTE().fit_resample(x_tr,y_tr)\n",
    "end=time.time()\n",
    "# y_train_proba=model_smsvc.predict_proba(x_tr)\n",
    "# y_train_label=model_smsvc.predict(x_tr)\n",
    "# # y_test_proba=model_svc.predict_proba(x_te)\n",
    "# # print('AUC:{}'.format(roc_auc_score(y_te,y_test_proba[:,-1])))\n",
    "# y_test_label=model_smsvc.predict(x_te)\n",
    "# # y_test_proba=model_in.predict_proba(image_test)\n",
    "# # y_test_label=model_in.predict(image_test)\n",
    "\n",
    "# # from sklearn.metrics import classification_report\n",
    "# # print(classification_report(y_te,y_test_label))\n",
    "# # print(\"运行时间:%.2f秒\"%(end-start))\n",
    "# # from sklearn.metrics import accuracy_score\n",
    "# # print('训练集准确率：{:.2%}'.format(accuracy_score(y_train_label,y_tr)))\n",
    "# # print('测试集准确率：{:.2%}'.format(accuracy_score(y_test_label,y_te)))\n",
    "# bacc=balanced_accuracy_score(y_te,y_test_label)\n",
    "# fbeta=fbeta_score(y_te,y_test_label,beta=2.94)\n",
    "# recall=recall_score(y_te,y_test_label)\n",
    "# recall,bacc,fbeta,end-start,np.mean([recall,bacc,fbeta]),0.9*np.mean([recall,bacc,fbeta])+0.1/(end-start)"
   ]
  },
  {
   "cell_type": "code",
   "execution_count": 991,
   "metadata": {},
   "outputs": [
    {
     "name": "stdout",
     "output_type": "stream",
     "text": [
      "AUC:0.9571691299591436\n"
     ]
    },
    {
     "data": {
      "text/plain": [
       "(0.9042553191489362,\n",
       " 0.8931035252617714,\n",
       " 0.7302513749685523,\n",
       " 0.8425367397930866,\n",
       " 0.7732116405727901)"
      ]
     },
     "execution_count": 991,
     "metadata": {},
     "output_type": "execute_result"
    }
   ],
   "source": [
    "##SVM\n",
    "import time\n",
    "start=time.time()\n",
    "model_svc=SVC(gamma='scale',probability=True)\n",
    "# model_in.fit(pt.fit_transform(train_image_),train_label_)\n",
    "model_svc.fit(X_resampled, y_resampled)\n",
    "end=time.time()\n",
    "y_train_proba=model_svc.predict_proba(x_tr)\n",
    "y_train_label=model_svc.predict(x_tr)\n",
    "y_test_proba=model_svc.predict_proba(x_te)\n",
    "print('AUC:{}'.format(roc_auc_score(y_te,y_test_proba[:,-1])))\n",
    "y_test_label=model_svc.predict(x_te)\n",
    "# y_test_proba=model_in.predict_proba(image_test)\n",
    "# y_test_label=model_in.predict(image_test)\n",
    "\n",
    "# from sklearn.metrics import classification_report\n",
    "# print(classification_report(y_te,y_test_label))\n",
    "# print(\"运行时间:%.2f秒\"%(end-start))\n",
    "# from sklearn.metrics import accuracy_score\n",
    "# print('训练集准确率：{:.2%}'.format(accuracy_score(y_train_label,y_tr)))\n",
    "# print('测试集准确率：{:.2%}'.format(accuracy_score(y_test_label,y_te)))\n",
    "bacc=balanced_accuracy_score(y_te,y_test_label)\n",
    "fbeta=fbeta_score(y_te,y_test_label,beta=2.94)\n",
    "recall=recall_score(y_te,y_test_label)\n",
    "recall,bacc,fbeta,np.mean([recall,bacc,fbeta]),0.9*np.mean([recall,bacc,fbeta])+0.1/(end-start)"
   ]
  },
  {
   "cell_type": "code",
   "execution_count": 981,
   "metadata": {},
   "outputs": [
    {
     "name": "stdout",
     "output_type": "stream",
     "text": [
      "AUC:0.9679511509008507\n"
     ]
    },
    {
     "data": {
      "text/plain": [
       "(0.7819148936170213,\n",
       " 0.8748241834297068,\n",
       " 0.7480799967577783,\n",
       " 0.8016063579348355,\n",
       " 0.7215203834059092)"
      ]
     },
     "execution_count": 981,
     "metadata": {},
     "output_type": "execute_result"
    }
   ],
   "source": [
    "##SVM+cost-learning\n",
    "import time\n",
    "start=time.time()\n",
    "model_svc3=SVC(class_weight='balanced',probability=True)\n",
    "# model_in.fit(pt.fit_transform(train_image_),train_label_)\n",
    "model_svc3.fit(X_resampled_smote,y_resampled_smote)\n",
    "end=time.time()\n",
    "y_train_proba=model_svc3.predict_proba(x_tr)\n",
    "y_train_label=model_svc3.predict(x_tr)\n",
    "y_test_proba=model_svc3.predict_proba(x_te)\n",
    "print('AUC:{}'.format(roc_auc_score(y_te,y_test_proba[:,-1])))\n",
    "y_test_label=model_svc3.predict(x_te)\n",
    "# y_test_proba=model_in.predict_proba(image_test)\n",
    "# y_test_label=model_in.predict(image_test)\n",
    "\n",
    "# from sklearn.metrics import classification_report\n",
    "# print(classification_report(y_te,y_test_label))\n",
    "print(\"运行时间:%.2f秒\"%(end-start))\n",
    "# from sklearn.metrics import accuracy_score\n",
    "# print('训练集准确率：{:.2%}'.format(accuracy_score(y_train_label,y_tr)))\n",
    "# print('测试集准确率：{:.2%}'.format(accuracy_score(y_test_label,y_te)))\n",
    "bacc=balanced_accuracy_score(y_te,y_test_label)\n",
    "fbeta=fbeta_score(y_te,y_test_label,beta=2.94)\n",
    "recall=recall_score(y_te,y_test_label)\n",
    "recall,bacc,fbeta,np.mean([recall,bacc,fbeta]),0.9*np.mean([recall,bacc,fbeta])+0.1/(end-start)"
   ]
  },
  {
   "cell_type": "code",
   "execution_count": 1001,
   "metadata": {},
   "outputs": [
    {
     "data": {
      "text/plain": [
       "178.57142857142702"
      ]
     },
     "execution_count": 1001,
     "metadata": {},
     "output_type": "execute_result"
    }
   ],
   "source": [
    "0.1/(0.722-0.9*0.8016)"
   ]
  },
  {
   "cell_type": "code",
   "execution_count": 611,
   "metadata": {},
   "outputs": [
    {
     "name": "stdout",
     "output_type": "stream",
     "text": [
      "AUC:0.9226044294612757\n",
      "              precision    recall  f1-score   support\n",
      "\n",
      "           0       0.99      0.89      0.94      3812\n",
      "           1       0.26      0.78      0.39       188\n",
      "\n",
      "    accuracy                           0.88      4000\n",
      "   macro avg       0.62      0.83      0.66      4000\n",
      "weighted avg       0.95      0.88      0.91      4000\n",
      "\n",
      "运行时间:8.00秒\n",
      "训练集准确率：88.24%\n",
      "测试集准确率：88.45%\n",
      "测试集Bacc：83.32%\n",
      "测试集f2：55.39%\n"
     ]
    }
   ],
   "source": [
    "##RUSBoost\n",
    "rusb = RUSBoostClassifier(random_state=0)\n",
    "start=time.time()\n",
    "rusb.fit(x_tr,y_tr)\n",
    "end=time.time()\n",
    "y_train_proba=rusb.predict_proba(x_tr)\n",
    "y_train_label=rusb.predict(x_tr)\n",
    "y_test_proba=rusb.predict_proba(x_te)\n",
    "print('AUC:{}'.format(roc_auc_score(y_te,y_test_proba[:,-1])))\n",
    "y_test_label=rusb.predict(x_te)\n",
    "# y_test_proba=model_in.predict_proba(image_test)\n",
    "# y_test_label=model_in.predict(image_test)\n",
    "\n",
    "from sklearn.metrics import classification_report\n",
    "print(classification_report(y_te,y_test_label))\n",
    "print(\"运行时间:%.2f秒\"%(end-start))\n",
    "from sklearn.metrics import accuracy_score\n",
    "print('训练集准确率：{:.2%}'.format(accuracy_score(y_train_label,y_tr)))\n",
    "print('测试集准确率：{:.2%}'.format(accuracy_score(y_test_label,y_te)))\n",
    "print('测试集Bacc：{:.2%}'.format(balanced_accuracy_score(y_te,y_test_label)))\n",
    "print('测试集f2：{:.2%}'.format(fbeta_score(y_te,y_test_label,beta=2)))\n"
   ]
  },
  {
   "cell_type": "code",
   "execution_count": 401,
   "metadata": {},
   "outputs": [
    {
     "name": "stdout",
     "output_type": "stream",
     "text": [
      "running time:32.30\n"
     ]
    },
    {
     "data": {
      "text/plain": [
       "(0.8080265564344952,\n",
       " 0.5270484509220623,\n",
       " 0.8950115910432659,\n",
       " 0.7364765583579489,\n",
       " 0.2468441481666342)"
      ]
     },
     "execution_count": 401,
     "metadata": {},
     "output_type": "execute_result"
    }
   ],
   "source": [
    "from imblearn.ensemble import RUSBoostClassifier\n",
    "rusb = RUSBoostClassifier(random_state=0)\n",
    "\n",
    "rec,pre,auc,bacc,f2=list(),list(),list(),list(),list()\n",
    "start=time.time()\n",
    "for train_index,test_index in cv.split(x_tr, y_tr):\n",
    "            \n",
    "            rusb.fit(x_tr[train_index], y_tr[train_index])\n",
    "            prdict_y=rusb.predict(x_tr[test_index])\n",
    "            prob_y=rusb.predict_proba(x_tr[test_index])\n",
    "            rec.append(recall_score(y_tr[test_index],prdict_y))\n",
    "            pre.append(precision_score(y_tr[test_index],prdict_y))\n",
    "            auc.append(roc_auc_score(y_tr[test_index],prob_y[:,-1]))\n",
    "            bacc.append(balanced_accuracy_score(y_tr[test_index],prdict_y))\n",
    "            f2.append(fbeta_score(y_tr[test_index],prdict_y,beta=2))\n",
    "end=time.time()\n",
    "print('running time:%.2f'%(end-start))  \n",
    "np.mean(bacc),np.mean(f2),np.mean(auc),np.mean(rec),np.mean(pre)"
   ]
  },
  {
   "cell_type": "code",
   "execution_count": 1011,
   "metadata": {},
   "outputs": [
    {
     "name": "stdout",
     "output_type": "stream",
     "text": [
      "AUC:0.9706037485209084\n",
      "              precision    recall  f1-score   support\n",
      "\n",
      "           0       0.98      0.99      0.99      3812\n",
      "           1       0.78      0.69      0.73       188\n",
      "\n",
      "    accuracy                           0.98      4000\n",
      "   macro avg       0.88      0.84      0.86      4000\n",
      "weighted avg       0.98      0.98      0.98      4000\n",
      "\n",
      "运行时间:24.92秒\n",
      "训练集准确率：100.00%\n",
      "测试集准确率：97.62%\n",
      "测试集Bacc：84.09%\n",
      "测试集f2：69.96%\n"
     ]
    }
   ],
   "source": [
    "##MLP\n",
    "from sklearn.neural_network import MLPClassifier\n",
    "mlp=MLPClassifier(random_state=0, max_iter=200,hidden_layer_sizes=(50,))\n",
    "start=time.time()\n",
    "\n",
    "\n",
    "mlp.fit(x_tr,y_tr)\n",
    "end=time.time()\n",
    "y_train_proba=mlp.predict_proba(x_tr)\n",
    "y_train_label=mlp.predict(x_tr)\n",
    "y_test_proba=mlp.predict_proba(x_te)\n",
    "print('AUC:{}'.format(roc_auc_score(y_te,y_test_proba[:,-1])))\n",
    "y_test_label=mlp.predict(x_te)\n",
    "# y_test_proba=model_in.predict_proba(image_test)\n",
    "# y_test_label=model_in.predict(image_test)\n",
    "\n",
    "from sklearn.metrics import classification_report\n",
    "print(classification_report(y_te,y_test_label))\n",
    "print(\"运行时间:%.2f秒\"%(end-start))\n",
    "from sklearn.metrics import accuracy_score\n",
    "print('训练集准确率：{:.2%}'.format(accuracy_score(y_train_label,y_tr)))\n",
    "print('测试集准确率：{:.2%}'.format(accuracy_score(y_test_label,y_te)))\n",
    "print('测试集Bacc：{:.2%}'.format(balanced_accuracy_score(y_te,y_test_label)))\n",
    "print('测试集f2：{:.2%}'.format(fbeta_score(y_te,y_test_label,beta=2.94)))\n"
   ]
  },
  {
   "cell_type": "code",
   "execution_count": 1013,
   "metadata": {},
   "outputs": [
    {
     "data": {
      "text/plain": [
       "0.6731666666666666"
      ]
     },
     "execution_count": 1013,
     "metadata": {},
     "output_type": "execute_result"
    }
   ],
   "source": [
    "(0.69+0.7+0.84)*0.3+0.1/24"
   ]
  },
  {
   "cell_type": "code",
   "execution_count": 1014,
   "metadata": {},
   "outputs": [
    {
     "name": "stdout",
     "output_type": "stream",
     "text": [
      "AUC:0.9689083744502244\n",
      "              precision    recall  f1-score   support\n",
      "\n",
      "           0       0.99      0.99      0.99      3812\n",
      "           1       0.72      0.73      0.72       188\n",
      "\n",
      "    accuracy                           0.97      4000\n",
      "   macro avg       0.85      0.86      0.86      4000\n",
      "weighted avg       0.97      0.97      0.97      4000\n",
      "\n",
      "运行时间:21.01秒\n",
      "训练集准确率：100.00%\n",
      "测试集准确率：97.38%\n",
      "测试集Bacc：85.98%\n",
      "测试集f2：73.20%\n"
     ]
    }
   ],
   "source": [
    "##MLP+SMOTE\n",
    "from sklearn.neural_network import MLPClassifier\n",
    "mlp=MLPClassifier(random_state=0, max_iter=200,hidden_layer_sizes=(50,))\n",
    "start=time.time()\n",
    "\n",
    "\n",
    "mlp.fit(X_resampled_smote,y_resampled_smote)\n",
    "end=time.time()\n",
    "y_train_proba=mlp.predict_proba(x_tr)\n",
    "y_train_label=mlp.predict(x_tr)\n",
    "y_test_proba=mlp.predict_proba(x_te)\n",
    "print('AUC:{}'.format(roc_auc_score(y_te,y_test_proba[:,-1])))\n",
    "y_test_label=mlp.predict(x_te)\n",
    "# y_test_proba=model_in.predict_proba(image_test)\n",
    "# y_test_label=model_in.predict(image_test)\n",
    "\n",
    "from sklearn.metrics import classification_report\n",
    "print(classification_report(y_te,y_test_label))\n",
    "print(\"运行时间:%.2f秒\"%(end-start))\n",
    "from sklearn.metrics import accuracy_score\n",
    "print('训练集准确率：{:.2%}'.format(accuracy_score(y_train_label,y_tr)))\n",
    "print('测试集准确率：{:.2%}'.format(accuracy_score(y_test_label,y_te)))\n",
    "print('测试集Bacc：{:.2%}'.format(balanced_accuracy_score(y_te,y_test_label)))\n",
    "print('测试集f2：{:.2%}'.format(fbeta_score(y_te,y_test_label,beta=2.94)))\n"
   ]
  },
  {
   "cell_type": "code",
   "execution_count": 1016,
   "metadata": {},
   "outputs": [
    {
     "data": {
      "text/plain": [
       "0.7010619047619047"
      ]
     },
     "execution_count": 1016,
     "metadata": {},
     "output_type": "execute_result"
    }
   ],
   "source": [
    "(0.732+0.73+0.859)*0.3+0.1/21"
   ]
  },
  {
   "cell_type": "code",
   "execution_count": 1012,
   "metadata": {},
   "outputs": [
    {
     "name": "stdout",
     "output_type": "stream",
     "text": [
      "AUC:0.9649999441852157\n",
      "              precision    recall  f1-score   support\n",
      "\n",
      "           0       1.00      0.89      0.94      3812\n",
      "           1       0.30      0.91      0.45       188\n",
      "\n",
      "    accuracy                           0.90      4000\n",
      "   macro avg       0.65      0.90      0.70      4000\n",
      "weighted avg       0.96      0.90      0.92      4000\n",
      "\n",
      "运行时间:2.94秒\n",
      "训练集准确率：90.32%\n",
      "测试集准确率：89.58%\n",
      "测试集Bacc：90.48%\n",
      "测试集f2：75.46%\n"
     ]
    }
   ],
   "source": [
    "##MLP+RUS\n",
    "from sklearn.neural_network import MLPClassifier\n",
    "mlp=MLPClassifier(random_state=0, max_iter=200,hidden_layer_sizes=(50,))\n",
    "start=time.time()\n",
    "\n",
    "\n",
    "mlp.fit(X_resampled,y_resampled)\n",
    "end=time.time()\n",
    "y_train_proba=mlp.predict_proba(x_tr)\n",
    "y_train_label=mlp.predict(x_tr)\n",
    "y_test_proba=mlp.predict_proba(x_te)\n",
    "print('AUC:{}'.format(roc_auc_score(y_te,y_test_proba[:,-1])))\n",
    "y_test_label=mlp.predict(x_te)\n",
    "# y_test_proba=model_in.predict_proba(image_test)\n",
    "# y_test_label=model_in.predict(image_test)\n",
    "\n",
    "from sklearn.metrics import classification_report\n",
    "print(classification_report(y_te,y_test_label))\n",
    "print(\"运行时间:%.2f秒\"%(end-start))\n",
    "from sklearn.metrics import accuracy_score\n",
    "print('训练集准确率：{:.2%}'.format(accuracy_score(y_train_label,y_tr)))\n",
    "print('测试集准确率：{:.2%}'.format(accuracy_score(y_test_label,y_te)))\n",
    "print('测试集Bacc：{:.2%}'.format(balanced_accuracy_score(y_te,y_test_label)))\n",
    "print('测试集f2：{:.2%}'.format(fbeta_score(y_te,y_test_label,beta=2.94)))\n"
   ]
  },
  {
   "cell_type": "code",
   "execution_count": 1015,
   "metadata": {},
   "outputs": [
    {
     "data": {
      "text/plain": [
       "0.8043333333333332"
      ]
     },
     "execution_count": 1015,
     "metadata": {},
     "output_type": "execute_result"
    }
   ],
   "source": [
    "(0.91+0.905+0.755)*0.3+0.1/3\n"
   ]
  },
  {
   "cell_type": "code",
   "execution_count": 598,
   "metadata": {},
   "outputs": [],
   "source": [
    "from imblearn.under_sampling import NearMiss\n",
    "# nm1 = NearMiss(version=1)\n",
    "nm2= NearMiss(version=2)\n",
    "nm3= NearMiss(version=3)\n",
    "# X_resampled_1, y_resampled_1 = nm1.fit_resample(x_tr, y_tr)\n",
    "X_resampled_2, y_resampled_2= nm2.fit_resample(x_tr, y_tr)"
   ]
  },
  {
   "cell_type": "code",
   "execution_count": 596,
   "metadata": {},
   "outputs": [],
   "source": [
    "from imblearn.over_sampling import ADASYN\n",
    "X_resampled_,y_resampled_=ADASYN(random_state=42).fit_resample(x_tr,y_tr)"
   ]
  },
  {
   "cell_type": "code",
   "execution_count": 980,
   "metadata": {},
   "outputs": [],
   "source": [
    "from imblearn.over_sampling import SMOTE\n",
    "\n",
    "X_resampled_smote,y_resampled_smote  = SMOTE().fit_resample(x_tr, y_tr)"
   ]
  },
  {
   "cell_type": "code",
   "execution_count": 1009,
   "metadata": {},
   "outputs": [
    {
     "name": "stdout",
     "output_type": "stream",
     "text": [
      "AUC:0.6801505882878257\n",
      "              precision    recall  f1-score   support\n",
      "\n",
      "           0       0.97      0.97      0.97      3812\n",
      "           1       0.37      0.39      0.38       188\n",
      "\n",
      "    accuracy                           0.94      4000\n",
      "   macro avg       0.67      0.68      0.67      4000\n",
      "weighted avg       0.94      0.94      0.94      4000\n",
      "\n",
      "运行时间:15.76秒\n",
      "训练集准确率：100.00%\n",
      "测试集准确率：93.97%\n",
      "测试集Bacc：68.02%\n",
      "测试集f2：39.08%\n"
     ]
    }
   ],
   "source": [
    "##CART+cost-learing\n",
    "from sklearn.tree import DecisionTreeClassifier\n",
    "clf = DecisionTreeClassifier(class_weight='balanced',random_state=0)\n",
    "start=time.time()\n",
    "\n",
    "\n",
    "clf.fit(x_tr,y_tr)\n",
    "end=time.time()\n",
    "y_train_proba=clf.predict_proba(x_tr)\n",
    "y_train_label=clf.predict(x_tr)\n",
    "y_test_proba=clf.predict_proba(x_te)\n",
    "print('AUC:{}'.format(roc_auc_score(y_te,y_test_proba[:,-1])))\n",
    "y_test_label=clf.predict(x_te)\n",
    "# y_test_proba=model_in.predict_proba(image_test)\n",
    "# y_test_label=model_in.predict(image_test)\n",
    "\n",
    "from sklearn.metrics import classification_report\n",
    "print(classification_report(y_te,y_test_label))\n",
    "print(\"运行时间:%.2f秒\"%(end-start))\n",
    "from sklearn.metrics import accuracy_score\n",
    "print('训练集准确率：{:.2%}'.format(accuracy_score(y_train_label,y_tr)))\n",
    "print('测试集准确率：{:.2%}'.format(accuracy_score(y_test_label,y_te)))\n",
    "print('测试集Bacc：{:.2%}'.format(balanced_accuracy_score(y_te,y_test_label)))\n",
    "print('测试集f2：{:.2%}'.format(fbeta_score(y_te,y_test_label,beta=2.94)))\n"
   ]
  },
  {
   "cell_type": "code",
   "execution_count": 1010,
   "metadata": {},
   "outputs": [
    {
     "data": {
      "text/plain": [
       "0.44556666666666667"
      ]
     },
     "execution_count": 1010,
     "metadata": {},
     "output_type": "execute_result"
    }
   ],
   "source": [
    "(0.39+0.682+0.391)*0.3+0.1/15"
   ]
  },
  {
   "cell_type": "code",
   "execution_count": 603,
   "metadata": {},
   "outputs": [
    {
     "name": "stdout",
     "output_type": "stream",
     "text": [
      "AUC:0.7298731888102521\n",
      "              precision    recall  f1-score   support\n",
      "\n",
      "           0       0.98      0.95      0.96      3812\n",
      "           1       0.33      0.51      0.40       188\n",
      "\n",
      "    accuracy                           0.93      4000\n",
      "   macro avg       0.65      0.73      0.68      4000\n",
      "weighted avg       0.94      0.93      0.94      4000\n",
      "\n",
      "运行时间:110.48秒\n",
      "训练集准确率：100.00%\n",
      "测试集准确率：92.85%\n",
      "测试集Bacc：72.99%\n",
      "测试集f2：46.07%\n"
     ]
    }
   ],
   "source": [
    "##CART+SMOTE\n",
    "clf = DecisionTreeClassifier(random_state=0)\n",
    "start=time.time()\n",
    "\n",
    "\n",
    "clf.fit(X_resampled_smote,y_resampled_smote)\n",
    "end=time.time()\n",
    "y_train_proba=clf.predict_proba(x_tr)\n",
    "y_train_label=clf.predict(x_tr)\n",
    "y_test_proba=clf.predict_proba(x_te)\n",
    "print('AUC:{}'.format(roc_auc_score(y_te,y_test_proba[:,-1])))\n",
    "y_test_label=clf.predict(x_te)\n",
    "# y_test_proba=model_in.predict_proba(image_test)\n",
    "# y_test_label=model_in.predict(image_test)\n",
    "\n",
    "from sklearn.metrics import classification_report\n",
    "print(classification_report(y_te,y_test_label))\n",
    "print(\"运行时间:%.2f秒\"%(end-start))\n",
    "from sklearn.metrics import accuracy_score\n",
    "print('训练集准确率：{:.2%}'.format(accuracy_score(y_train_label,y_tr)))\n",
    "print('测试集准确率：{:.2%}'.format(accuracy_score(y_test_label,y_te)))\n",
    "print('测试集Bacc：{:.2%}'.format(balanced_accuracy_score(y_te,y_test_label)))\n",
    "print('测试集f2：{:.2%}'.format(fbeta_score(y_te,y_test_label,beta=2)))\n"
   ]
  },
  {
   "cell_type": "code",
   "execution_count": 1007,
   "metadata": {},
   "outputs": [
    {
     "data": {
      "text/plain": [
       "0.5178090909090908"
      ]
     },
     "execution_count": 1007,
     "metadata": {},
     "output_type": "execute_result"
    }
   ],
   "source": [
    "(0.51+0.483+0.73)*0.3+0.1/110"
   ]
  },
  {
   "cell_type": "code",
   "execution_count": 1003,
   "metadata": {},
   "outputs": [
    {
     "name": "stdout",
     "output_type": "stream",
     "text": [
      "AUC:0.7916210845928869\n",
      "              precision    recall  f1-score   support\n",
      "\n",
      "           0       0.99      0.77      0.87      3812\n",
      "           1       0.15      0.81      0.25       188\n",
      "\n",
      "    accuracy                           0.77      4000\n",
      "   macro avg       0.57      0.79      0.56      4000\n",
      "weighted avg       0.95      0.77      0.84      4000\n",
      "\n",
      "运行时间:1.22秒\n",
      "训练集准确率：79.70%\n",
      "测试集准确率：77.15%\n",
      "测试集Bacc：79.16%\n",
      "测试集f2：55.53%\n"
     ]
    }
   ],
   "source": [
    "##CART+RUS\n",
    "clf = DecisionTreeClassifier(random_state=0)\n",
    "start=time.time()\n",
    "\n",
    "\n",
    "clf.fit(X_resampled,y_resampled)\n",
    "end=time.time()\n",
    "y_train_proba=clf.predict_proba(x_tr)\n",
    "y_train_label=clf.predict(x_tr)\n",
    "y_test_proba=clf.predict_proba(x_te)\n",
    "print('AUC:{}'.format(roc_auc_score(y_te,y_test_proba[:,-1])))\n",
    "y_test_label=clf.predict(x_te)\n",
    "# y_test_proba=model_in.predict_proba(image_test)\n",
    "# y_test_label=model_in.predict(image_test)\n",
    "\n",
    "from sklearn.metrics import classification_report\n",
    "print(classification_report(y_te,y_test_label))\n",
    "print(\"运行时间:%.2f秒\"%(end-start))\n",
    "from sklearn.metrics import accuracy_score\n",
    "print('训练集准确率：{:.2%}'.format(accuracy_score(y_train_label,y_tr)))\n",
    "print('测试集准确率：{:.2%}'.format(accuracy_score(y_test_label,y_te)))\n",
    "print('测试集Bacc：{:.2%}'.format(balanced_accuracy_score(y_te,y_test_label)))\n",
    "print('测试集f2：{:.2%}'.format(fbeta_score(y_te,y_test_label,beta=2.94)))"
   ]
  },
  {
   "cell_type": "code",
   "execution_count": 1005,
   "metadata": {},
   "outputs": [
    {
     "data": {
      "text/plain": [
       "0.7290672131147541"
      ]
     },
     "execution_count": 1005,
     "metadata": {},
     "output_type": "execute_result"
    }
   ],
   "source": [
    "(0.555+0.792+0.81)*0.3+0.1/1.22"
   ]
  },
  {
   "cell_type": "code",
   "execution_count": 615,
   "metadata": {},
   "outputs": [
    {
     "name": "stdout",
     "output_type": "stream",
     "text": [
      "AUC:0.9214560402759483\n",
      "              precision    recall  f1-score   support\n",
      "\n",
      "           0       0.97      1.00      0.98      3812\n",
      "           1       0.98      0.28      0.44       188\n",
      "\n",
      "    accuracy                           0.97      4000\n",
      "   macro avg       0.97      0.64      0.71      4000\n",
      "weighted avg       0.97      0.97      0.96      4000\n",
      "\n",
      "运行时间:40.60秒\n",
      "训练集准确率：99.99%\n",
      "测试集准确率：96.60%\n",
      "测试集Bacc：64.08%\n",
      "测试集f2：32.88%\n"
     ]
    }
   ],
   "source": [
    "\n",
    "from imblearn.ensemble import BalancedRandomForestClassifier\n",
    "brf =RandomForestClassifier(n_estimators=100, random_state=0)\n",
    "start=time.time()\n",
    "\n",
    "brf.fit(x_tr,y_tr)\n",
    "end=time.time()\n",
    "y_train_proba=brf.predict_proba(x_tr)\n",
    "y_train_label=brf.predict(x_tr)\n",
    "y_test_proba=brf.predict_proba(x_te)\n",
    "print('AUC:{}'.format(roc_auc_score(y_te,y_test_proba[:,-1])))\n",
    "y_test_label=brf.predict(x_te)\n",
    "# y_test_proba=model_in.predict_proba(image_test)\n",
    "# y_test_label=model_in.predict(image_test)\n",
    "\n",
    "from sklearn.metrics import classification_report\n",
    "print(classification_report(y_te,y_test_label))\n",
    "print(\"运行时间:%.2f秒\"%(end-start))\n",
    "from sklearn.metrics import accuracy_score\n",
    "print('训练集准确率：{:.2%}'.format(accuracy_score(y_train_label,y_tr)))\n",
    "print('测试集准确率：{:.2%}'.format(accuracy_score(y_test_label,y_te)))\n",
    "print('测试集Bacc：{:.2%}'.format(balanced_accuracy_score(y_te,y_test_label)))\n",
    "print('测试集f2：{:.2%}'.format(fbeta_score(y_te,y_test_label,beta=2)))\n"
   ]
  },
  {
   "cell_type": "code",
   "execution_count": 1022,
   "metadata": {},
   "outputs": [],
   "source": [
    "from imbalanced_ensemble.ensemble import SMOTEBoostClassifier\n",
    "smb = SMOTEBoostClassifier(random_state=0)\n"
   ]
  },
  {
   "cell_type": "code",
   "execution_count": 619,
   "metadata": {},
   "outputs": [
    {
     "name": "stdout",
     "output_type": "stream",
     "text": [
      "AUC:0.8407269317496818\n",
      "              precision    recall  f1-score   support\n",
      "\n",
      "           0       0.99      0.54      0.70      3812\n",
      "           1       0.09      0.89      0.16       188\n",
      "\n",
      "    accuracy                           0.56      4000\n",
      "   macro avg       0.54      0.72      0.43      4000\n",
      "weighted avg       0.95      0.56      0.67      4000\n",
      "\n",
      "运行时间:7.90秒\n",
      "训练集准确率：56.10%\n",
      "测试集准确率：55.83%\n",
      "测试集Bacc：71.77%\n",
      "测试集f2：31.50%\n",
      "测试集：71.77%\n"
     ]
    }
   ],
   "source": [
    "'''from imbalanced_ensemble.ensemble import SMOTEBoostClassifier\n",
    "smb = SMOTEBoostClassifier(random_state=0)\n",
    "\n",
    "start=time.time()\n",
    "\n",
    "\n",
    "smb.fit(X_resampled_2,y_resampled_2)\n",
    "end=time.time()\n",
    "y_train_proba=smb.predict_proba(x_tr)\n",
    "y_train_label=smb.predict(x_tr)\n",
    "y_test_proba=smb.predict_proba(x_te)\n",
    "print('AUC:{}'.format(roc_auc_score(y_te,y_test_proba[:,-1])))\n",
    "y_test_label=smb.predict(x_te)\n",
    "# y_test_proba=model_in.predict_proba(image_test)\n",
    "# y_test_label=model_in.predict(image_test)\n",
    "\n",
    "from sklearn.metrics import classification_report\n",
    "print(classification_report(y_te,y_test_label))\n",
    "print(\"运行时间:%.2f秒\"%(end-start))\n",
    "from sklearn.metrics import accuracy_score\n",
    "print('训练集准确率：{:.2%}'.format(accuracy_score(y_train_label,y_tr)))\n",
    "print('测试集准确率：{:.2%}'.format(accuracy_score(y_test_label,y_te)))\n",
    "print('测试集Bacc：{:.2%}'.format(balanced_accuracy_score(y_te,y_test_label)))\n",
    "print('测试集f2：{:.2%}'.format(fbeta_score(y_te,y_test_label,beta=2)))\n",
    "print('测试集：{:.2%}'.format(balanced_accuracy_score(y_te,y_test_label)))'''"
   ]
  },
  {
   "cell_type": "code",
   "execution_count": 624,
   "metadata": {},
   "outputs": [],
   "source": [
    "from imblearn.combine import SMOTETomek\n",
    "smote_tomek = SMOTETomek(random_state=42)\n",
    "X_resampled, y_resampled = smote_tomek.fit_resample(x_tr,y_tr)"
   ]
  },
  {
   "cell_type": "code",
   "execution_count": 1023,
   "metadata": {},
   "outputs": [
    {
     "name": "stdout",
     "output_type": "stream",
     "text": [
      "AUC:0.918534136322029\n",
      "              precision    recall  f1-score   support\n",
      "\n",
      "           0       0.98      0.96      0.97      3812\n",
      "           1       0.46      0.63      0.53       188\n",
      "\n",
      "    accuracy                           0.95      4000\n",
      "   macro avg       0.72      0.80      0.75      4000\n",
      "weighted avg       0.96      0.95      0.95      4000\n",
      "\n",
      "运行时间:220.48秒\n",
      "训练集准确率：94.53%\n",
      "测试集准确率：94.77%\n",
      "测试集Bacc：79.81%\n",
      "测试集f2：60.91%\n",
      "测试集：79.81%\n"
     ]
    }
   ],
   "source": [
    "##SMOTEBoost\n",
    "start=time.time()\n",
    "smb.fit(x_tr,y_tr)\n",
    "end=time.time()\n",
    "y_train_proba=smb.predict_proba(x_tr)\n",
    "y_train_label=smb.predict(x_tr)\n",
    "y_test_proba=smb.predict_proba(x_te)\n",
    "print('AUC:{}'.format(roc_auc_score(y_te,y_test_proba[:,-1])))\n",
    "y_test_label=smb.predict(x_te)\n",
    "# y_test_proba=model_in.predict_proba(image_test)\n",
    "# y_test_label=model_in.predict(image_test)\n",
    "\n",
    "from sklearn.metrics import classification_report\n",
    "print(classification_report(y_te,y_test_label))\n",
    "print(\"运行时间:%.2f秒\"%(end-start))\n",
    "from sklearn.metrics import accuracy_score\n",
    "print('训练集准确率：{:.2%}'.format(accuracy_score(y_train_label,y_tr)))\n",
    "print('测试集准确率：{:.2%}'.format(accuracy_score(y_test_label,y_te)))\n",
    "print('测试集Bacc：{:.2%}'.format(balanced_accuracy_score(y_te,y_test_label)))\n",
    "print('测试集f2：{:.2%}'.format(fbeta_score(y_te,y_test_label,beta=2.94)))\n",
    "print('测试集：{:.2%}'.format(balanced_accuracy_score(y_te,y_test_label)))"
   ]
  },
  {
   "cell_type": "code",
   "execution_count": 1024,
   "metadata": {},
   "outputs": [
    {
     "data": {
      "text/plain": [
       "0.6115545454545455"
      ]
     },
     "execution_count": 1024,
     "metadata": {},
     "output_type": "execute_result"
    }
   ],
   "source": [
    "(0.798+0.63+0.609)*0.3+0.1/220"
   ]
  },
  {
   "cell_type": "code",
   "execution_count": 1018,
   "metadata": {},
   "outputs": [
    {
     "name": "stdout",
     "output_type": "stream",
     "text": [
      "AUC:0.9448515047665825\n",
      "              precision    recall  f1-score   support\n",
      "\n",
      "           0       0.99      0.85      0.92      3812\n",
      "           1       0.23      0.90      0.37       188\n",
      "\n",
      "    accuracy                           0.86      4000\n",
      "   macro avg       0.61      0.88      0.64      4000\n",
      "weighted avg       0.96      0.86      0.89      4000\n",
      "\n",
      "运行时间:6.51秒\n",
      "训练集准确率：86.54%\n",
      "测试集准确率：85.65%\n",
      "测试集Bacc：87.67%\n",
      "测试集f2：69.38%\n",
      "测试集：87.67%\n"
     ]
    }
   ],
   "source": [
    "adb=AdaBoostClassifier(random_state=0)\n",
    "start=time.time()\n",
    "adb.fit(X_resampled, y_resampled )\n",
    "end=time.time()\n",
    "y_train_proba=adb.predict_proba(x_tr)\n",
    "y_train_label=adb.predict(x_tr)\n",
    "y_test_proba=adb.predict_proba(x_te)\n",
    "print('AUC:{}'.format(roc_auc_score(y_te,y_test_proba[:,-1])))\n",
    "y_test_label=adb.predict(x_te)\n",
    "# y_test_proba=model_in.predict_proba(image_test)\n",
    "# y_test_label=model_in.predict(image_test)\n",
    "\n",
    "from sklearn.metrics import classification_report\n",
    "print(classification_report(y_te,y_test_label))\n",
    "print(\"运行时间:%.2f秒\"%(end-start))\n",
    "from sklearn.metrics import accuracy_score\n",
    "print('训练集准确率：{:.2%}'.format(accuracy_score(y_train_label,y_tr)))\n",
    "print('测试集准确率：{:.2%}'.format(accuracy_score(y_test_label,y_te)))\n",
    "print('测试集Bacc：{:.2%}'.format(balanced_accuracy_score(y_te,y_test_label)))\n",
    "print('测试集f2：{:.2%}'.format(fbeta_score(y_te,y_test_label,beta=2.94)))\n",
    "print('测试集：{:.2%}'.format(balanced_accuracy_score(y_te,y_test_label)))"
   ]
  },
  {
   "cell_type": "code",
   "execution_count": 1017,
   "metadata": {},
   "outputs": [
    {
     "name": "stdout",
     "output_type": "stream",
     "text": [
      "AUC:0.9451912772655221\n",
      "              precision    recall  f1-score   support\n",
      "\n",
      "           0       0.98      0.99      0.98      3812\n",
      "           1       0.73      0.55      0.63       188\n",
      "\n",
      "    accuracy                           0.97      4000\n",
      "   macro avg       0.85      0.77      0.81      4000\n",
      "weighted avg       0.97      0.97      0.97      4000\n",
      "\n",
      "运行时间:80.34秒\n",
      "训练集准确率：97.16%\n",
      "测试集准确率：96.92%\n",
      "测试集Bacc：76.90%\n",
      "测试集f2：56.25%\n",
      "测试集：76.90%\n"
     ]
    }
   ],
   "source": [
    "##ADABoost\n",
    "adb=AdaBoostClassifier(random_state=0)\n",
    "start=time.time()\n",
    "adb.fit(x_tr,y_tr)\n",
    "end=time.time()\n",
    "y_train_proba=adb.predict_proba(x_tr)\n",
    "y_train_label=adb.predict(x_tr)\n",
    "y_test_proba=adb.predict_proba(x_te)\n",
    "print('AUC:{}'.format(roc_auc_score(y_te,y_test_proba[:,-1])))\n",
    "y_test_label=adb.predict(x_te)\n",
    "# y_test_proba=model_in.predict_proba(image_test)\n",
    "# y_test_label=model_in.predict(image_test)\n",
    "\n",
    "from sklearn.metrics import classification_report\n",
    "print(classification_report(y_te,y_test_label))\n",
    "print(\"运行时间:%.2f秒\"%(end-start))\n",
    "from sklearn.metrics import accuracy_score\n",
    "print('训练集准确率：{:.2%}'.format(accuracy_score(y_train_label,y_tr)))\n",
    "print('测试集准确率：{:.2%}'.format(accuracy_score(y_test_label,y_te)))\n",
    "print('测试集Bacc：{:.2%}'.format(balanced_accuracy_score(y_te,y_test_label)))\n",
    "print('测试集f2：{:.2%}'.format(fbeta_score(y_te,y_test_label,beta=2.94)))\n",
    "print('测试集：{:.2%}'.format(balanced_accuracy_score(y_te,y_test_label)))"
   ]
  },
  {
   "cell_type": "code",
   "execution_count": 1020,
   "metadata": {},
   "outputs": [
    {
     "data": {
      "text/plain": [
       "0.56555"
      ]
     },
     "execution_count": 1020,
     "metadata": {},
     "output_type": "execute_result"
    }
   ],
   "source": [
    "(0.769+0.55+0.562)*0.3+0.1/80"
   ]
  },
  {
   "cell_type": "code",
   "execution_count": 889,
   "metadata": {},
   "outputs": [
    {
     "data": {
      "text/plain": [
       "2.9444389791664403"
      ]
     },
     "execution_count": 889,
     "metadata": {},
     "output_type": "execute_result"
    }
   ],
   "source": [
    "np.log(19)"
   ]
  },
  {
   "cell_type": "code",
   "execution_count": 1110,
   "metadata": {},
   "outputs": [
    {
     "name": "stdout",
     "output_type": "stream",
     "text": [
      "AUC:0.872678104976446\n",
      "              precision    recall  f1-score   support\n",
      "\n",
      "           0       0.97      1.00      0.98      3812\n",
      "           1       0.84      0.44      0.58       188\n",
      "\n",
      "    accuracy                           0.97      4000\n",
      "   macro avg       0.91      0.72      0.78      4000\n",
      "weighted avg       0.97      0.97      0.97      4000\n",
      "\n",
      "运行时间:281.62秒\n",
      "训练集准确率：99.57%\n",
      "测试集准确率：96.97%\n",
      "测试集Bacc：71.86%\n",
      "测试集f2：46.43%\n",
      "测试集recall：44.15%\n"
     ]
    }
   ],
   "source": [
    "##BAgging\n",
    "from imblearn.ensemble import BalancedBaggingClassifier\n",
    "from imblearn.over_sampling import SMOTE\n",
    "from sklearn.ensemble import BaggingClassifier\n",
    "bag = BaggingClassifier(\n",
    "                                random_state=0)\n",
    "\n",
    "\n",
    "start=time.time()\n",
    "\n",
    "\n",
    "bag.fit(x_tr,y_tr)\n",
    "end=time.time()\n",
    "y_train_proba=bag.predict_proba(x_tr)\n",
    "y_train_label=bag.predict(x_tr)\n",
    "y_test_proba=bag.predict_proba(x_te)\n",
    "print('AUC:{}'.format(roc_auc_score(y_te,y_test_proba[:,-1])))\n",
    "y_test_label=bag.predict(x_te)\n",
    "# y_test_proba=model_in.predict_proba(image_test)\n",
    "# y_test_label=model_in.predict(image_test)\n",
    "\n",
    "from sklearn.metrics import classification_report\n",
    "print(classification_report(y_te,y_test_label))\n",
    "print(\"运行时间:%.2f秒\"%(end-start))\n",
    "from sklearn.metrics import accuracy_score\n",
    "print('训练集准确率：{:.2%}'.format(accuracy_score(y_train_label,y_tr)))\n",
    "print('测试集准确率：{:.2%}'.format(accuracy_score(y_test_label,y_te)))\n",
    "print('测试集Bacc：{:.2%}'.format(balanced_accuracy_score(y_te,y_test_label)))\n",
    "print('测试集f2：{:.2%}'.format(fbeta_score(y_te,y_test_label,beta=2.94)))\n",
    "print('测试集recall：{:.2%}'.format(recall_score(y_te,y_test_label)))\n"
   ]
  },
  {
   "cell_type": "code",
   "execution_count": 1112,
   "metadata": {},
   "outputs": [
    {
     "name": "stdout",
     "output_type": "stream",
     "text": [
      "AUC:0.9282284666562479\n",
      "              precision    recall  f1-score   support\n",
      "\n",
      "           0       0.99      0.86      0.92      3812\n",
      "           1       0.23      0.85      0.36       188\n",
      "\n",
      "    accuracy                           0.86      4000\n",
      "   macro avg       0.61      0.85      0.64      4000\n",
      "weighted avg       0.96      0.86      0.90      4000\n",
      "\n",
      "运行时间:8.01秒\n",
      "训练集准确率：86.44%\n",
      "测试集准确率：86.15%\n",
      "测试集Bacc：85.40%\n",
      "测试集f2：66.41%\n",
      "测试集recall：84.57%\n"
     ]
    }
   ],
   "source": [
    "##Bagging+RUS\n",
    "bag = BaggingClassifier(\n",
    "                                random_state=0)\n",
    "\n",
    "\n",
    "start=time.time()\n",
    "\n",
    "\n",
    "bag.fit(X_resampled,y_resampled)\n",
    "end=time.time()\n",
    "y_train_proba=bag.predict_proba(x_tr)\n",
    "y_train_label=bag.predict(x_tr)\n",
    "y_test_proba=bag.predict_proba(x_te)\n",
    "print('AUC:{}'.format(roc_auc_score(y_te,y_test_proba[:,-1])))\n",
    "y_test_label=bag.predict(x_te)\n",
    "# y_test_proba=model_in.predict_proba(image_test)\n",
    "# y_test_label=model_in.predict(image_test)\n",
    "\n",
    "from sklearn.metrics import classification_report\n",
    "print(classification_report(y_te,y_test_label))\n",
    "print(\"运行时间:%.2f秒\"%(end-start))\n",
    "from sklearn.metrics import accuracy_score\n",
    "print('训练集准确率：{:.2%}'.format(accuracy_score(y_train_label,y_tr)))\n",
    "print('测试集准确率：{:.2%}'.format(accuracy_score(y_test_label,y_te)))\n",
    "print('测试集Bacc：{:.2%}'.format(balanced_accuracy_score(y_te,y_test_label)))\n",
    "print('测试集f2：{:.2%}'.format(fbeta_score(y_te,y_test_label,beta=2.94)))\n",
    "print('测试集recall：{:.2%}'.format(recall_score(y_te,y_test_label)))\n"
   ]
  },
  {
   "cell_type": "code",
   "execution_count": 1113,
   "metadata": {},
   "outputs": [
    {
     "name": "stdout",
     "output_type": "stream",
     "text": [
      "AUC:0.8955579803978477\n",
      "              precision    recall  f1-score   support\n",
      "\n",
      "           0       0.97      0.98      0.98      3812\n",
      "           1       0.56      0.44      0.49       188\n",
      "\n",
      "    accuracy                           0.96      4000\n",
      "   macro avg       0.77      0.71      0.74      4000\n",
      "weighted avg       0.95      0.96      0.96      4000\n",
      "\n",
      "运行时间:613.53秒\n",
      "训练集准确率：99.91%\n",
      "测试集准确率：95.75%\n",
      "测试集Bacc：71.22%\n",
      "测试集f2：45.14%\n",
      "测试集recall：44.15%\n"
     ]
    }
   ],
   "source": [
    "##Bagging +SMOte\n",
    "bag = BaggingClassifier(\n",
    "                                random_state=0)\n",
    "\n",
    "\n",
    "start=time.time()\n",
    "\n",
    "\n",
    "bag.fit(X_resampled_smote,y_resampled_smote)\n",
    "end=time.time()\n",
    "y_train_proba=bag.predict_proba(x_tr)\n",
    "y_train_label=bag.predict(x_tr)\n",
    "y_test_proba=bag.predict_proba(x_te)\n",
    "print('AUC:{}'.format(roc_auc_score(y_te,y_test_proba[:,-1])))\n",
    "y_test_label=bag.predict(x_te)\n",
    "# y_test_proba=model_in.predict_proba(image_test)\n",
    "# y_test_label=model_in.predict(image_test)\n",
    "\n",
    "from sklearn.metrics import classification_report\n",
    "print(classification_report(y_te,y_test_label))\n",
    "print(\"运行时间:%.2f秒\"%(end-start))\n",
    "from sklearn.metrics import accuracy_score\n",
    "print('训练集准确率：{:.2%}'.format(accuracy_score(y_train_label,y_tr)))\n",
    "print('测试集准确率：{:.2%}'.format(accuracy_score(y_test_label,y_te)))\n",
    "print('测试集Bacc：{:.2%}'.format(balanced_accuracy_score(y_te,y_test_label)))\n",
    "print('测试集f2：{:.2%}'.format(fbeta_score(y_te,y_test_label,beta=2.94)))\n",
    "print('测试集recall：{:.2%}'.format(recall_score(y_te,y_test_label)))\n"
   ]
  },
  {
   "cell_type": "code",
   "execution_count": 1111,
   "metadata": {},
   "outputs": [
    {
     "data": {
      "text/plain": [
       "0.5356255871886121"
      ]
     },
     "execution_count": 1111,
     "metadata": {},
     "output_type": "execute_result"
    }
   ],
   "source": [
    "(0.44+0.464+0.719)*0.33+0.01/281"
   ]
  },
  {
   "cell_type": "code",
   "execution_count": 547,
   "metadata": {},
   "outputs": [
    {
     "name": "stdout",
     "output_type": "stream",
     "text": [
      "AUC:0.8913921044406242\n",
      "              precision    recall  f1-score   support\n",
      "\n",
      "           0       0.97      0.99      0.98      3812\n",
      "           1       0.75      0.40      0.53       188\n",
      "\n",
      "    accuracy                           0.97      4000\n",
      "   macro avg       0.86      0.70      0.75      4000\n",
      "weighted avg       0.96      0.97      0.96      4000\n",
      "\n",
      "运行时间:954.19秒\n",
      "训练集准确率：99.64%\n",
      "测试集准确率：96.58%\n",
      "测试集Bacc：69.88%\n",
      "测试集f2：44.55%\n"
     ]
    }
   ],
   "source": [
    "from imblearn.ensemble import BalancedBaggingClassifier\n",
    "from imblearn.over_sampling import SMOTE\n",
    "bbc = BalancedBaggingClassifier(sampler=SMOTE(),\n",
    "                                random_state=0)\n",
    "\n",
    "\n",
    "start=time.time()\n",
    "\n",
    "\n",
    "bbc.fit(x_tr,y_tr)\n",
    "end=time.time()\n",
    "y_train_proba=bbc.predict_proba(x_tr)\n",
    "y_train_label=bbc.predict(x_tr)\n",
    "y_test_proba=bbc.predict_proba(x_te)\n",
    "print('AUC:{}'.format(roc_auc_score(y_te,y_test_proba[:,-1])))\n",
    "y_test_label=bbc.predict(x_te)\n",
    "# y_test_proba=model_in.predict_proba(image_test)\n",
    "# y_test_label=model_in.predict(image_test)\n",
    "\n",
    "from sklearn.metrics import classification_report\n",
    "print(classification_report(y_te,y_test_label))\n",
    "print(\"运行时间:%.2f秒\"%(end-start))\n",
    "from sklearn.metrics import accuracy_score\n",
    "print('训练集准确率：{:.2%}'.format(accuracy_score(y_train_label,y_tr)))\n",
    "print('测试集准确率：{:.2%}'.format(accuracy_score(y_test_label,y_te)))\n",
    "print('测试集Bacc：{:.2%}'.format(balanced_accuracy_score(y_te,y_test_label)))\n",
    "print('测试集f2：{:.2%}'.format(fbeta_score(y_te,y_test_label,beta=2)))\n",
    "\n",
    "# print('测试集：{:.2%}'.format(balanced_accuracy_score(y_te,y_test_label)))\n"
   ]
  },
  {
   "cell_type": "code",
   "execution_count": 856,
   "metadata": {},
   "outputs": [],
   "source": [
    "'''def relu(x):\n",
    "    if x>=0: return x\n",
    "    else: return 0\n",
    "class solution_ce:\n",
    "    \n",
    "    #默认没有正则化，正则项参数默认为1，学习率默认为0.001，迭代次数为10001次\n",
    "    def __init__(self,penalty = None,Lambda = 0.03,a = 0.5,epochs = 200,W=w):\n",
    "        self.W = None\n",
    "        self.penalty = penalty\n",
    "        self.Lambda = Lambda\n",
    "        self.a = a\n",
    "        self.epochs =epochs\n",
    "        self.sigmoid = lambda x:1/(1 + np.exp(-x))\n",
    "        \n",
    "\n",
    "\n",
    "    def f_XX(self,X,Y):\n",
    "        \n",
    "        if self.penalty=='l2':f=-np.array([np.sum(y*np.log(self.sigmoid(np.dot(x,self.W))**(1/x.shape[0])) \n",
    "                                                  +(1-y)*np.log((1-self.sigmoid(np.dot(x,self.W))**(1/x.shape[0]))))+ self.Lambda*np.sum(self.W**2) for x,y in zip(X,Y)])#pre_Xtrain,pre_Ytrain\n",
    "        else:f=-np.array([np.sum(y*np.log(self.sigmoid(np.dot(x,self.W))**(1/x.shape[0])) \n",
    "                                                  +(1-y)*np.log((1-self.sigmoid(np.dot(x,self.W))**(1/x.shape[0])))) for x,y in zip(X,Y)])\n",
    "\n",
    "        return f         \n",
    "    def Gf_XX(self,X,Y):#求导数矩阵N*2\n",
    "        if self.penalty=='l2':\n",
    "            d=np.array([x.T.dot(0.01*(y-self.sigmoid(np.dot(x,self.W))))+2*self.Lambda*self.W for x,y in zip(X,Y)])\n",
    "#     return d.reshape(20,12289)\n",
    "        else:d=np.array([x.T.dot(0.01*(y-self.sigmoid(np.dot(x,self.W)))) for x,y in zip(X,Y)])\n",
    "        return d\n",
    "    def direction_XX(self,X,Y):\n",
    "        gra=self.Gf_XX(X,Y)#导数矩阵N*30001\n",
    "        p=matrix(gra.dot(gra.T),tc='d')\n",
    "        q=matrix(-self.f_XX(X,Y),tc='d')#N维列向量\n",
    "        G=matrix(np.diag(np.array([-1]*20)),tc='d')#N=20\n",
    "        h=matrix(np.array([[0]]*20),tc='d')\n",
    "        A=matrix([[1.0]]*20)\n",
    "        b=matrix([1.0])\n",
    "        solvers.options['show_progress'] = False\n",
    "        sol = solvers.qp(p,q,G,h,A,b)\n",
    "        t=np.array(sol['x'])\n",
    "        d= -(gra.T.dot(t))\n",
    "        return d.reshape((X_train.shape[-1],))#30001维列向量\n",
    "# def BB_X(v):\n",
    "#     return sigmoid(np.dot(pre_Xtest,v))\n",
    "# def ff_1_X(w,v):\n",
    "#     w=w.reshape(15,1)\n",
    "#     return np.mean((sigmoid(np.dot(BB(v),w[:-1])+w[-1])-test_label)**2 )\n",
    "# def ff_X(w):\n",
    "#     return np.mean((sigmoid(np.dot(pre_Xtest,w))-test_label)**2 )\n",
    "    def fit(self,X,Y):\n",
    "        acc=[]\n",
    "        call=[]\n",
    "        pre=[]\n",
    "        loss=[]\n",
    "        testloss=[]\n",
    "        np.random.seed(1324)\n",
    "        self.W=W\n",
    "      \n",
    "        n=y_te[y_te==1.].shape[0]\n",
    "        for k in range(200):\n",
    "    #     while np.linalg.norm(d)//10**(-8) >= 10:\n",
    "            d=self.direction_XX(X,Y)\n",
    "#             print(np.linalg.norm(d))\n",
    "            if np.linalg.norm(d)//10**(-7) < 25:\n",
    "                break\n",
    "            sigma=0.8\n",
    "            f_1=np.max(self.f_XX(X,Y))\n",
    "            w=self.W\n",
    "            self.W=d*sigma+w\n",
    "            while np.max(self.f_XX(X,Y))>np.max(f_1):\n",
    "                sigma=sigma*0.8\n",
    "                self.W=d*sigma+w\n",
    "            self.W=d*sigma+w\n",
    "\n",
    "            output=self.sigmoid(np.dot(X_test,w))\n",
    "            output[output>=0.5]=1\n",
    "            output[output<0.5]=0\n",
    "    #         output=output.reshape(4000,)\n",
    "    #         pt=max(output[output==1.].shape[0],1)\n",
    "    #         m=0\n",
    "    #         for j in range(4000):\n",
    "    #             if output[j]==test_label[j]==1:\n",
    "    #                 m+=1\n",
    "\n",
    "\n",
    "    # # b1=np.random.random((1,10))*2-1\n",
    "\n",
    "\n",
    "            acc.append(accuracy_score(y_te,output))\n",
    "    #         call.append(m/n)\n",
    "    #         pre.append(m/pt)\n",
    "    #         loss.append(max(f_X(w)))\n",
    "    #         testloss.append(ff_X(w))\n",
    "        return self.W,acc'''"
   ]
  },
  {
   "cell_type": "code",
   "execution_count": 821,
   "metadata": {},
   "outputs": [
    {
     "data": {
      "text/plain": [
       "(799,)"
      ]
     },
     "execution_count": 821,
     "metadata": {},
     "output_type": "execute_result"
    }
   ],
   "source": [
    "split(err)[0].shape"
   ]
  },
  {
   "cell_type": "code",
   "execution_count": 1,
   "metadata": {},
   "outputs": [
    {
     "data": {
      "text/plain": [
       "\"\\nW=np.random.random((X_train.shape[-1],))*2-1\\n      \\nn=y_te[y_te==1.].shape[0]\\nfor k in range(200):\\n    err=(y_tr-s.sigmoid(np.dot(X_train,W)))**2\\n    err[index]=2.6*err[index]\\n    E=split(err)\\n    f_xx=np.array([np.mean(E[i]) for i in range(20)])/3.6\\n    grad=np.array([x.dot(0.002*(s.sigmoid(np.dot(x,W))-y)*\\n                    s.sigmoid(np.dot(x,W))*(1-s.sigmoid(np.dot(x,W)))) for x,y in zip(X_train,y_tr)])\\n    grad[index]=2.6*grad[index]\\n    G=split(grad)\\n    gra=np.array([sum(G[i]) for i in range(20)])#导数矩阵N*30001\\n    p=matrix(gra.dot(gra.T),tc='d')\\n    q=matrix(-f_xx,tc='d')#N维列向量\\n    G=matrix(np.diag(np.array([-1]*20)),tc='d')#N=20\\n    h=matrix(np.array([[0]]*20),tc='d')\\n    A=matrix([[1.0]]*20)\\n    b=matrix([1.0])\\n    solvers.options['show_progress'] = False\\n    sol = solvers.qp(p,q,G,h,A,b)\\n    t=np.array(sol['x'])\\n    d= -(gra.T.dot(t)).reshape((X_train.shape[-1],))\\n#     while np.linalg.norm(d)//10**(-8) >= 10:\\n    \\n    print(np.linalg.norm(d))\\n    if np.linalg.norm(d)//10**(-7) < 25:\\n        break\\n    sigma=0.8\\n    \\n    f_1=np.max(f_xx)\\n    \\n   \\n    while np.max(f_xx)>=np.max(f_1):\\n        sigma=sigma*0.1\\n        W=d*sigma+W\\n        err=(y_tr-s.sigmoid(np.dot(X_train,W)))**2\\n        err[index]=2.6*err[index]\\n        E=split(err)\\n        f_xx=np.array([np.mean(E[i]) for i in range(20)])/3.6\\n    W=d*sigma+W\""
      ]
     },
     "execution_count": 1,
     "metadata": {},
     "output_type": "execute_result"
    }
   ],
   "source": [
    "'''\n",
    "W=np.random.random((X_train.shape[-1],))*2-1\n",
    "      \n",
    "n=y_te[y_te==1.].shape[0]\n",
    "for k in range(200):\n",
    "    err=(y_tr-s.sigmoid(np.dot(X_train,W)))**2\n",
    "    err[index]=2.6*err[index]\n",
    "    E=split(err)\n",
    "    f_xx=np.array([np.mean(E[i]) for i in range(20)])/3.6\n",
    "    grad=np.array([x.dot(0.002*(s.sigmoid(np.dot(x,W))-y)*\n",
    "                    s.sigmoid(np.dot(x,W))*(1-s.sigmoid(np.dot(x,W)))) for x,y in zip(X_train,y_tr)])\n",
    "    grad[index]=2.6*grad[index]\n",
    "    G=split(grad)\n",
    "    gra=np.array([sum(G[i]) for i in range(20)])#导数矩阵N*30001\n",
    "    p=matrix(gra.dot(gra.T),tc='d')\n",
    "    q=matrix(-f_xx,tc='d')#N维列向量\n",
    "    G=matrix(np.diag(np.array([-1]*20)),tc='d')#N=20\n",
    "    h=matrix(np.array([[0]]*20),tc='d')\n",
    "    A=matrix([[1.0]]*20)\n",
    "    b=matrix([1.0])\n",
    "    solvers.options['show_progress'] = False\n",
    "    sol = solvers.qp(p,q,G,h,A,b)\n",
    "    t=np.array(sol['x'])\n",
    "    d= -(gra.T.dot(t)).reshape((X_train.shape[-1],))\n",
    "#     while np.linalg.norm(d)//10**(-8) >= 10:\n",
    "    \n",
    "    print(np.linalg.norm(d))\n",
    "    if np.linalg.norm(d)//10**(-7) < 25:\n",
    "        break\n",
    "    sigma=0.8\n",
    "    \n",
    "    f_1=np.max(f_xx)\n",
    "    \n",
    "   \n",
    "    while np.max(f_xx)>=np.max(f_1):\n",
    "        sigma=sigma*0.1\n",
    "        W=d*sigma+W\n",
    "        err=(y_tr-s.sigmoid(np.dot(X_train,W)))**2\n",
    "        err[index]=2.6*err[index]\n",
    "        E=split(err)\n",
    "        f_xx=np.array([np.mean(E[i]) for i in range(20)])/3.6\n",
    "    W=d*sigma+W'''"
   ]
  },
  {
   "cell_type": "code",
   "execution_count": 836,
   "metadata": {},
   "outputs": [],
   "source": [
    "## XUAN[2019]+L2正则项\n",
    "def split(x):\n",
    "    n=y_tr[y_tr==1].shape[0]\n",
    "    m=int((X_train.shape[0]-n)/19)\n",
    "    indice=[k*m for k in range(1,19)]\n",
    "    indice.append(X_train.shape[0]-n)\n",
    "    x_c=np.concatenate((x[y_tr==0],x[y_tr==1]))\n",
    "    return np.array(np.split(x_c,indice))\n",
    "\n",
    "class solution_XX:\n",
    "    \n",
    "    #默认没有正则化，正则项参数默认为1，学习率默认为0.001，迭代次数为10001次\n",
    "    def __init__(self,penalty = None,Lambda = 0.03,a = 0.5,epochs = 200):\n",
    "        self.W = None\n",
    "        self.penalty = penalty\n",
    "        self.Lambda = Lambda\n",
    "        self.a = a\n",
    "        self.epochs =epochs\n",
    "        self.sigmoid = lambda x:1/(1 + np.exp(-x))\n",
    "        \n",
    "    err=(y_tr-s.sigmoid(np.dot(X_train,w)))**2\n",
    "    err[index]=2.6*err[index]\n",
    "\n",
    "    def f_XX(self,X,Y):\n",
    "        if self.penalty=='l1':f=np.array([np.mean((self.sigmoid(np.dot(x,self.W))-y)**2 )+self.Lambda*np.sum(np.abs(self.W)) for x,y in zip(X,Y)])\n",
    "        elif self.penalty=='l2':f=np.array([np.mean((self.sigmoid(np.dot(x,self.W))-y)**2 )+self.Lambda*np.sum(self.W**2) for x,y in zip(X,Y)])#pre_Xtrain,pre_Ytrain\n",
    "        else:f=np.array([np.mean((self.sigmoid(np.dot(x,self.W))-y)**2 ) for x,y in zip(X,Y)])\n",
    "\n",
    "        return f         \n",
    "    def Gf_XX(self,X,Y):#求导数矩阵N*2\n",
    "        if self.penalty=='l1':d=np.array([x.T.dot(0.02*(self.sigmoid(np.dot(x,self.W))-y)*self.sigmoid(np.dot(x,self.W))*(1-self.sigmoid(np.dot(x,self.W))))+self.Lambda*np.sign(self.W )for x,y in zip(X,Y)])\n",
    "        elif self.penalty=='l2':\n",
    "            d=np.array([x.T.dot(0.02*(self.sigmoid(np.dot(x,self.W))-y)*self.sigmoid(np.dot(x,self.W))*(1-self.sigmoid(np.dot(x,self.W))))+2*self.Lambda*self.W for x,y in zip(X,Y)])\n",
    "#     return d.reshape(20,12289)\n",
    "        else:d=np.array([x.T.dot(0.02*(self.sigmoid(np.dot(x,self.W))-y)*self.sigmoid(np.dot(x,self.W))*(1-self.sigmoid(np.dot(x,self.W)))) for x,y in zip(X,Y)])\n",
    "        return d\n",
    "    def direction_XX(self,X,Y):\n",
    "        gra=self.Gf_XX(X,Y)#导数矩阵N*30001\n",
    "        p=matrix(gra.dot(gra.T),tc='d')\n",
    "        q=matrix(-self.f_XX(X,Y),tc='d')#N维列向量\n",
    "        G=matrix(np.diag(np.array([-1]*20)),tc='d')#N=20\n",
    "        h=matrix(np.array([[0]]*20),tc='d')\n",
    "        A=matrix([[1.0]]*20)\n",
    "        b=matrix([1.0])\n",
    "        solvers.options['show_progress'] = False\n",
    "        sol = solvers.qp(p,q,G,h,A,b)\n",
    "        t=np.array(sol['x'])\n",
    "        d= -(gra.T.dot(t))\n",
    "        return d.reshape((X_train.shape[-1],))#30001维列向量\n",
    "# def BB_X(v):\n",
    "#     return sigmoid(np.dot(pre_Xtest,v))\n",
    "# def ff_1_X(w,v):\n",
    "#     w=w.reshape(15,1)\n",
    "#     return np.mean((sigmoid(np.dot(BB(v),w[:-1])+w[-1])-test_label)**2 )\n",
    "# def ff_X(w):\n",
    "#     return np.mean((sigmoid(np.dot(pre_Xtest,w))-test_label)**2 )\n",
    "    def fit(self,X,Y):\n",
    "        acc=[]\n",
    "        call=[]\n",
    "        pre=[]\n",
    "        loss=[]\n",
    "        testloss=[]\n",
    "        np.random.seed(1324)\n",
    "        self.W=np.random.random((X_train.shape[-1],))*2-1\n",
    "      \n",
    "        n=y_te[y_te==1.].shape[0]\n",
    "        for k in range(200):\n",
    "    #     while np.linalg.norm(d)//10**(-8) >= 10:\n",
    "            d=self.direction_XX(X,Y)\n",
    "#             print(np.linalg.norm(d))\n",
    "            if np.linalg.norm(d)//10**(-7) < 25:\n",
    "                break\n",
    "            sigma=0.8\n",
    "            f_1=np.max(self.f_XX(X,Y))\n",
    "            w=self.W\n",
    "            self.W=d*sigma+w\n",
    "            while np.max(self.f_XX(X,Y))>np.max(f_1):\n",
    "                sigma=sigma*0.8\n",
    "                self.W=d*sigma+w\n",
    "            self.W=d*sigma+w\n",
    "\n",
    "            output=self.sigmoid(np.dot(X_test,w))\n",
    "            output[output>=0.5]=1\n",
    "            output[output<0.5]=0\n",
    "    #         output=output.reshape(4000,)\n",
    "    #         pt=max(output[output==1.].shape[0],1)\n",
    "    #         m=0\n",
    "    #         for j in range(4000):\n",
    "    #             if output[j]==test_label[j]==1:\n",
    "    #                 m+=1\n",
    "\n",
    "\n",
    "    # # b1=np.random.random((1,10))*2-1\n",
    "\n",
    "\n",
    "            acc.append(accuracy_score(y_te,output))\n",
    "    #         call.append(m/n)\n",
    "    #         pre.append(m/pt)\n",
    "    #         loss.append(max(f_X(w)))\n",
    "    #         testloss.append(ff_X(w))\n",
    "        return self.W,acc"
   ]
  },
  {
   "cell_type": "code",
   "execution_count": 537,
   "metadata": {},
   "outputs": [],
   "source": [
    "'''def relu(x):\n",
    "    return ((x>=0)+0)*x\n",
    "def relu_g(x):\n",
    "    x[x>=0]=1\n",
    "    return x\n",
    "class solution_relu:\n",
    "    \n",
    "    #默认没有正则化，正则项参数默认为1，学习率默认为0.001，迭代次数为10001次\n",
    "    def __init__(self,penalty = None,Lambda = 0.03,a = 0.5,epochs = 200):\n",
    "        self.W = None\n",
    "        self.penalty = penalty\n",
    "        self.Lambda = Lambda\n",
    "        self.a = a\n",
    "        self.epochs =epochs\n",
    "        self.sigmoid = lambda x:1/(1 + np.exp(-x))\n",
    "        \n",
    "\n",
    "\n",
    "    def f_XX(self,X,Y):\n",
    "        \n",
    "        if self.penalty=='l2':f=np.array([np.mean((relu(np.dot(x,self.W))-y)**2 )+self.Lambda*np.sum(self.W**2) for x,y in zip(X,Y)])#pre_Xtrain,pre_Ytrain\n",
    "        else:f=np.array([np.mean((relu(np.dot(x,self.W))-y)**2 ) for x,y in zip(X,Y)])\n",
    "\n",
    "        return f         \n",
    "    def Gf_XX(self,X,Y):#求导数矩阵N*2\n",
    "        if self.penalty=='l2':\n",
    "            d=0.01*np.array([x.T.dot((relu(np.dot(x,self.W))-y)*relu_g(np.dot(x,self.W)))+2*self.Lambda*self.W for x,y in zip(X,Y)])\n",
    "#     return d.reshape(20,12289)\n",
    "        else:d=np.array([x.T.dot((relu(np.dot(x,self.W))-y)*relu_g(np.dot(x,self.W))) for x,y in zip(X,Y)])\n",
    "        return d\n",
    "    def direction_XX(self,X,Y):\n",
    "        gra=self.Gf_XX(X,Y)#导数矩阵N*30001\n",
    "        p=matrix(gra.dot(gra.T),tc='d')\n",
    "        q=matrix(-self.f_XX(X,Y),tc='d')#N维列向量\n",
    "        G=matrix(np.diag(np.array([-1]*20)),tc='d')#N=20\n",
    "        h=matrix(np.array([[0]]*20),tc='d')\n",
    "        A=matrix([[1.0]]*20)\n",
    "        b=matrix([1.0])\n",
    "        solvers.options['show_progress'] = False\n",
    "        sol = solvers.qp(p,q,G,h,A,b)\n",
    "        t=np.array(sol['x'])\n",
    "        d= -(gra.T.dot(t))\n",
    "        return d.reshape((X_train.shape[-1],))#30001维列向量\n",
    "# def BB_X(v):\n",
    "#     return sigmoid(np.dot(pre_Xtest,v))\n",
    "# def ff_1_X(w,v):\n",
    "#     w=w.reshape(15,1)\n",
    "#     return np.mean((sigmoid(np.dot(BB(v),w[:-1])+w[-1])-test_label)**2 )\n",
    "# def ff_X(w):\n",
    "#     return np.mean((sigmoid(np.dot(pre_Xtest,w))-test_label)**2 )\n",
    "    def fit(self,X,Y):\n",
    "        acc=[]\n",
    "        call=[]\n",
    "        pre=[]\n",
    "        loss=[]\n",
    "        testloss=[]\n",
    "        np.random.seed(1324)\n",
    "        self.W=np.random.random((X_train.shape[-1],))*2-1\n",
    "      \n",
    "        n=y_te[y_te==1.].shape[0]\n",
    "       \n",
    "        for k in range(200):\n",
    "    #     while np.linalg.norm(d)//10**(-8) >= 10:\n",
    "            d=self.direction_XX(X,Y)\n",
    "            print(np.linalg.norm(d))\n",
    "            if np.linalg.norm(d)//10**(-7) < 25:\n",
    "                break\n",
    "            sigma=0.5\n",
    "            f_1=np.max(self.f_XX(X,Y))\n",
    "            w=self.W\n",
    "            self.W=d*sigma+w\n",
    "            while np.max(self.f_XX(X,Y))>np.max(f_1):\n",
    "                sigma=sigma*0.5\n",
    "                self.W=d*sigma+w\n",
    "            self.W=d*sigma+w\n",
    "            output=self.sigmoid(np.dot(X_test,w))\n",
    "            output[output>=0.5]=1\n",
    "            output[output<0.5]=0\n",
    "    #         output=output.reshape(4000,)\n",
    "    #         pt=max(output[output==1.].shape[0],1)\n",
    "    #         m=0\n",
    "    #         for j in range(4000):\n",
    "    #             if output[j]==test_label[j]==1:\n",
    "    #                 m+=1\n",
    "\n",
    "\n",
    "    # # b1=np.random.random((1,10))*2-1\n",
    "\n",
    "\n",
    "            acc.append(accuracy_score(y_te,output))\n",
    "    #         call.append(m/n)\n",
    "    #         pre.append(m/pt)\n",
    "    #         loss.append(max(f_X(w)))\n",
    "    #         testloss.append(ff_X(w))\n",
    "        return self.W,acc'''"
   ]
  },
  {
   "cell_type": "code",
   "execution_count": 899,
   "metadata": {},
   "outputs": [
    {
     "name": "stdout",
     "output_type": "stream",
     "text": [
      "AUC:0.9717493469670246\n",
      "f2：76.57%\n",
      "CV集准确率：89.88%\n",
      "              precision    recall  f1-score   support\n",
      "\n",
      "           0       0.99      0.93      0.96      3812\n",
      "           1       0.38      0.87      0.53       188\n",
      "\n",
      "    accuracy                           0.93      4000\n",
      "   macro avg       0.69      0.90      0.74      4000\n",
      "weighted avg       0.96      0.93      0.94      4000\n",
      "\n",
      "running time:21.556758165359497\n"
     ]
    }
   ],
   "source": [
    "s_2=solution_XX(penalty='l2')\n",
    "start=time.time()\n",
    "w_2,AUC = s_2.fit(pre_XX,pre_YY)\n",
    "end=time.time()\n",
    "y_pred=s_2.sigmoid(X_test.dot(w_2))\n",
    "print('AUC:{}'.format(roc_auc_score(y_te,y_pred)))\n",
    "y_train_pred=s_2.sigmoid(X_train.dot(w_2))\n",
    "y_train_pred[y_train_pred>=0.5]=1\n",
    "y_train_pred[y_train_pred<0.5]=0\n",
    "y_pred[y_pred>=0.5]=1\n",
    "y_pred[y_pred<0.5]=0\n",
    "# # C_x.append(precision_score(y_pred,train_label_[test_index]))\n",
    "print('f2：{:.2%}'.format(fbeta_score(y_te,y_pred,beta=2.94)))    \n",
    "# print('训练集准确率：{:.2%}'.format(accuracy_score(y_train_pred,train_label_[train_index])))\n",
    "print('CV集准确率：{:.2%}'.format(balanced_accuracy_score(y_te,y_pred)))\n",
    "print(classification_report(y_te,y_pred))\n",
    "print('running time:{}'.format(end-start))"
   ]
  },
  {
   "cell_type": "code",
   "execution_count": 1037,
   "metadata": {},
   "outputs": [
    {
     "data": {
      "text/plain": [
       "0.7652619047619048"
      ]
     },
     "execution_count": 1037,
     "metadata": {},
     "output_type": "execute_result"
    }
   ],
   "source": [
    "(0.87+0.766+0.899)*0.3+0.1/21"
   ]
  },
  {
   "cell_type": "code",
   "execution_count": 898,
   "metadata": {},
   "outputs": [
    {
     "name": "stdout",
     "output_type": "stream",
     "text": [
      "AUC:0.9559886472728896\n",
      "f2：73.75%\n",
      "CV集准确率：88.20%\n",
      "              precision    recall  f1-score   support\n",
      "\n",
      "           0       0.99      0.93      0.96      3812\n",
      "           1       0.37      0.84      0.51       188\n",
      "\n",
      "    accuracy                           0.92      4000\n",
      "   macro avg       0.68      0.88      0.73      4000\n",
      "weighted avg       0.96      0.92      0.94      4000\n",
      "\n",
      "running time:16.414073944091797\n"
     ]
    }
   ],
   "source": [
    "s=solution_XX()\n",
    "start=time.time()\n",
    "w,AUC = s.fit(pre_XX,pre_YY)\n",
    "end=time.time()\n",
    "y_pred=s.sigmoid(X_test.dot(w))\n",
    "print('AUC:{}'.format(roc_auc_score(y_te,y_pred)))\n",
    "y_train_pred=s.sigmoid(X_train.dot(w))\n",
    "y_train_pred[y_train_pred>=0.5]=1\n",
    "y_train_pred[y_train_pred<0.5]=0\n",
    "y_pred[y_pred>=0.5]=1\n",
    "y_pred[y_pred<0.5]=0\n",
    "# # C_x.append(precision_score(y_pred,train_label_[test_index]))\n",
    "print('f2：{:.2%}'.format(fbeta_score(y_te,y_pred,beta=2.94)))    \n",
    "# print('训练集准确率：{:.2%}'.format(accuracy_score(y_train_pred,train_label_[train_index])))\n",
    "print('CV集准确率：{:.2%}'.format(balanced_accuracy_score(y_te,y_pred)))\n",
    "print(classification_report(y_te,y_pred))\n",
    "print('running time:{}'.format(end-start))"
   ]
  },
  {
   "cell_type": "markdown",
   "metadata": {},
   "source": [
    "## mean_bias"
   ]
  },
  {
   "cell_type": "code",
   "execution_count": 61,
   "metadata": {},
   "outputs": [],
   "source": [
    "def sigmoid_(x,u):\n",
    "    return 1.0/(1.0+np.exp(-x-u))"
   ]
  },
  {
   "cell_type": "code",
   "execution_count": 90,
   "metadata": {},
   "outputs": [],
   "source": [
    "pre_in=(np.dot(x_tr,model_in.coef_.T)+model_in.intercept_).reshape(x_tr.shape[0],)\n",
    "n_len=pre_in[pre_in>=0].shape[0]\n",
    "index=np.argwhere(pre_in>=0).reshape(n_len,)"
   ]
  },
  {
   "cell_type": "code",
   "execution_count": 58,
   "metadata": {},
   "outputs": [],
   "source": [
    "def meanuncertainty(x,n):\n",
    "    r=[]\n",
    "    for i in range(0,len(x)+1-n,n//5):\n",
    "        r.append(np.mean(x[i:i+n]))\n",
    "    return min(r),max(r)"
   ]
  },
  {
   "cell_type": "code",
   "execution_count": 1054,
   "metadata": {},
   "outputs": [],
   "source": [
    "def equa_xh(x,n):\n",
    "    pre_in=np.dot(X_train,w).reshape(x_tr.shape[0],)\n",
    "    ini_err=y_tr-sigmoid_(pre_in,x)\n",
    "    err_w=shuffle(np.concatenate((np.random.choice(ini_err[y_tr==0],ini_err[y_tr==1].shape[0]),ini_err[y_tr==1])))\n",
    "    for k in range(ini_err.shape[0]):\n",
    "    \n",
    "        if y_tr[k]==1:\n",
    "            ini_err[k]=10*ini_err[k]\n",
    "\n",
    "    \n",
    "    return meanuncertainty(ini_err,n)[1]"
   ]
  },
  {
   "cell_type": "code",
   "execution_count": 872,
   "metadata": {},
   "outputs": [],
   "source": [
    "def equa_m(x,n):\n",
    "    \n",
    "    ini_err=y_tr-sigmoid_(pre_in,x)\n",
    "#     err_w=shuffle(np.concatenate((np.random.choice(ini_err[y_tr==0],ini_err[y_tr==1].shape[0]),ini_err[y_tr==1])))\n",
    "    for k in range(ini_err.shape[0]):\n",
    "    \n",
    "        if y_tr[k]==1:\n",
    "            ini_err[k]=10*ini_err[k]\n",
    "\n",
    "    \n",
    "    return meanuncertainty(ini_err,n)[1]\n"
   ]
  },
  {
   "cell_type": "code",
   "execution_count": 935,
   "metadata": {},
   "outputs": [],
   "source": [
    "meanxh_1=np.array([fsolve(lambda x:equa_xh(x,n),0.5 ) for n in range(10,1000,10)])\n",
    "meanxh_2=np.array([fsolve(lambda x:equa_xh(x,n),0.5 ) for n in range(1000,10000,100)])"
   ]
  },
  {
   "cell_type": "code",
   "execution_count": 940,
   "metadata": {},
   "outputs": [],
   "source": [
    "mean_xh=np.concatenate((meanxh_1,meanxh_2))[:-35].reshape(-1)"
   ]
  },
  {
   "cell_type": "code",
   "execution_count": 880,
   "metadata": {},
   "outputs": [
    {
     "data": {
      "text/plain": [
       "(0.0004772297745227459, 0.0004772297745227459)"
      ]
     },
     "execution_count": 880,
     "metadata": {},
     "output_type": "execute_result"
    }
   ],
   "source": [
    "meanuncertainty(y_tr-sigmoid_(pre_in,0),16000)"
   ]
  },
  {
   "cell_type": "code",
   "execution_count": 204,
   "metadata": {},
   "outputs": [],
   "source": [
    "mean_1=np.array([fsolve(lambda x:equa_m(x,n),0.5 ) for n in range(10,1000,10)])\n",
    "mean_2=np.array([fsolve(lambda x:equa_m(x,n),0.5 ) for n in range(1000,10000,100)])"
   ]
  },
  {
   "cell_type": "code",
   "execution_count": 282,
   "metadata": {},
   "outputs": [],
   "source": [
    "\n",
    "mean_lr=np.concatenate((mean_1,mean_2))[:-20].reshape(-1)\n"
   ]
  },
  {
   "cell_type": "code",
   "execution_count": 966,
   "metadata": {},
   "outputs": [
    {
     "data": {
      "text/plain": [
       "19.692307692307693"
      ]
     },
     "execution_count": 966,
     "metadata": {},
     "output_type": "execute_result"
    }
   ],
   "source": [
    "12800/650"
   ]
  },
  {
   "cell_type": "code",
   "execution_count": 967,
   "metadata": {},
   "outputs": [],
   "source": [
    "import imblearn\n",
    "from sklearn.metrics import balanced_accuracy_score\n",
    "metrics_names=['Balanced_acc','F2_score','Recall','Precision']\n",
    "def evaluate_modelxh(X,y,m,model=solution_XX()):\n",
    "    \n",
    "    bacc,f2,rec,pre=list(),list(),list(),list()\n",
    "   \n",
    "#     cv = RepeatedStratifiedKFold(n_splits=10,n_repeats=1, random_state=1)\n",
    "    for train_index,test_index in cv.split(X,y):\n",
    "        \n",
    "        N=X[train_index].shape[0]\n",
    "        n=y[train_index][y[train_index]==1].shape[0]\n",
    "        c_1=np.concatenate((X[train_index][y[train_index]==0],X[train_index][y[train_index]==1]))\n",
    "        l_1=np.concatenate((np.array([0]*(N-n)),np.array([1]*n)))\n",
    "        M=int((N-n)/19)\n",
    "        indice=[k*M for k in range(1,19)]\n",
    "        indice.append(N-n)\n",
    "        pre_cv=np.array(np.split(c_1,indice))\n",
    "        pre_y=np.array(np.split(l_1,indice))\n",
    "        w,auc= model.fit(pre_cv,pre_y)\n",
    "#         w_x.append(w)\n",
    "        prob_y=sigmoid_(X_train[test_index].dot(w),m)\n",
    "        \n",
    "        prdict_y=np.round(prob_y)\n",
    "        rec.append(recall_score(y[test_index],prdict_y))\n",
    "        pre.append(precision_score(y[test_index],prdict_y))\n",
    "\n",
    "        bacc.append(balanced_accuracy_score(y[test_index],prdict_y))\n",
    "        f2.append(fbeta_score(y[test_index],prdict_y,beta=2.94))\n",
    " \n",
    "    return bacc,f2,rec,pre\n",
    "    \n",
    "#                 X_resampled_smote,y_resampled_smote=SMOTE().fit_resample(X[train_index], y[train_index])\n",
    "           \n",
    "               "
   ]
  },
  {
   "cell_type": "code",
   "execution_count": 971,
   "metadata": {},
   "outputs": [
    {
     "data": {
      "text/html": [
       "<div>\n",
       "<style scoped>\n",
       "    .dataframe tbody tr th:only-of-type {\n",
       "        vertical-align: middle;\n",
       "    }\n",
       "\n",
       "    .dataframe tbody tr th {\n",
       "        vertical-align: top;\n",
       "    }\n",
       "\n",
       "    .dataframe thead th {\n",
       "        text-align: right;\n",
       "    }\n",
       "</style>\n",
       "<table border=\"1\" class=\"dataframe\">\n",
       "  <thead>\n",
       "    <tr style=\"text-align: right;\">\n",
       "      <th></th>\n",
       "      <th>upper_mean</th>\n",
       "      <th>Balanced_acc</th>\n",
       "      <th>F2_score</th>\n",
       "      <th>Recall</th>\n",
       "      <th>Precision</th>\n",
       "    </tr>\n",
       "  </thead>\n",
       "  <tbody>\n",
       "    <tr>\n",
       "      <th>0</th>\n",
       "      <td>15.743951</td>\n",
       "      <td>0.583758</td>\n",
       "      <td>0.382424</td>\n",
       "      <td>0.998765</td>\n",
       "      <td>0.060385</td>\n",
       "    </tr>\n",
       "    <tr>\n",
       "      <th>1</th>\n",
       "      <td>11.019738</td>\n",
       "      <td>0.679495</td>\n",
       "      <td>0.445673</td>\n",
       "      <td>0.995084</td>\n",
       "      <td>0.077224</td>\n",
       "    </tr>\n",
       "    <tr>\n",
       "      <th>2</th>\n",
       "      <td>8.849655</td>\n",
       "      <td>0.734287</td>\n",
       "      <td>0.492552</td>\n",
       "      <td>0.988919</td>\n",
       "      <td>0.092290</td>\n",
       "    </tr>\n",
       "    <tr>\n",
       "      <th>3</th>\n",
       "      <td>7.326540</td>\n",
       "      <td>0.775055</td>\n",
       "      <td>0.534940</td>\n",
       "      <td>0.982754</td>\n",
       "      <td>0.108343</td>\n",
       "    </tr>\n",
       "    <tr>\n",
       "      <th>4</th>\n",
       "      <td>6.357403</td>\n",
       "      <td>0.798744</td>\n",
       "      <td>0.563610</td>\n",
       "      <td>0.976604</td>\n",
       "      <td>0.121108</td>\n",
       "    </tr>\n",
       "    <tr>\n",
       "      <th>5</th>\n",
       "      <td>5.746688</td>\n",
       "      <td>0.813574</td>\n",
       "      <td>0.583692</td>\n",
       "      <td>0.970446</td>\n",
       "      <td>0.131382</td>\n",
       "    </tr>\n",
       "    <tr>\n",
       "      <th>6</th>\n",
       "      <td>5.150418</td>\n",
       "      <td>0.830264</td>\n",
       "      <td>0.607846</td>\n",
       "      <td>0.966758</td>\n",
       "      <td>0.144477</td>\n",
       "    </tr>\n",
       "    <tr>\n",
       "      <th>7</th>\n",
       "      <td>4.762212</td>\n",
       "      <td>0.836938</td>\n",
       "      <td>0.619156</td>\n",
       "      <td>0.959365</td>\n",
       "      <td>0.152395</td>\n",
       "    </tr>\n",
       "    <tr>\n",
       "      <th>8</th>\n",
       "      <td>3.962244</td>\n",
       "      <td>0.850515</td>\n",
       "      <td>0.644528</td>\n",
       "      <td>0.942142</td>\n",
       "      <td>0.172895</td>\n",
       "    </tr>\n",
       "    <tr>\n",
       "      <th>9</th>\n",
       "      <td>3.688898</td>\n",
       "      <td>0.855482</td>\n",
       "      <td>0.654040</td>\n",
       "      <td>0.938446</td>\n",
       "      <td>0.180800</td>\n",
       "    </tr>\n",
       "    <tr>\n",
       "      <th>10</th>\n",
       "      <td>3.266770</td>\n",
       "      <td>0.858874</td>\n",
       "      <td>0.664116</td>\n",
       "      <td>0.922449</td>\n",
       "      <td>0.194283</td>\n",
       "    </tr>\n",
       "    <tr>\n",
       "      <th>11</th>\n",
       "      <td>4.133984</td>\n",
       "      <td>0.847981</td>\n",
       "      <td>0.639482</td>\n",
       "      <td>0.945830</td>\n",
       "      <td>0.168423</td>\n",
       "    </tr>\n",
       "    <tr>\n",
       "      <th>12</th>\n",
       "      <td>4.035017</td>\n",
       "      <td>0.849932</td>\n",
       "      <td>0.643028</td>\n",
       "      <td>0.944596</td>\n",
       "      <td>0.171161</td>\n",
       "    </tr>\n",
       "    <tr>\n",
       "      <th>13</th>\n",
       "      <td>3.596452</td>\n",
       "      <td>0.854975</td>\n",
       "      <td>0.654595</td>\n",
       "      <td>0.932296</td>\n",
       "      <td>0.183234</td>\n",
       "    </tr>\n",
       "    <tr>\n",
       "      <th>14</th>\n",
       "      <td>3.460253</td>\n",
       "      <td>0.855842</td>\n",
       "      <td>0.657349</td>\n",
       "      <td>0.927380</td>\n",
       "      <td>0.187032</td>\n",
       "    </tr>\n",
       "    <tr>\n",
       "      <th>15</th>\n",
       "      <td>3.022403</td>\n",
       "      <td>0.862302</td>\n",
       "      <td>0.671827</td>\n",
       "      <td>0.917519</td>\n",
       "      <td>0.202845</td>\n",
       "    </tr>\n",
       "    <tr>\n",
       "      <th>16</th>\n",
       "      <td>2.729362</td>\n",
       "      <td>0.867820</td>\n",
       "      <td>0.683236</td>\n",
       "      <td>0.915057</td>\n",
       "      <td>0.214349</td>\n",
       "    </tr>\n",
       "    <tr>\n",
       "      <th>17</th>\n",
       "      <td>2.680339</td>\n",
       "      <td>0.867474</td>\n",
       "      <td>0.683268</td>\n",
       "      <td>0.912588</td>\n",
       "      <td>0.215577</td>\n",
       "    </tr>\n",
       "    <tr>\n",
       "      <th>18</th>\n",
       "      <td>2.469205</td>\n",
       "      <td>0.871152</td>\n",
       "      <td>0.691406</td>\n",
       "      <td>0.910134</td>\n",
       "      <td>0.224863</td>\n",
       "    </tr>\n",
       "    <tr>\n",
       "      <th>19</th>\n",
       "      <td>2.406360</td>\n",
       "      <td>0.872251</td>\n",
       "      <td>0.694044</td>\n",
       "      <td>0.908907</td>\n",
       "      <td>0.228256</td>\n",
       "    </tr>\n",
       "  </tbody>\n",
       "</table>\n",
       "</div>"
      ],
      "text/plain": [
       "    upper_mean  Balanced_acc  F2_score    Recall  Precision\n",
       "0    15.743951      0.583758  0.382424  0.998765   0.060385\n",
       "1    11.019738      0.679495  0.445673  0.995084   0.077224\n",
       "2     8.849655      0.734287  0.492552  0.988919   0.092290\n",
       "3     7.326540      0.775055  0.534940  0.982754   0.108343\n",
       "4     6.357403      0.798744  0.563610  0.976604   0.121108\n",
       "5     5.746688      0.813574  0.583692  0.970446   0.131382\n",
       "6     5.150418      0.830264  0.607846  0.966758   0.144477\n",
       "7     4.762212      0.836938  0.619156  0.959365   0.152395\n",
       "8     3.962244      0.850515  0.644528  0.942142   0.172895\n",
       "9     3.688898      0.855482  0.654040  0.938446   0.180800\n",
       "10    3.266770      0.858874  0.664116  0.922449   0.194283\n",
       "11    4.133984      0.847981  0.639482  0.945830   0.168423\n",
       "12    4.035017      0.849932  0.643028  0.944596   0.171161\n",
       "13    3.596452      0.854975  0.654595  0.932296   0.183234\n",
       "14    3.460253      0.855842  0.657349  0.927380   0.187032\n",
       "15    3.022403      0.862302  0.671827  0.917519   0.202845\n",
       "16    2.729362      0.867820  0.683236  0.915057   0.214349\n",
       "17    2.680339      0.867474  0.683268  0.912588   0.215577\n",
       "18    2.469205      0.871152  0.691406  0.910134   0.224863\n",
       "19    2.406360      0.872251  0.694044  0.908907   0.228256"
      ]
     },
     "execution_count": 971,
     "metadata": {},
     "output_type": "execute_result"
    }
   ],
   "source": [
    "pd.DataFrame(all_resultsxh)"
   ]
  },
  {
   "cell_type": "code",
   "execution_count": 2,
   "metadata": {},
   "outputs": [
    {
     "data": {
      "text/plain": [
       "\"all_resultsxh = []\\n\\nfor k in mean_xh:\\n    result=np.mean(evaluate_modelxh(X_train,y_tr,k),axis=1)\\n    metric_res = {'upper_mean': k}\\n    for name, value in zip(metrics_names, result):\\n#             print(name, ': ', value)\\n            metric_res[name] = value\\n       \\n\\n    all_resultsxh.append(metric_res)\""
      ]
     },
     "execution_count": 2,
     "metadata": {},
     "output_type": "execute_result"
    }
   ],
   "source": [
    "\n",
    "'''all_resultsxh = []\n",
    "\n",
    "for k in mean_xh:\n",
    "    result=np.mean(evaluate_modelxh(X_train,y_tr,k),axis=1)\n",
    "    metric_res = {'upper_mean': k}\n",
    "    for name, value in zip(metrics_names, result):\n",
    "#             print(name, ': ', value)\n",
    "            metric_res[name] = value\n",
    "       \n",
    "\n",
    "    all_resultsxh.append(metric_res)'''"
   ]
  },
  {
   "cell_type": "code",
   "execution_count": null,
   "metadata": {},
   "outputs": [],
   "source": [
    "\n",
    "pd.DataFrame(all_resultsxh).to_csv('CV_which_mu_to_set_inmaxmeanBIAS.csv')"
   ]
  },
  {
   "cell_type": "code",
   "execution_count": 270,
   "metadata": {},
   "outputs": [],
   "source": [
    "import imblearn\n",
    "from sklearn.metrics import balanced_accuracy_score\n",
    "metrics_names=['Balanced_acc','F2_score','AUC','Recall','Precision']\n",
    "def evaluate_model(X,y,m,model=LogisticRegression()):\n",
    "    \n",
    "    bacc,f2,auc,rec,pre=list(),list(),list(),list(),list()\n",
    "   \n",
    "#     cv = RepeatedStratifiedKFold(n_splits=10,n_repeats=1, random_state=1)\n",
    "    for train_index,test_index in cv.split(X,y):\n",
    "#                 X_resampled_smote,y_resampled_smote=SMOTE().fit_resample(X[train_index], y[train_index])\n",
    "                model.fit(X[train_index],y[train_index])\n",
    "                prob_y=sigmoid_((np.dot(X[test_index],model.coef_.T)+model.intercept_),m)\n",
    "                auc.append(roc_auc_score(y[test_index],prob_y))\n",
    "                \n",
    "                prdict_y=np.round(prob_y)\n",
    "                rec.append(recall_score(y[test_index],prdict_y))\n",
    "                pre.append(precision_score(y[test_index],prdict_y))\n",
    "                \n",
    "                bacc.append(balanced_accuracy_score(y[test_index],prdict_y))\n",
    "                f2.append(fbeta_score(y[test_index],prdict_y,beta=2))\n",
    " \n",
    "    return bacc,f2,auc,rec,pre"
   ]
  },
  {
   "cell_type": "code",
   "execution_count": 285,
   "metadata": {},
   "outputs": [],
   "source": [
    "##交叉验证集选上下均值\n",
    "all_results = []\n",
    "\n",
    "for k in mean_lr:\n",
    "    result=np.mean(evaluate_model(x_tr,y_tr,k),axis=1)\n",
    "    metric_res = {'upper_mean': k}\n",
    "    for name, value in zip(metrics_names, result):\n",
    "#             print(name, ': ', value)\n",
    "            metric_res[name] = value\n",
    "       \n",
    "\n",
    "    all_results.append(metric_res)"
   ]
  },
  {
   "cell_type": "code",
   "execution_count": 286,
   "metadata": {},
   "outputs": [],
   "source": [
    "\n",
    "pd.DataFrame(all_results).to_csv('CV_which_mu_to_set_inLRBIAS.csv')\n"
   ]
  },
  {
   "cell_type": "code",
   "execution_count": 3,
   "metadata": {},
   "outputs": [
    {
     "data": {
      "text/plain": [
       "'def huber(true, pred, delta):\\n    loss = np.where(np.abs(true-pred) < delta , 0.5*((true-pred)**2), delta*np.abs(true - pred) - 0.5*(delta**2))\\n    return np.sum(loss)'"
      ]
     },
     "execution_count": 3,
     "metadata": {},
     "output_type": "execute_result"
    }
   ],
   "source": [
    "'''def huber(true, pred, delta):\n",
    "    loss = np.where(np.abs(true-pred) < delta , 0.5*((true-pred)**2), delta*np.abs(true - pred) - 0.5*(delta**2))\n",
    "    return np.sum(loss)'''"
   ]
  },
  {
   "cell_type": "markdown",
   "metadata": {},
   "source": [
    "## Volatility-bias"
   ]
  },
  {
   "cell_type": "code",
   "execution_count": 69,
   "metadata": {},
   "outputs": [],
   "source": [
    "def F_u(x,arr):\n",
    "    p=[]\n",
    "    for c in arr:\n",
    "        \n",
    "        if c <0:\n",
    "            p.append(2*x[1]*st.norm.cdf(c/x[1])/(x[0]+x[1]))\n",
    "        else:\n",
    "            p.append(1-2*x[0]*st.norm.cdf(-c/x[0])/(x[0]+x[1]))\n",
    "    return np.array(p)\n",
    "def F_L(x,arr):\n",
    "    p=[]\n",
    "    for c in arr:\n",
    "        \n",
    "        if c <0:\n",
    "            p.append(2*x[0]*st.norm.cdf(c/x[0])/(x[0]+x[1]))\n",
    "        else:\n",
    "            p.append(1-2*x[1]*st.norm.cdf(-c/x[1])/(x[0]+x[1]))\n",
    "    return np.array(p)"
   ]
  },
  {
   "cell_type": "code",
   "execution_count": 873,
   "metadata": {},
   "outputs": [],
   "source": [
    "def equa_v(x,n):\n",
    " \n",
    "    \n",
    "    err_u=y_tr-F_u(x,pre_in)\n",
    "    err_L=y_tr-F_L(x,pre_in)\n",
    "#     for k in range(y_tr.shape[0]):\n",
    "    \n",
    "#         if y_tr[k]==1:\n",
    "#             err_u[k]=2*err_u[k]\n",
    "#             err_L[k]=19*err_L[k]\n",
    "    \n",
    "    return np.array([meanuncertainty(err_u,n)[1],meanuncertainty(err_L,n)[0]])"
   ]
  },
  {
   "cell_type": "code",
   "execution_count": 1084,
   "metadata": {},
   "outputs": [],
   "source": [
    "def equa_vxh(x,n):\n",
    "    pre_in=np.dot(X_train,w).reshape(x_tr.shape[0],)\n",
    "    err_u=y_tr-F_u(x,pre_in)\n",
    "    err_L=y_tr-F_L(x,pre_in)\n",
    "#     for k in range(y_tr.shape[0]):\n",
    "    \n",
    "#         if y_tr[k]==1:\n",
    "#             err_u[k]=2*err_u[k]\n",
    "#             err_L[k]=19*err_L[k]\n",
    "    \n",
    "    return np.array([meanuncertainty(err_u,n)[1],meanuncertainty(err_L,n)[0]])"
   ]
  },
  {
   "cell_type": "code",
   "execution_count": 1094,
   "metadata": {},
   "outputs": [],
   "source": [
    "# var_1=np.array([fsolve(lambda x:equa_vxh(x,n),[0.5,1.5] ) for n in range(50,110,10)])\n",
    "var_2=np.array([fsolve(lambda x:equa_vxh(x,n),[0.5,1.5] ) for n in range(500,1000,50)])\n",
    "var_3=np.array([fsolve(lambda x:equa_vxh(x,n),[0.5,1.5] ) for n in range(1000,6000,100)])\n",
    "\n"
   ]
  },
  {
   "cell_type": "code",
   "execution_count": 1096,
   "metadata": {},
   "outputs": [],
   "source": [
    "var_xh=np.concatenate((var_2,var_3))\n",
    "var_xhmean=pd.DataFrame(var_xh,index=np.hstack((\n",
    "                                           np.array(range(500,1000,50)),np.array(range(1000,6000,100)))))\n",
    "var_xhmean.to_csv('var_xhmean_celeb.csv')"
   ]
  },
  {
   "cell_type": "code",
   "execution_count": 1102,
   "metadata": {},
   "outputs": [],
   "source": [
    "metrics_names=['Balanced_acc','F2_score','Recall','Precision']\n",
    "def evaluate_varxh(X,y,m,model=solution_XX()):\n",
    "    \n",
    "    bacc,f2,rec,pre=list(),list(),list(),list()\n",
    "   \n",
    "#     cv = RepeatedStratifiedKFold(n_splits=10,n_repeats=1, random_state=1)\n",
    "    for train_index,test_index in cv.split(X,y):\n",
    "        \n",
    "        N=X[train_index].shape[0]\n",
    "        n=y[train_index][y[train_index]==1].shape[0]\n",
    "        c_1=np.concatenate((X[train_index][y[train_index]==0],X[train_index][y[train_index]==1]))\n",
    "        l_1=np.concatenate((np.array([0]*(N-n)),np.array([1]*n)))\n",
    "        M=int((N-n)/19)\n",
    "        indice=[k*M for k in range(1,19)]\n",
    "        indice.append(N-n)\n",
    "        pre_cv=np.array(np.split(c_1,indice))\n",
    "        pre_y=np.array(np.split(l_1,indice))\n",
    "        w,auc= model.fit(pre_cv,pre_y)\n",
    "#         w_x.append(w)\n",
    "        prob_y=F_u(m,X_train[test_index].dot(w))\n",
    "        \n",
    "        prdict_y=np.round(prob_y)\n",
    "        rec.append(recall_score(y[test_index],prdict_y))\n",
    "        pre.append(precision_score(y[test_index],prdict_y))\n",
    "\n",
    "        bacc.append(balanced_accuracy_score(y[test_index],prdict_y))\n",
    "        f2.append(fbeta_score(y[test_index],prdict_y,beta=2.94))\n",
    " \n",
    "    return bacc,f2,rec,pre"
   ]
  },
  {
   "cell_type": "code",
   "execution_count": 1104,
   "metadata": {},
   "outputs": [],
   "source": [
    "\n",
    "all_resultsxhvar = []\n",
    "\n",
    "for k in var_xh:\n",
    "    result=np.mean(evaluate_varxh(X_train,y_tr,k),axis=1)\n",
    "    metric_res = {'lower-var': k[0],'upper-var':k[1]}\n",
    "    for name, value in zip(metrics_names, result):\n",
    "#             print(name, ': ', value)\n",
    "            metric_res[name] = value\n",
    "       \n",
    "\n",
    "    all_resultsxhvar.append(metric_res)"
   ]
  },
  {
   "cell_type": "code",
   "execution_count": 1105,
   "metadata": {},
   "outputs": [],
   "source": [
    "pd.DataFrame(all_resultsxhvar).to_csv('CV_which_sigma_to_set_inxhBIAS.csv')"
   ]
  },
  {
   "cell_type": "code",
   "execution_count": null,
   "metadata": {},
   "outputs": [],
   "source": [
    "var_1=np.array([fsolve(lambda x:equa_v(x,n),[0.5,1.5] ) for n in range(50,110,10)])\n",
    "var_2=np.array([fsolve(lambda x:equa_v(x,n),[0.5,1.5] ) for n in range(110,1000,50)])\n",
    "var_3=np.array([fsolve(lambda x:equa_v(x,n),[0.5,1.5] ) for n in range(1000,6000,100)])\n",
    "\n",
    "\n",
    "                "
   ]
  },
  {
   "cell_type": "code",
   "execution_count": 566,
   "metadata": {},
   "outputs": [],
   "source": [
    "var=np.concatenate((var_1,var_2,var_3))"
   ]
  },
  {
   "cell_type": "code",
   "execution_count": 571,
   "metadata": {},
   "outputs": [],
   "source": [
    "var_mean=pd.DataFrame(var,index=np.hstack((np.array(range(50,110,10)),\n",
    "                                           np.array(range(110,1000,50)),np.array(range(1000,6000,100)))))"
   ]
  },
  {
   "cell_type": "code",
   "execution_count": 573,
   "metadata": {},
   "outputs": [],
   "source": [
    "var_mean.to_csv('var_mean_celeb.csv')"
   ]
  },
  {
   "cell_type": "code",
   "execution_count": 576,
   "metadata": {},
   "outputs": [],
   "source": [
    "def var_evaluate_model(X,y,m,model=LogisticRegression()):\n",
    "    \n",
    "    bacc,f2,auc,rec,pre=list(),list(),list(),list(),list()\n",
    "   \n",
    "#     cv = RepeatedStratifiedKFold(n_splits=10,n_repeats=1, random_state=1)\n",
    "    for train_index,test_index in cv.split(X,y):\n",
    "#                 X_resampled_smote,y_resampled_smote=SMOTE().fit_resample(X[train_index], y[train_index])\n",
    "                model.fit(X[train_index],y[train_index])\n",
    "                prob_y=F_u(m,(np.dot(X[test_index],model_in.coef_.T)+model_in.intercept_).reshape(X[test_index].shape[0],))\n",
    "        \n",
    "                auc.append(roc_auc_score(y[test_index],prob_y))\n",
    "                \n",
    "                prdict_y=np.round(prob_y)\n",
    "                rec.append(recall_score(y[test_index],prdict_y))\n",
    "                pre.append(precision_score(y[test_index],prdict_y))\n",
    "                \n",
    "                bacc.append(balanced_accuracy_score(y[test_index],prdict_y))\n",
    "                f2.append(fbeta_score(y[test_index],prdict_y,beta=2))\n",
    " \n",
    "    return bacc,f2,auc,rec,pre"
   ]
  },
  {
   "cell_type": "code",
   "execution_count": 585,
   "metadata": {},
   "outputs": [],
   "source": [
    "##交叉验证集选上下方差\n",
    "all_results_var = []\n",
    "\n",
    "for k in var:\n",
    "    result=np.mean(var_evaluate_model(x_tr,y_tr,k),axis=1)\n",
    "    metric_res = {'lower_var':k[0],'upper_var': k[1]}\n",
    "    for name, value in zip(metrics_names, result):\n",
    "#             print(name, ': ', value)\n",
    "            metric_res[name] = value\n",
    "       \n",
    "\n",
    "    all_results_var.append(metric_res)"
   ]
  },
  {
   "cell_type": "code",
   "execution_count": 587,
   "metadata": {},
   "outputs": [],
   "source": [
    "pd.DataFrame(all_results_var).to_csv('CV_which_sigma_to_set_inLRBIAS.csv')"
   ]
  },
  {
   "cell_type": "markdown",
   "metadata": {},
   "source": [
    "## 测试"
   ]
  },
  {
   "cell_type": "code",
   "execution_count": 1108,
   "metadata": {},
   "outputs": [
    {
     "name": "stdout",
     "output_type": "stream",
     "text": [
      "测试auc：96.57%\n",
      "              precision    recall  f1-score   support\n",
      "\n",
      "           0       1.00      0.90      0.95      3812\n",
      "           1       0.32      0.92      0.47       188\n",
      "\n",
      "    accuracy                           0.90      4000\n",
      "   macro avg       0.66      0.91      0.71      4000\n",
      "weighted avg       0.96      0.90      0.92      4000\n",
      "\n",
      "测试集准确率：91.09%\n",
      "测试集召回：92.02%\n",
      "测试F2：76.78%\n"
     ]
    }
   ],
   "source": [
    "##volatility-bias max-mean\n",
    "\n",
    "y_preX_v=F_u([0.075,0.486],np.dot(X_test,w_2)).reshape(x_te.shape[0],)\n",
    "print('测试auc：{:.2%}'.format(roc_auc_score(y_te,y_preX_v)))\n",
    "y_preX_v[y_preX_v<0.5]=0\n",
    "y_preX_v[y_preX_v>=0.5]=1\n",
    "print(classification_report(y_te,y_preX_v))\n",
    "print('测试集准确率：{:.2%}'.format(balanced_accuracy_score(y_te,y_preX_v)))\n",
    "print('测试集召回：{:.2%}'.format(recall_score(y_te,y_preX_v)))\n",
    "print('测试F2：{:.2%}'.format(fbeta_score(y_te,y_preX_v,beta=2.94)))\n"
   ]
  },
  {
   "cell_type": "code",
   "execution_count": 1109,
   "metadata": {},
   "outputs": [
    {
     "data": {
      "text/plain": [
       "0.7844619047619048"
      ]
     },
     "execution_count": 1109,
     "metadata": {},
     "output_type": "execute_result"
    }
   ],
   "source": [
    "(0.768+0.911+0.92)*0.3+0.1/21"
   ]
  },
  {
   "cell_type": "code",
   "execution_count": 4,
   "metadata": {},
   "outputs": [
    {
     "data": {
      "text/plain": [
       "\"y_preX_0=sigmoid_((np.dot(x_te,model_cs.coef_.T)+model_cs.intercept_).reshape(x_te.shape[0],),0)\\nprint('测试auc：{:.2%}'.format(roc_auc_score(y_te,y_preX_0)))\\ny_preX_0[y_preX_0<0.5]=0\\ny_preX_0[y_preX_0>=0.5]=1\\nprint(classification_report(y_te,y_preX_0))\\nprint('测试集准确率：{:.2%}'.format(accuracy_score(y_te,y_preX_0)))\\nprint('测试集平衡准确率：{:.2%}'.format(balanced_accuracy_score(y_te,y_preX_0)))\\nprint('测试集召回：{:.2%}'.format(recall_score(y_te,y_preX_0)))\\nprint('测试F2：{:.2%}'.format(fbeta_score(y_te,y_preX_0,beta=2.6)))\""
      ]
     },
     "execution_count": 4,
     "metadata": {},
     "output_type": "execute_result"
    }
   ],
   "source": [
    "'''y_preX_0=sigmoid_((np.dot(x_te,model_cs.coef_.T)+model_cs.intercept_).reshape(x_te.shape[0],),0)\n",
    "print('测试auc：{:.2%}'.format(roc_auc_score(y_te,y_preX_0)))\n",
    "y_preX_0[y_preX_0<0.5]=0\n",
    "y_preX_0[y_preX_0>=0.5]=1\n",
    "print(classification_report(y_te,y_preX_0))\n",
    "print('测试集准确率：{:.2%}'.format(accuracy_score(y_te,y_preX_0)))\n",
    "print('测试集平衡准确率：{:.2%}'.format(balanced_accuracy_score(y_te,y_preX_0)))\n",
    "print('测试集召回：{:.2%}'.format(recall_score(y_te,y_preX_0)))\n",
    "print('测试F2：{:.2%}'.format(fbeta_score(y_te,y_preX_0,beta=2.6)))'''\n"
   ]
  },
  {
   "cell_type": "code",
   "execution_count": 1025,
   "metadata": {},
   "outputs": [
    {
     "name": "stdout",
     "output_type": "stream",
     "text": [
      "测试auc：97.13%\n",
      "              precision    recall  f1-score   support\n",
      "\n",
      "           0       1.00      0.90      0.94      3812\n",
      "           1       0.30      0.91      0.46       188\n",
      "\n",
      "    accuracy                           0.90      4000\n",
      "   macro avg       0.65      0.91      0.70      4000\n",
      "weighted avg       0.96      0.90      0.92      4000\n",
      "\n",
      "测试集准确率：90.56%\n",
      "测试集召回：91.49%\n",
      "测试F2：75.67%\n"
     ]
    }
   ],
   "source": [
    "##Mean-bias LR\n",
    "y_preX_m=sigmoid_((np.dot(x_te,model_in.coef_.T)+model_in.intercept_).reshape(x_te.shape[0],),4.13)\n",
    "print('测试auc：{:.2%}'.format(roc_auc_score(y_te,y_preX_m)))\n",
    "y_preX_m[y_preX_m<0.5]=0\n",
    "y_preX_m[y_preX_m>=0.5]=1\n",
    "print(classification_report(y_te,y_preX_m))\n",
    "print('测试集准确率：{:.2%}'.format(balanced_accuracy_score(y_te,y_preX_m)))\n",
    "print('测试集召回：{:.2%}'.format(recall_score(y_te,y_preX_m)))\n",
    "print('测试F2：{:.2%}'.format(fbeta_score(y_te,y_preX_m,beta=2.94)))\n"
   ]
  },
  {
   "cell_type": "code",
   "execution_count": 1027,
   "metadata": {},
   "outputs": [
    {
     "data": {
      "text/plain": [
       "0.8067333333333334"
      ]
     },
     "execution_count": 1027,
     "metadata": {},
     "output_type": "execute_result"
    }
   ],
   "source": [
    "(0.757+0.915+0.906)*0.3+0.1/3"
   ]
  },
  {
   "cell_type": "code",
   "execution_count": 1082,
   "metadata": {},
   "outputs": [
    {
     "name": "stdout",
     "output_type": "stream",
     "text": [
      "测试auc：97.17%\n",
      "              precision    recall  f1-score   support\n",
      "\n",
      "           0       0.99      0.92      0.96      3812\n",
      "           1       0.36      0.90      0.51       188\n",
      "\n",
      "    accuracy                           0.92      4000\n",
      "   macro avg       0.68      0.91      0.74      4000\n",
      "weighted avg       0.96      0.92      0.94      4000\n",
      "\n",
      "测试集准确率：91.01%\n",
      "测试集召回：89.89%\n",
      "测试F2：77.83%\n"
     ]
    }
   ],
   "source": [
    "##Mean-bias max-mean\n",
    "y_preX_x=sigmoid_(np.dot(X_test,w_2).reshape(x_te.shape[0],),0.0945)\n",
    "print('测试auc：{:.2%}'.format(roc_auc_score(y_te,y_preX_x)))\n",
    "y_preX_x[y_preX_x<0.5]=0\n",
    "y_preX_x[y_preX_x>=0.5]=1\n",
    "print(classification_report(y_te,y_preX_x))\n",
    "print('测试集准确率：{:.2%}'.format(balanced_accuracy_score(y_te,y_preX_x)))\n",
    "print('测试集召回：{:.2%}'.format(recall_score(y_te,y_preX_x)))\n",
    "print('测试F2：{:.2%}'.format(fbeta_score(y_te,y_preX_x,beta=2.94)))"
   ]
  },
  {
   "cell_type": "code",
   "execution_count": 660,
   "metadata": {},
   "outputs": [],
   "source": [
    "y_pre_X_b=rusb.predict(x_te)\n",
    "y_pre_X_mlp=mlp.predict(x_te)"
   ]
  },
  {
   "cell_type": "code",
   "execution_count": 974,
   "metadata": {},
   "outputs": [
    {
     "data": {
      "text/plain": [
       "array([5., 5., 6., 6., 3., 6., 5., 3., 4., 4., 4., 6., 3., 5., 3., 3., 6.,\n",
       "       6., 6., 3., 3., 3., 5., 3., 5., 3., 3., 6., 6., 3., 6., 6., 3., 3.,\n",
       "       3., 6., 6., 6., 6., 3., 4., 4., 5., 6., 3., 6., 5., 3., 3., 4., 4.,\n",
       "       4., 3., 3., 6., 4., 6., 6., 6., 5., 3., 6., 5., 6., 5., 6., 3., 3.,\n",
       "       4., 3., 6., 3., 3., 3., 5., 3., 5., 5., 4., 3., 5., 6., 4., 6., 6.,\n",
       "       6., 5., 4., 3., 6., 3., 4., 4., 6., 6., 5., 3., 3., 3., 6., 6., 6.,\n",
       "       5., 4., 6., 6., 5., 5., 3., 4., 3., 3., 4., 3., 5., 6., 6., 6., 5.,\n",
       "       6., 4., 5., 3., 4., 4., 3., 5., 6., 3., 4., 4., 6., 3., 6., 3., 3.,\n",
       "       6., 4., 6., 4., 4., 6., 6., 6., 6., 3., 6., 3., 6., 6., 3., 4., 4.,\n",
       "       3., 3., 4., 3., 3., 3., 3., 3., 5., 5., 6., 6., 4., 3., 6., 6., 6.,\n",
       "       5., 6., 6., 3., 3., 6., 6., 3., 6., 4., 5., 4., 4., 4., 6., 6., 3.,\n",
       "       6., 5., 5., 6., 5., 6., 6., 6., 4., 6., 5., 4., 6., 5., 6., 5., 3.,\n",
       "       6., 5., 3., 6., 5., 6., 3., 5., 3., 4., 3., 6., 6., 4., 3., 6., 5.,\n",
       "       6., 6., 6., 6., 3., 6., 3., 3., 5., 3., 6., 3., 6., 5., 6., 3., 3.,\n",
       "       5., 4., 4., 6., 3., 5., 3., 3., 4., 3., 3., 3., 3., 6., 6., 4., 6.,\n",
       "       6., 6., 6., 3., 6., 3., 5., 3., 6., 4., 6., 6., 3., 4., 4., 3., 3.,\n",
       "       3., 4., 3., 4., 3., 3., 6., 3., 6., 6., 5., 4., 3., 6., 4., 5., 3.,\n",
       "       4., 6., 3., 5., 3., 4., 3., 6., 3., 4., 6., 4., 3., 5., 5., 3., 6.,\n",
       "       3., 6., 3., 4., 6., 4., 3., 4., 4., 4., 6., 3., 6., 6., 6., 6., 6.,\n",
       "       3., 4., 6., 4., 3., 3., 6., 3., 5., 5., 4., 4., 3., 4., 5., 3., 4.,\n",
       "       3., 4., 3., 6., 5., 6., 6., 6., 4., 3., 6., 3., 5., 6., 6., 6., 6.,\n",
       "       4., 4., 3., 4., 6., 4., 3., 3., 3., 4., 4., 6., 6., 3., 5., 6., 6.,\n",
       "       3., 6., 4., 3., 3., 4., 3., 5., 4., 4., 6., 5., 6., 6., 3., 3., 3.,\n",
       "       5., 3., 3., 6., 3., 3., 3., 5., 6., 6., 4., 4., 3., 5., 6., 6., 4.,\n",
       "       3., 3.])"
      ]
     },
     "execution_count": 974,
     "metadata": {},
     "output_type": "execute_result"
    }
   ],
   "source": [
    "result_1=np.c_[y_preX_0,y_pre_X_b,y_preX_m,y_preX_v,y_pre_X_mlp,y_preX_x]\n",
    "one_count=np.sum(result_1,axis=1)\n",
    "one_count[one_count>=3]\n"
   ]
  },
  {
   "cell_type": "code",
   "execution_count": 975,
   "metadata": {},
   "outputs": [
    {
     "name": "stdout",
     "output_type": "stream",
     "text": [
      "              precision    recall  f1-score   support\n",
      "\n",
      "           0       0.99      0.94      0.96      3812\n",
      "           1       0.41      0.90      0.57       188\n",
      "\n",
      "    accuracy                           0.94      4000\n",
      "   macro avg       0.70      0.92      0.77      4000\n",
      "weighted avg       0.97      0.94      0.95      4000\n",
      "\n",
      "测试集准确率：93.50%\n",
      "测试集平衡准确率：91.79%\n",
      "测试集召回：89.89%\n",
      "测试F2：78.02%\n"
     ]
    },
    {
     "data": {
      "text/plain": [
       "0.917857382063361"
      ]
     },
     "execution_count": 975,
     "metadata": {},
     "output_type": "execute_result"
    }
   ],
   "source": [
    "pred=np.ones(y_te.shape[0],)\n",
    "pred[one_count<3]=0\n",
    "pred[one_count>=3]=1\n",
    "print(classification_report(y_te,pred))\n",
    "print('测试集准确率：{:.2%}'.format(accuracy_score(y_te,pred)))\n",
    "print('测试集平衡准确率：{:.2%}'.format(balanced_accuracy_score(y_te,pred)))\n",
    "print('测试集召回：{:.2%}'.format(recall_score(y_te,pred)))\n",
    "print('测试F2：{:.2%}'.format(fbeta_score(y_te,pred,beta=2.6)))\n",
    "roc_auc_score(y_te,pred)"
   ]
  },
  {
   "cell_type": "code",
   "execution_count": null,
   "metadata": {},
   "outputs": [],
   "source": [
    "def evaluate_model_xh(X,y,m,model=LogisticRegression()):\n",
    "    \n",
    "    bacc,f2,auc,rec,pre=list(),list(),list(),list(),list()\n",
    "   \n",
    "#     cv = RepeatedStratifiedKFold(n_splits=10,n_repeats=1, random_state=1)\n",
    "    for train_index,test_index in cv.split(X,y):\n",
    "#                 X_resampled_smote,y_resampled_smote=SMOTE().fit_resample(X[train_index], y[train_index])\n",
    "                model.fit(X[train_index],y[train_index])\n",
    "                prob_y=sigmoid_((np.dot(X[test_index],model.coef_.T)+model.intercept_),m)\n",
    "                auc.append(roc_auc_score(y[test_index],prob_y))\n",
    "                \n",
    "                prdict_y=np.round(prob_y)\n",
    "                rec.append(recall_score(y[test_index],prdict_y))\n",
    "                pre.append(precision_score(y[test_index],prdict_y))\n",
    "                \n",
    "                bacc.append(balanced_accuracy_score(y[test_index],prdict_y))\n",
    "                f2.append(fbeta_score(y[test_index],prdict_y,beta=2))\n",
    " \n",
    "    return bacc,f2,auc,rec,pre"
   ]
  }
 ],
 "metadata": {
  "celltoolbar": "编辑元数据",
  "kernelspec": {
   "display_name": "Python 3",
   "language": "python",
   "name": "python3"
  },
  "language_info": {
   "codemirror_mode": {
    "name": "ipython",
    "version": 3
   },
   "file_extension": ".py",
   "mimetype": "text/x-python",
   "name": "python",
   "nbconvert_exporter": "python",
   "pygments_lexer": "ipython3",
   "version": "3.7.3"
  }
 },
 "nbformat": 4,
 "nbformat_minor": 2
}
