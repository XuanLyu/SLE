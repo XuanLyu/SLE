{
 "cells": [
  {
   "cell_type": "code",
   "execution_count": 19,
   "metadata": {},
   "outputs": [],
   "source": [
    "import testjx\n",
    "import pandas as pd\n",
    "import numpy as np\n",
    "from scipy.optimize import fsolve\n",
    "from sklearn.model_selection import RepeatedStratifiedKFold\n",
    "from sklearn.metrics import classification_report\n",
    "import scipy.stats as st\n",
    "\n",
    "from sklearn.linear_model import LogisticRegression\n",
    "import time\n",
    "from sklearn.metrics import fbeta_score,f1_score,balanced_accuracy_score,recall_score,precision_score\n",
    "warnings.filterwarnings('ignore')\n",
    "from sklearn.model_selection import train_test_split\n",
    "from cvxopt import matrix\n",
    "from cvxopt import solvers\n",
    "\n",
    "class Volatility_uncertain:\n",
    "    def __init__(self,model=LogisticRegression(),n=100):\n",
    "        self.n=n\n",
    "        self.model=model\n",
    "        \n",
    "        \n",
    "        \n",
    "    def F_u(self,x,arr):\n",
    "        p=[]\n",
    "        for c in arr:\n",
    "\n",
    "            if c <0:\n",
    "                p.append(2*x[1]*st.norm.cdf(c/x[1])/(x[0]+x[1]))\n",
    "            else:\n",
    "                p.append(1-2*x[0]*st.norm.cdf(-c/x[0])/(x[0]+x[1]))\n",
    "        return np.array(p)\n",
    "    def F_L(self,x,arr):\n",
    "        p=[]\n",
    "        for c in arr:\n",
    "            if c <0:\n",
    "                p.append(2*x[0]*st.norm.cdf(c/x[0])/(x[0]+x[1]))\n",
    "            else:\n",
    "                p.append(1-2*x[1]*st.norm.cdf(-c/x[1])/(x[0]+x[1]))\n",
    "        return np.array(p)\n",
    "    \n",
    "    def error(self,X,Y):\n",
    "        self.model.fit(X,Y)\n",
    "        pre_in=(np.dot(X,self.model.coef_.T)+self.model.intercept_).reshape(X.shape[0],)\n",
    "        return pre_in\n",
    "    def meanuncertainty(self,x):\n",
    "        r=[]\n",
    "        for i in range(0,len(x)+1-self.n,self.n//10):\n",
    "            r.append(np.mean(x[i:i+self.n]))\n",
    "        return min(r),max(r)\n",
    "\n",
    "    def equa_v(self,x,X,Y):\n",
    "        train_err=self.error(X,Y)\n",
    "        err_u=Y-self.F_u(x,train_err)\n",
    "        err_L=Y-self.F_L(x,train_err)\n",
    "        r=0.5*Y.shape[0]/sum(Y)\n",
    "        for k in range(Y.shape[0]):\n",
    "\n",
    "            if Y[k]==1:\n",
    "                err_u[k]=r*err_u[k]\n",
    "                err_L[k]=r*err_L[k]\n",
    "\n",
    "        return np.array([self.meanuncertainty(err_u)[1],self.meanuncertainty(err_L)[0]])\n",
    " \n",
    "    \n",
    "\n",
    "   \n",
    "    \n",
    "    def volatility_uncertainty(self,X,Y):\n",
    "        mean_lr=fsolve(lambda x:self.equa_v(x,X,Y),[0.5,1.5] )\n",
    "        return mean_lr\n",
    "    \n",
    "    def predict(self,X,Y,x_te,mean_u):\n",
    "        self.model.fit(X,Y)\n",
    "        prob_y=self.F_u(mean_u,(np.dot(x_te,self.model.coef_.T)+self.model.intercept_).reshape(x_te.shape[0],))\n",
    "        \n",
    "                \n",
    "        prdict_y=np.round(prob_y)\n",
    "        return prdict_y"
   ]
  },
  {
   "cell_type": "code",
   "execution_count": 21,
   "metadata": {},
   "outputs": [],
   "source": [
    "cv=RepeatedStratifiedKFold(n_splits=10, n_repeats=1, random_state=0)\n",
    "\n",
    "def voluncertain_CV(X,y,model=Volatility_uncertain()):\n",
    "    \n",
    "    bacc,f2,rec,pre=list(),list(),list(),list()\n",
    "    volatility=model.volatility_uncertainty(X,y)\n",
    "    for train_index,test_index in cv.split(X,y):\n",
    "            \n",
    "            prdict_y=model.predict(X[train_index],y[train_index],X[test_index],volatility)\n",
    "            rec.append(recall_score(y[test_index],prdict_y))\n",
    "            pre.append(precision_score(y[test_index],prdict_y))\n",
    "\n",
    "            bacc.append(balanced_accuracy_score(y[test_index],prdict_y))\n",
    "            f2.append(fbeta_score(y[test_index],prdict_y,beta=2))\n",
    "    return volatility,bacc,f2,rec,pre\n"
   ]
  },
  {
   "cell_type": "code",
   "execution_count": 12,
   "metadata": {},
   "outputs": [],
   "source": [
    "ecoli=pd.read_csv('/Users/lvjingzhe/Desktop/璇/modified_althogram/DRM/data/ecoli_.csv',)\n",
    "L=[]\n",
    "for k in ecoli['Class'].values:\n",
    "    if k in ['0','1','2','3' ]:\n",
    "        L.append(0)\n",
    "    else:L.append(1)\n",
    "ecoli['Class']=L    \n",
    "E=np.array(ecoli)\n",
    "np.random.seed(4123)\n",
    "np.random.shuffle(E)\n",
    "X_sample=E[:,:-1]/np.max(E[:,:-1],axis=0)\n",
    "y_sample=E[:,-1]\n"
   ]
  },
  {
   "cell_type": "code",
   "execution_count": 13,
   "metadata": {},
   "outputs": [],
   "source": [
    "x_tr, x_te, y_tr, y_te = train_test_split(X_sample,y_sample,test_size = 0.2,\n",
    "                                                  shuffle = True,\n",
    "                                                  random_state = 10)"
   ]
  },
  {
   "cell_type": "code",
   "execution_count": 24,
   "metadata": {},
   "outputs": [
    {
     "name": "stdout",
     "output_type": "stream",
     "text": [
      "optimal window size N by fivefold CV: 65.000 \n"
     ]
    }
   ],
   "source": [
    "metrics_names=['Balanced_acc','F2_score','Recall','Precision']\n",
    "all_results_m = []\n",
    "N_list=np.array(range(50,200,5))\n",
    "c=0\n",
    "strat=time.time()\n",
    "\n",
    "for k in N_list:\n",
    "    M=voluncertain_CV(x_tr,y_tr,model=Volatility_uncertain(n=k))\n",
    "    Lo_score=np.mean(M[1:],axis=1)\n",
    "    metric_res = {'window':k,'Volati-level': M[0]}\n",
    "    \n",
    "    for name, value in zip(metrics_names,Lo_score):\n",
    "            metric_res[name] = value\n",
    "\n",
    "\n",
    "    all_results_m.append(metric_res)\n",
    "\n",
    "\n",
    "eva=pd.DataFrame(all_results_m)\n",
    "bias=eva[eva.iloc[:,-4]==(eva.iloc[:,-4]).max()]\n",
    "N_optimal=bias['window'].values[0]\n",
    "print(\"optimal window size N by fivefold CV: %.3f \"%(bias['window']))"
   ]
  },
  {
   "cell_type": "code",
   "execution_count": 28,
   "metadata": {},
   "outputs": [
    {
     "name": "stdout",
     "output_type": "stream",
     "text": [
      " Volati-level :  [3.45465833 5.83695363]\n",
      "              precision    recall  f1-score   support\n",
      "\n",
      "           0       0.95      0.92      0.93        61\n",
      "           1       0.44      0.57      0.50         7\n",
      "\n",
      "    accuracy                           0.88        68\n",
      "   macro avg       0.70      0.74      0.72        68\n",
      "weighted avg       0.90      0.88      0.89        68\n",
      "\n",
      ">LR_mean:: Average G-mean:0.724 \n",
      ">LR_mean:: Average Balanced_Acc: 0.745 \n",
      ">LR_mean:: Average Fbeta: 0.548\n",
      ">LR_mean:: Average Recall: 0.571\n"
     ]
    }
   ],
   "source": [
    "\n",
    "M=Volatility_uncertain(n=65)\n",
    "mean_u=M.volatility_uncertainty(x_tr,y_tr)\n",
    "predict_y=M.predict(x_tr,y_tr,x_te,mean_u)\n",
    "print(\" Volati-level : \",(mean_u))\n",
    "\n",
    "print(classification_report(y_te,predict_y))\n",
    "print('>%s: Average G-mean:%.3f ' % ('LR_mean:',np.sqrt(recall_score(y_te,predict_y)*recall_score(y_te,predict_y,pos_label=0))))\n",
    "print('>%s: Average Balanced_Acc: %.3f ' % ('LR_mean:',balanced_accuracy_score(y_te,predict_y)))\n",
    "print('>%s: Average Fbeta: %.3f' % ('LR_mean:',fbeta_score(y_te,predict_y,beta=max(2,np.log(y_tr.shape[0]/sum(y_tr)-1)))))\n",
    "print('>%s: Average Recall: %.3f' % ('LR_mean:',recall_score(y_te,predict_y)))    \n"
   ]
  },
  {
   "cell_type": "code",
   "execution_count": null,
   "metadata": {},
   "outputs": [],
   "source": []
  }
 ],
 "metadata": {
  "kernelspec": {
   "display_name": "Python 3",
   "language": "python",
   "name": "python3"
  },
  "language_info": {
   "codemirror_mode": {
    "name": "ipython",
    "version": 3
   },
   "file_extension": ".py",
   "mimetype": "text/x-python",
   "name": "python",
   "nbconvert_exporter": "python",
   "pygments_lexer": "ipython3",
   "version": "3.7.3"
  }
 },
 "nbformat": 4,
 "nbformat_minor": 2
}
