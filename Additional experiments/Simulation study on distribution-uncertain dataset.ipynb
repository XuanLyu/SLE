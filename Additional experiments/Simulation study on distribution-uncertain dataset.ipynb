{
 "cells": [
  {
   "cell_type": "code",
   "execution_count": 87,
   "metadata": {},
   "outputs": [],
   "source": [
    "import numpy as np\n",
    "import cvxopt\n",
    "import cv2\n",
    "import os \n",
    "import random\n",
    "from sklearn.preprocessing import LabelBinarizer\n",
    "import matplotlib.pyplot as plt\n",
    "from cvxopt import matrix\n",
    "from cvxopt import solvers\n",
    "import face_recognition\n",
    "from sklearn.model_selection import cross_val_score\n",
    "from sklearn.model_selection import RepeatedStratifiedKFold\n",
    "import scipy.stats as st\n",
    "from sympy.solvers import solve\n",
    "from sympy import Symbol\n",
    "from scipy.optimize import fsolve\n",
    "import testjx\n",
    "import pandas as pd\n",
    "from sklearn import svm\n",
    "from sklearn.metrics import roc_curve, auc\n",
    "import matplotlib.pyplot as plt\n",
    "import seaborn as sns\n",
    "from sklearn.preprocessing import label_binarize\n",
    "from sklearn.metrics import confusion_matrix, classification_report\n",
    "from sklearn.neural_network import MLPClassifier\n",
    "from sklearn.model_selection import train_test_split\n",
    "from sklearn.preprocessing import StandardScaler\n",
    "from sklearn.linear_model import LogisticRegression\n",
    "from sklearn.linear_model import RidgeClassifier\n",
    "from sklearn.ensemble import RandomForestClassifier\n",
    "from sklearn.ensemble import AdaBoostClassifier\n",
    "from xgboost import XGBClassifier\n",
    "from sklearn.svm import SVC, LinearSVC\n",
    "import pandas as pd\n",
    "from sklearn import svm\n",
    "from sklearn.metrics import roc_curve, auc\n",
    "from sklearn.metrics import precision_recall_curve\n",
    "from statsmodels.discrete.discrete_model import Logit, Probit, MNLogit\n",
    "from pylab import mpl\n",
    "\n",
    "import warnings\n",
    "import matplotlib as mpl\n",
    "from sklearn.metrics import accuracy_score\n",
    "from imbalanced_ensemble.ensemble import SelfPacedEnsembleClassifier\n",
    "from sklearn.datasets import make_classification\n",
    "from sklearn.model_selection import train_test_split\n",
    "from sklearn.metrics import recall_score\n",
    "from sklearn.metrics import precision_score\n",
    "from sklearn.metrics import fbeta_score\n",
    "from sklearn.metrics import balanced_accuracy_score\n",
    "warnings.filterwarnings('ignore')"
   ]
  },
  {
   "cell_type": "markdown",
   "metadata": {},
   "source": [
    "# Generating a mean-uncertain imbalanced data"
   ]
  },
  {
   "cell_type": "code",
   "execution_count": 332,
   "metadata": {},
   "outputs": [],
   "source": [
    "'''Random nomarl data'''\n",
    "np.random.seed(1234)\n",
    "X=np.random.normal(0,1,1200).reshape(1,1200)"
   ]
  },
  {
   "cell_type": "code",
   "execution_count": 33,
   "metadata": {},
   "outputs": [],
   "source": [
    "beta_0=np.array([-7,-6,-5,-4,-3,-2,-1,1])\n",
    "X_beta=np.vstack((X+k for k in beta_0))"
   ]
  },
  {
   "cell_type": "code",
   "execution_count": 4,
   "metadata": {},
   "outputs": [],
   "source": [
    "'''Mean-uncertain data'''\n",
    "np.random.seed(17)\n",
    "beta_0=np.random.uniform(-5,1,5)\n",
    "intercept=np.repeat(beta_0,240)\n",
    "X_beta=X.reshape(1200,)+intercept"
   ]
  },
  {
   "cell_type": "code",
   "execution_count": 6,
   "metadata": {},
   "outputs": [],
   "source": [
    "def sigmoid_(x,u):\n",
    "    return 1/(1+np.exp(-x-u))\n",
    "def sigmoid(x):\n",
    "    return 1/(1+np.exp(-x))"
   ]
  },
  {
   "cell_type": "code",
   "execution_count": 8,
   "metadata": {},
   "outputs": [],
   "source": [
    "'''Mean-uncertain label'''\n",
    "u=[]\n",
    "\n",
    "for k in range(1200):\n",
    "    ran=np.random.uniform(0,1,1)\n",
    "    if ran <=sigmoid(X_beta)[k]:  \n",
    "        u.append(1)\n",
    "    else:u.append(0)\n",
    "        \n",
    "    "
   ]
  },
  {
   "cell_type": "code",
   "execution_count": 9,
   "metadata": {},
   "outputs": [],
   "source": [
    "u=np.array(u)"
   ]
  },
  {
   "cell_type": "code",
   "execution_count": 12,
   "metadata": {},
   "outputs": [
    {
     "data": {
      "text/plain": [
       "2.3762728087852047"
      ]
     },
     "execution_count": 12,
     "metadata": {},
     "output_type": "execute_result"
    }
   ],
   "source": [
    "-np.log(train_label[train_label==1].shape[0]/(1000-train_label[train_label==1].shape[0]))"
   ]
  },
  {
   "cell_type": "code",
   "execution_count": 333,
   "metadata": {},
   "outputs": [],
   "source": [
    "'''Shuffle the data and split it in train and test'''\n",
    "np.random.seed(17)\n",
    "per_ = np.random.permutation(X.reshape(1200,)[:-200].shape[0])\n",
    "\n",
    "train= X.reshape(1200,)[:-200][per_]\n",
    "train_label = u[:-200][per_]\n",
    "X_train=np.c_[train.reshape(-1,1),np.ones(1000)]\n",
    "x_tr,y_tr=train.reshape(-1,1),train_label"
   ]
  },
  {
   "cell_type": "code",
   "execution_count": 334,
   "metadata": {},
   "outputs": [],
   "source": [
    "X_t=X.reshape(-1,1)\n",
    "x_te,y_te=X_t[-200:],u[-200:]\n",
    "X_test=np.c_[x_te.reshape(-1,1),np.ones(y_te.shape[0])]"
   ]
  },
  {
   "cell_type": "code",
   "execution_count": 1484,
   "metadata": {},
   "outputs": [],
   "source": [
    "pd.DataFrame(X_train).to_excel('trainset.xls')\n",
    "pd.DataFrame(train_label).to_excel('trainlabel.xls')\n",
    "pd.DataFrame(X_1[-200:]).to_excel('testset.xls')\n",
    "pd.DataFrame(u[-200:]).to_excel('testlabel.xls')"
   ]
  },
  {
   "cell_type": "code",
   "execution_count": 23,
   "metadata": {},
   "outputs": [],
   "source": [
    "X_1=np.c_[X_t,np.ones(1200)]"
   ]
  },
  {
   "cell_type": "code",
   "execution_count": 24,
   "metadata": {},
   "outputs": [],
   "source": [
    "n=train_label[train_label==1].shape[0]\n",
    "c_1=np.concatenate((X_train[train_label==0],X_train[train_label==1]))\n",
    "l_1=np.concatenate((np.array([0]*(1000-n)),np.array([1]*n)))\n",
    "m=int((1000-n)/9)\n",
    "indice=[k*m for k in range(1,9)]\n",
    "indice.append(1000-n)\n",
    "pre_X=np.array(np.split(c_1,indice))\n",
    "pre_Y=np.array(np.split(l_1,indice))"
   ]
  },
  {
   "cell_type": "code",
   "execution_count": 569,
   "metadata": {},
   "outputs": [
    {
     "name": "stdout",
     "output_type": "stream",
     "text": [
      "              precision    recall  f1-score   support\n",
      "\n",
      "           0       0.55      1.00      0.71       110\n",
      "           1       0.00      0.00      0.00        90\n",
      "\n",
      "    accuracy                           0.55       200\n",
      "   macro avg       0.28      0.50      0.35       200\n",
      "weighted avg       0.30      0.55      0.39       200\n",
      "\n",
      "Classifier :LR\n",
      "Running time:0.00\n",
      "Balanced-Accuracy on testing set：50.00%\n",
      "Recall on testing set：0.00%\n",
      "F-measure on testing set：0.00%\n",
      "Score:2.19\n"
     ]
    }
   ],
   "source": [
    "'''LR result'''\n",
    "import time\n",
    "start_i=time.time()\n",
    "model_in=LogisticRegression()\n",
    "model_in.fit(train.reshape(-1,1),train_label)\n",
    "end_i=time.time()\n",
    "\n",
    "y_test_label=model_in.predict(x_te)\n",
    "\n",
    "\n",
    "from sklearn.metrics import classification_report\n",
    "print(classification_report(u[-200:],y_test_label))\n",
    "bacc=balanced_accuracy_score(u[-200:],y_test_label)\n",
    "fbeta=fbeta_score(u[-200:],y_test_label,beta=2.94)\n",
    "recall=recall_score(u[-200:],y_test_label)\n",
    "print('Classifier :LR')\n",
    "print(\"Running time:%.2f\"%(end_i-start_i))\n",
    "# from sklearn.metrics import accuracy_score\n",
    "print('Balanced-Accuracy on testing set：{:.2%}'.format(balanced_accuracy_score(u[-200:],y_test_label)))\n",
    "print('Recall on testing set：{:.2%}'.format(recall_score(u[-200:],y_test_label)))\n",
    "print('F-measure on testing set：{:.2%}'.format(fbeta_score(u[-200:],y_test_label,beta=2.94)))\n",
    "print('Score:{:.3}'.format(np.mean([recall,bacc,fbeta])*0.99+0.01/(end_i-start_i)))\n"
   ]
  },
  {
   "cell_type": "code",
   "execution_count": 584,
   "metadata": {},
   "outputs": [
    {
     "data": {
      "text/plain": [
       "<matplotlib.legend.Legend at 0x7fda39a57ac8>"
      ]
     },
     "execution_count": 584,
     "metadata": {},
     "output_type": "execute_result"
    },
    {
     "data": {
      "image/png": "[encoded data removed]",
      "text/plain": [
       "<Figure size 432x288 with 1 Axes>"
      ]
     },
     "metadata": {
      "needs_background": "light"
     },
     "output_type": "display_data"
    }
   ],
   "source": [
    "'''LR boundary line and distribution'''\n",
    "sns.distplot(X_train[:,0][train_label==0],label='X|Y=0')\n",
    "sns.distplot(X_train[:,0][train_label==1],hist=False,label='X|Y=1')\n",
    "# plt.vlines(train[train_label==0],0,0.1)\n",
    "plt.vlines(X_train[:,0][train_label==1],0,0.1,'y')\n",
    "plt.vlines(-model_in.intercept_/model_in.coef_,0,0.45,'r','--')\n",
    "plt.title('Distribution of training set')\n",
    "plt.xlabel('X')\n",
    "plt.legend()"
   ]
  },
  {
   "cell_type": "code",
   "execution_count": 29,
   "metadata": {},
   "outputs": [],
   "source": [
    "from imblearn.over_sampling import SMOTE\n",
    "from sklearn.metrics import fbeta_score\n",
    "from imblearn.under_sampling import RandomUnderSampler"
   ]
  },
  {
   "cell_type": "code",
   "execution_count": 88,
   "metadata": {},
   "outputs": [],
   "source": [
    "cv= RepeatedStratifiedKFold(n_splits=5, n_repeats=1, random_state=0)"
   ]
  },
  {
   "cell_type": "code",
   "execution_count": 450,
   "metadata": {},
   "outputs": [],
   "source": [
    "'''List the baseline models '''\n",
    "from sklearn import tree\n",
    "def get_models():\n",
    "\tmodels, names = list(), list()\n",
    "\t# LR\n",
    "\tmodels.append(LogisticRegression())\n",
    "\tnames.append('LR')\n",
    "\t# SVM\n",
    "\tmodels.append(SVC(probability=True))\n",
    "\tnames.append('SVM')\n",
    "\t# Bagging\n",
    "\tmodels.append(BaggingClassifier(n_estimators=100,random_state=0))\n",
    "\tnames.append('BAG')\n",
    "\tmodels.append(AdaBoostClassifier(random_state=0))\n",
    "\tnames.append('Adaboost')\n",
    "\t# RF\n",
    "\tmodels.append(\n",
    "\ttree.DecisionTreeClassifier(\n",
    "                               random_state=0))\n",
    "\tnames.append('CART')\n",
    "\tmodels.append(RandomForestClassifier(random_state=0))\n",
    "\tnames.append('RF')\n",
    "\n",
    "\tmodels.append(MLPClassifier(random_state=0, max_iter=200,hidden_layer_sizes=(50,)))\n",
    "    \n",
    "\tnames.append('MLP')\n",
    "\n",
    "\treturn models, names\n",
    "\n",
    "import time\n",
    "def evaluate_model(X,y,model):\n",
    "\n",
    "    pipeline = model\n",
    "    import time\n",
    "    start=time.time()\n",
    "    pipeline.fit(X,y)\n",
    "    end=time.time()\n",
    "    prdict_y=pipeline.predict(X_t[-200:])\n",
    "    prob_y=pipeline.predict_proba(X_t[-200:])\n",
    "    rec=recall_score(u[-200:],prdict_y)\n",
    "    G_m=np.sqrt(recall_score(u[-200:],prdict_y)*recall_score(u[-200:],prdict_y,pos_label=0))\n",
    "    pre=precision_score(u[-200:],prdict_y)\n",
    "    bacc=balanced_accuracy_score(u[-200:],prdict_y)\n",
    "    fbeta=fbeta_score(u[-200:],prdict_y,beta=1)\n",
    "\n",
    "\n",
    "\n",
    "\n",
    "    return G_m,bacc,fbeta,rec,pre,end-start\n",
    "import time\n"
   ]
  },
  {
   "cell_type": "code",
   "execution_count": 85,
   "metadata": {},
   "outputs": [
    {
     "name": "stdout",
     "output_type": "stream",
     "text": [
      ">LR: Average G-mean:0.000 \n",
      ">LR: Average Balanced_Acc: 0.500 \n",
      ">LR: Average Fbeta: 0.000\n",
      ">LR: Average Recall: 0.000\n",
      ">LR: Average Training time: 0.004\n",
      ">LR: Average accuracy_score: 0.125\n",
      ">LR: Average Score: 0.134\n",
      ">SVM: Average G-mean:0.000 \n",
      ">SVM: Average Balanced_Acc: 0.500 \n",
      ">SVM: Average Fbeta: 0.000\n",
      ">SVM: Average Recall: 0.000\n",
      ">SVM: Average Training time: 0.044\n",
      ">SVM: Average accuracy_score: 0.125\n",
      ">SVM: Average Score: 0.133\n",
      ">BAG: Average G-mean:0.361 \n",
      ">BAG: Average Balanced_Acc: 0.522 \n",
      ">BAG: Average Fbeta: 0.228\n",
      ">BAG: Average Recall: 0.144\n",
      ">BAG: Average Training time: 0.218\n",
      ">BAG: Average accuracy_score: 0.314\n",
      ">BAG: Average Score: 0.319\n",
      ">Adaboost: Average G-mean:0.149 \n",
      ">Adaboost: Average Balanced_Acc: 0.511 \n",
      ">Adaboost: Average Fbeta: 0.043\n",
      ">Adaboost: Average Recall: 0.022\n",
      ">Adaboost: Average Training time: 0.065\n",
      ">Adaboost: Average accuracy_score: 0.181\n",
      ">Adaboost: Average Score: 0.189\n",
      ">CART: Average G-mean:0.361 \n",
      ">CART: Average Balanced_Acc: 0.522 \n",
      ">CART: Average Fbeta: 0.228\n",
      ">CART: Average Recall: 0.144\n",
      ">CART: Average Training time: 0.003\n",
      ">CART: Average accuracy_score: 0.314\n",
      ">CART: Average Score: 0.321\n",
      ">RF: Average G-mean:0.361 \n",
      ">RF: Average Balanced_Acc: 0.522 \n",
      ">RF: Average Fbeta: 0.228\n",
      ">RF: Average Recall: 0.144\n",
      ">RF: Average Training time: 0.174\n",
      ">RF: Average accuracy_score: 0.314\n",
      ">RF: Average Score: 0.319\n",
      ">MLP: Average G-mean:0.000 \n",
      ">MLP: Average Balanced_Acc: 0.500 \n",
      ">MLP: Average Fbeta: 0.000\n",
      ">MLP: Average Recall: 0.000\n",
      ">MLP: Average Training time: 0.287\n",
      ">MLP: Average accuracy_score: 0.125\n",
      ">MLP: Average Score: 0.132\n"
     ]
    }
   ],
   "source": [
    "'''Evaluate the baseline models'''\n",
    "from imblearn.over_sampling import SMOTE\n",
    "from sklearn.metrics import fbeta_score\n",
    "from imblearn.ensemble import BalancedBaggingClassifier\n",
    "from imblearn.over_sampling import SMOTE\n",
    "from sklearn.ensemble import BaggingClassifier\n",
    "from imblearn.under_sampling import RandomUnderSampler\n",
    "models, names = get_models()\n",
    "\n",
    "for i in range(len(models)):\n",
    "\tresult = evaluate_model(train.reshape(-1,1),train_label,models[i])\n",
    "\n",
    "\tG_mean=result[0]\n",
    "\tBacc=result[1]\n",
    "\trecall=result[3]\n",
    "\tFbeta=result[2]\n",
    "\tT=result[-1]\n",
    "\tacc_s=np.mean(np.array(result)[:4])\n",
    "\tprint('>%s: Average G-mean:%.3f ' % (names[i],G_mean))\n",
    "\tprint('>%s: Average Balanced_Acc: %.3f ' % (names[i],Bacc))\n",
    "\tprint('>%s: Average Fbeta: %.3f' % (names[i],Fbeta))\n",
    "\tprint('>%s: Average Recall: %.3f' % (names[i],recall))    \n",
    "\tprint('>%s: Average Training time: %.3f' % (names[i],T))\n",
    "\tprint('>%s: Average accuracy_score: %.3f' % (names[i],acc_s))\n",
    "\tprint('>%s: Average Score: %.3f' % (names[i],0.99*acc_s+0.01/(T*0.9+1)))\n",
    "          "
   ]
  },
  {
   "cell_type": "code",
   "execution_count": 452,
   "metadata": {},
   "outputs": [
    {
     "name": "stdout",
     "output_type": "stream",
     "text": [
      ">SMOTELR: Average G-mean:0.654 \n",
      ">SMOTELR: Average Balanced_Acc: 0.674 \n",
      ">SMOTELR: Average Fbeta: 0.597\n",
      ">SMOTELR: Average Recall: 0.511\n",
      ">SMOTELR: Average Training time: 0.016\n",
      ">SMOTELR: Average accuracy_score: 0.609\n",
      ">SMOTELR: Average Score: 0.613\n",
      ">SMOTESVM: Average G-mean:0.661 \n",
      ">SMOTESVM: Average Balanced_Acc: 0.676 \n",
      ">SMOTESVM: Average Fbeta: 0.608\n",
      ">SMOTESVM: Average Recall: 0.533\n",
      ">SMOTESVM: Average Training time: 0.667\n",
      ">SMOTESVM: Average accuracy_score: 0.619\n",
      ">SMOTESVM: Average Score: 0.619\n",
      ">SMOTEBAG: Average G-mean:0.593 \n",
      ">SMOTEBAG: Average Balanced_Acc: 0.607 \n",
      ">SMOTEBAG: Average Fbeta: 0.531\n",
      ">SMOTEBAG: Average Recall: 0.478\n",
      ">SMOTEBAG: Average Training time: 0.287\n",
      ">SMOTEBAG: Average accuracy_score: 0.552\n",
      ">SMOTEBAG: Average Score: 0.555\n",
      ">SMOTEAdaboost: Average G-mean:0.615 \n",
      ">SMOTEAdaboost: Average Balanced_Acc: 0.631 \n",
      ">SMOTEAdaboost: Average Fbeta: 0.553\n",
      ">SMOTEAdaboost: Average Recall: 0.489\n",
      ">SMOTEAdaboost: Average Training time: 0.089\n",
      ">SMOTEAdaboost: Average accuracy_score: 0.572\n",
      ">SMOTEAdaboost: Average Score: 0.575\n",
      ">SMOTECART: Average G-mean:0.593 \n",
      ">SMOTECART: Average Balanced_Acc: 0.607 \n",
      ">SMOTECART: Average Fbeta: 0.531\n",
      ">SMOTECART: Average Recall: 0.478\n",
      ">SMOTECART: Average Training time: 0.004\n",
      ">SMOTECART: Average accuracy_score: 0.552\n",
      ">SMOTECART: Average Score: 0.557\n",
      ">SMOTERF: Average G-mean:0.593 \n",
      ">SMOTERF: Average Balanced_Acc: 0.607 \n",
      ">SMOTERF: Average Fbeta: 0.531\n",
      ">SMOTERF: Average Recall: 0.478\n",
      ">SMOTERF: Average Training time: 0.236\n",
      ">SMOTERF: Average accuracy_score: 0.552\n",
      ">SMOTERF: Average Score: 0.555\n",
      ">SMOTEMLP: Average G-mean:0.681 \n",
      ">SMOTEMLP: Average Balanced_Acc: 0.692 \n",
      ">SMOTEMLP: Average Fbeta: 0.634\n",
      ">SMOTEMLP: Average Recall: 0.567\n",
      ">SMOTEMLP: Average Training time: 0.287\n",
      ">SMOTEMLP: Average accuracy_score: 0.643\n",
      ">SMOTEMLP: Average Score: 0.645\n"
     ]
    }
   ],
   "source": [
    "'''Evaluate the baseline models+SMOTE'''\n",
    "from imblearn.over_sampling import SMOTE\n",
    "from sklearn.metrics import fbeta_score\n",
    "from imblearn.ensemble import BalancedBaggingClassifier\n",
    "from imblearn.over_sampling import SMOTE\n",
    "from sklearn.ensemble import BaggingClassifier\n",
    "from imblearn.under_sampling import RandomUnderSampler\n",
    "smotesample=SMOTE(random_state=0)\n",
    "\n",
    "resample_x,resample_y=smotesample.fit_resample(x_tr,y_tr)\n",
    "\n",
    "models, names = get_models()\n",
    "\n",
    "for i in range(len(models)):\n",
    "\tresult = evaluate_model(resample_x,resample_y,models[i])\n",
    "\n",
    "\tG_mean=result[0]\n",
    "\tBacc=result[1]\n",
    "# summarize performance\n",
    "\trecall=result[3]\n",
    "\tFbeta=result[2]\n",
    "\tT=result[-1]\n",
    "\tacc_s=np.mean(np.array(result)[:4])\n",
    "\t# summarize and store\n",
    "\tprint('>%s: Average G-mean:%.3f ' % ('SMOTE'+names[i],G_mean))\n",
    "\tprint('>%s: Average Balanced_Acc: %.3f ' % ('SMOTE'+names[i],Bacc))\n",
    "\tprint('>%s: Average Fbeta: %.3f' % ('SMOTE'+names[i],Fbeta))\n",
    "\tprint('>%s: Average Recall: %.3f' % ('SMOTE'+names[i],recall))    \n",
    "\tprint('>%s: Average Training time: %.3f' % ('SMOTE'+names[i],T))\n",
    "\tprint('>%s: Average accuracy_score: %.3f' % ('SMOTE'+names[i],acc_s))\n",
    "\tprint('>%s: Average Score: %.3f' % ('SMOTE'+names[i],0.99*acc_s+0.01/(T*0.9+1)))\n",
    "          "
   ]
  },
  {
   "cell_type": "code",
   "execution_count": 455,
   "metadata": {},
   "outputs": [
    {
     "name": "stdout",
     "output_type": "stream",
     "text": [
      ">RUSLR: Average G-mean:0.647 \n",
      ">RUSLR: Average Balanced_Acc: 0.668 \n",
      ">RUSLR: Average Fbeta: 0.588\n",
      ">RUSLR: Average Recall: 0.500\n",
      ">RUSLR: Average Training time: 0.002\n",
      ">RUSLR: Average accuracy_score: 0.601\n",
      ">RUSLR: Average Score: 0.605\n",
      ">RUSSVM: Average G-mean:0.632 \n",
      ">RUSSVM: Average Balanced_Acc: 0.657 \n",
      ">RUSSVM: Average Fbeta: 0.570\n",
      ">RUSSVM: Average Recall: 0.478\n",
      ">RUSSVM: Average Training time: 0.016\n",
      ">RUSSVM: Average accuracy_score: 0.584\n",
      ">RUSSVM: Average Score: 0.588\n",
      ">RUSBAG: Average G-mean:0.615 \n",
      ">RUSBAG: Average Balanced_Acc: 0.619 \n",
      ">RUSBAG: Average Fbeta: 0.571\n",
      ">RUSBAG: Average Recall: 0.556\n",
      ">RUSBAG: Average Training time: 0.176\n",
      ">RUSBAG: Average accuracy_score: 0.590\n",
      ">RUSBAG: Average Score: 0.593\n",
      ">RUSAdaboost: Average G-mean:0.607 \n",
      ">RUSAdaboost: Average Balanced_Acc: 0.618 \n",
      ">RUSAdaboost: Average Fbeta: 0.549\n",
      ">RUSAdaboost: Average Recall: 0.500\n",
      ">RUSAdaboost: Average Training time: 0.065\n",
      ">RUSAdaboost: Average accuracy_score: 0.568\n",
      ">RUSAdaboost: Average Score: 0.572\n",
      ">RUSCART: Average G-mean:0.615 \n",
      ">RUSCART: Average Balanced_Acc: 0.619 \n",
      ">RUSCART: Average Fbeta: 0.571\n",
      ">RUSCART: Average Recall: 0.556\n",
      ">RUSCART: Average Training time: 0.001\n",
      ">RUSCART: Average accuracy_score: 0.590\n",
      ">RUSCART: Average Score: 0.594\n",
      ">RUSRF: Average G-mean:0.615 \n",
      ">RUSRF: Average Balanced_Acc: 0.619 \n",
      ">RUSRF: Average Fbeta: 0.571\n",
      ">RUSRF: Average Recall: 0.556\n",
      ">RUSRF: Average Training time: 0.128\n",
      ">RUSRF: Average accuracy_score: 0.590\n",
      ">RUSRF: Average Score: 0.593\n",
      ">RUSMLP: Average G-mean:0.625 \n",
      ">RUSMLP: Average Balanced_Acc: 0.652 \n",
      ">RUSMLP: Average Fbeta: 0.560\n",
      ">RUSMLP: Average Recall: 0.467\n",
      ">RUSMLP: Average Training time: 0.084\n",
      ">RUSMLP: Average accuracy_score: 0.576\n",
      ">RUSMLP: Average Score: 0.579\n"
     ]
    }
   ],
   "source": [
    "'''Evaluate the baseline models+RUS'''\n",
    "russample=RandomUnderSampler(random_state=0)\n",
    "rus_x,rus_y=russample.fit_resample(x_tr,y_tr)\n",
    "models, names = get_models()\n",
    "# from sklearn.neural_network import MLPClassifier\n",
    "# evaluate each model\n",
    "for i in range(len(models)):\n",
    "\t# evaluate the model and store results\n",
    "\tresult = evaluate_model(rus_x,rus_y,models[i])\n",
    "\n",
    "\tG_mean=result[0]\n",
    "\tBacc=result[1]\n",
    "# summarize performance\n",
    "\trecall=result[3]\n",
    "\tFbeta=result[2]\n",
    "\tT=result[-1]\n",
    "\tacc_s=np.mean(np.array(result)[:4])\n",
    "\t# summarize and store\n",
    "\tprint('>%s: Average G-mean:%.3f ' % ('RUS'+names[i],G_mean))\n",
    "\tprint('>%s: Average Balanced_Acc: %.3f ' % ('RUS'+names[i],Bacc))\n",
    "\tprint('>%s: Average Fbeta: %.3f' % ('RUS'+names[i],Fbeta))\n",
    "\tprint('>%s: Average Recall: %.3f' % ('RUS'+names[i],recall))    \n",
    "\tprint('>%s: Average Training time: %.3f' % ('RUS'+names[i],T))\n",
    "\tprint('>%s: Average accuracy_score: %.3f' % ('RUS'+names[i],acc_s))\n",
    "\tprint('>%s: Average Score: %.3f' % ('RUS'+names[i],0.99*acc_s+0.01/(T*0.9+1)))\n",
    "          "
   ]
  },
  {
   "cell_type": "markdown",
   "metadata": {},
   "source": [
    "# max-mean loss method"
   ]
  },
  {
   "cell_type": "code",
   "execution_count": 201,
   "metadata": {},
   "outputs": [],
   "source": [
    "'''Data-progressing'''\n",
    "def split(x,y):\n",
    "    k=int(y.shape[0]/sum(y))-1\n",
    "    n=y[y==1].shape[0]\n",
    "    m=int((x.shape[0]-n)/k)\n",
    "    indice=[i*m for i in range(1,k)]\n",
    "    indice.append(x.shape[0]-n)\n",
    "    x_c=np.concatenate((x[y==0],x[y==1]))\n",
    "    y_c=np.concatenate((np.array([0]*(x.shape[0]-n)),np.array([1]*n)))\n",
    "    return np.array(np.split(x_c,indice)),np.array(np.split(y_c,indice))"
   ]
  },
  {
   "cell_type": "code",
   "execution_count": 200,
   "metadata": {},
   "outputs": [],
   "source": [
    "''' Class solution_XX() is the algorithm based on Xiaohua,Xuan[2019], the improvement is that\n",
    "we add a parameter of \"penalty\".'''\n",
    "class solution_XX:\n",
    "    \n",
    "    \n",
    "    def __init__(self,penalty = None,Lambda = 0.03,a = 0.5,epochs = 200):\n",
    "        self.W = None\n",
    "        self.penalty = penalty\n",
    "        self.Lambda = Lambda\n",
    "        self.a = a\n",
    "        self.epochs =epochs\n",
    "        self.sigmoid = lambda x:1/(1 + np.exp(-x))\n",
    "        \n",
    "\n",
    "\n",
    "    def f_XX(self,X,Y):\n",
    "        if self.penalty=='l1':f=np.array([np.mean((self.sigmoid(np.dot(x,self.W))-y)**2 )+self.Lambda*np.sum(np.abs(self.W)) for x,y in zip(X,Y)])\n",
    "        elif self.penalty=='l2':f=np.array([np.mean((self.sigmoid(np.dot(x,self.W))-y)**2 )+self.Lambda*np.sum(self.W**2) for x,y in zip(X,Y)])#pre_Xtrain,pre_Ytrain\n",
    "        else:f=np.array([np.mean((self.sigmoid(np.dot(x,self.W))-y)**2 ) for x,y in zip(X,Y)])\n",
    "\n",
    "        return f         \n",
    "    def Gf_XX(self,X,Y):#To compute the Derivative matrix, the shape of which is N*2\n",
    "        if self.penalty=='l1':d=np.array([x.T.dot(0.02*(self.sigmoid(np.dot(x,self.W))-y)*self.sigmoid(np.dot(x,self.W))*(1-self.sigmoid(np.dot(x,self.W))))+self.Lambda*np.sign(self.W )for x,y in zip(X,Y)])\n",
    "        elif self.penalty=='l2':\n",
    "            d=np.array([x.T.dot(0.02*(self.sigmoid(np.dot(x,self.W))-y)*self.sigmoid(np.dot(x,self.W))*(1-self.sigmoid(np.dot(x,self.W))))+2*self.Lambda*self.W for x,y in zip(X,Y)])\n",
    "        else:d=np.array([x.T.dot(0.02*(self.sigmoid(np.dot(x,self.W))-y)*self.sigmoid(np.dot(x,self.W))*(1-self.sigmoid(np.dot(x,self.W)))) for x,y in zip(X,Y)])\n",
    "        return d\n",
    "    def direction_XX(self,X,Y):\n",
    "        gra=self.Gf_XX(X,Y)\n",
    "        p=matrix(gra.dot(gra.T),tc='d')\n",
    "        q=matrix(-self.f_XX(X,Y),tc='d')\n",
    "        G=matrix(np.diag(np.array([-1]*(Y.shape[0]))),tc='d')#N=20\n",
    "        h=matrix(np.array([[0]]*(Y.shape[0])),tc='d')\n",
    "        A=matrix([[1.0]]*(Y.shape[0]))\n",
    "        b=matrix([1.0])\n",
    "        solvers.options['show_progress'] = False\n",
    "        sol = solvers.qp(p,q,G,h,A,b)\n",
    "        t=np.array(sol['x'])\n",
    "        d= -(gra.T.dot(t))\n",
    "        return d.reshape((X_train.shape[-1],))\n",
    "\n",
    "    def fit(self,X,Y):\n",
    "        \n",
    "        call=[]\n",
    "        pre=[]\n",
    "        loss=[]\n",
    "        testloss=[]\n",
    "        np.random.seed(1324)\n",
    "        self.W=np.random.random((X_train.shape[-1],))*2-1\n",
    "        n=y_te[y_te==1.].shape[0]\n",
    "        for k in range(200):\n",
    "            d=self.direction_XX(X,Y)\n",
    "            if np.linalg.norm(d)//10**(-7) < 25:\n",
    "                break\n",
    "            sigma=0.8\n",
    "            f_1=np.max(self.f_XX(X,Y))\n",
    "            w=self.W\n",
    "            self.W=d*sigma+w\n",
    "            while np.max(self.f_XX(X,Y))>np.max(f_1):\n",
    "                sigma=sigma*0.8\n",
    "                self.W=d*sigma+w\n",
    "            self.W=d*sigma+w\n",
    "\n",
    "        return self.W"
   ]
  },
  {
   "cell_type": "code",
   "execution_count": 348,
   "metadata": {},
   "outputs": [
    {
     "name": "stdout",
     "output_type": "stream",
     "text": [
      ">max-mean loss: Average Balanced_Acc: 0.651 \n",
      ">max-mean loss: Average F-measure: 0.554\n",
      ">max-mean loss: Average Recall: 0.456\n",
      ">max-mean loss: Average Training time: 0.317\n",
      ">max-mean loss: Average accuracy_score: 0.553\n",
      ">max-mean loss: Average Score: 0.556\n",
      ">max-mean loss: Average accuracy: 0.553\n"
     ]
    }
   ],
   "source": [
    "pre_X,pre_Y=split(X_train,y_tr)\n",
    "modle_x = solution_XX()\n",
    "s_1=time.time()\n",
    "w_x= modle_x.fit(pre_X,pre_Y)\n",
    "t_1=time.time()\n",
    "y_pred=modle_x.sigmoid(X_test.dot(w_x))\n",
    "# y_tr_pred=lrr.sigmoid(X[-400:].dot(w_x))\n",
    "prdict_y=np.round(y_pred)\n",
    "rec=recall_score(y_te,prdict_y)\n",
    "pre=precision_score(y_te,prdict_y)\n",
    "#                 bacc_tr.append(balanced_accuracy_score(y[train_index],predict_tr))\n",
    "bacc=balanced_accuracy_score(y_te,prdict_y)\n",
    "f1=fbeta_score(y_te,prdict_y,beta=1)\n",
    "acc_s=np.mean([bacc,rec,f1])\n",
    "T=t_1-s_1\n",
    "print('>%s: Average Balanced_Acc: %.3f ' % ('max-mean loss',bacc))\n",
    "print('>%s: Average F-measure: %.3f' % ('max-mean loss',f1))\n",
    "print('>%s: Average Recall: %.3f' % ('max-mean loss',rec))    \n",
    "print('>%s: Average Training time: %.3f' % ('max-mean loss',t_1-s_1))\n",
    "print('>%s: Average accuracy_score: %.3f' % ('max-mean loss',acc_s))\n",
    "print('>%s: Average Score: %.3f' % ('max-mean loss',0.99*acc_s+0.01/(T*0.9+1)))\n",
    "print('>%s: Average accuracy: %.3f' % ('max-mean loss',acc_s))\n",
    "          "
   ]
  },
  {
   "cell_type": "code",
   "execution_count": 555,
   "metadata": {},
   "outputs": [
    {
     "name": "stdout",
     "output_type": "stream",
     "text": [
      ">max-mean loss: Average Balanced_Acc: 0.652 \n",
      ">max-mean loss: Average F-measure: 0.560\n",
      ">max-mean loss: Average Recall: 0.467\n",
      ">max-mean loss: Average Training time: 8.103\n",
      ">max-mean loss: Average accuracy_score: 0.559\n",
      ">max-mean loss: Average Score: 0.555\n",
      ">max-mean loss: Average accuracy: 0.559\n"
     ]
    }
   ],
   "source": [
    "pre_X,pre_Y=split(X_train,y_tr)\n",
    "modle_x_2 = solution_XX(penalty='l2')\n",
    "s_1=time.time()\n",
    "w_x_2= modle_x_2.fit(pre_X,pre_Y)\n",
    "t_1=time.time()\n",
    "y_pred=modle_x_2.sigmoid(X_test.dot(w_x_2))\n",
    "# y_tr_pred=lrr.sigmoid(X[-400:].dot(w_x))\n",
    "prdict_y=np.round(y_pred)\n",
    "rec=recall_score(y_te,prdict_y)\n",
    "pre=precision_score(y_te,prdict_y)\n",
    "#                 bacc_tr.append(balanced_accuracy_score(y[train_index],predict_tr))\n",
    "bacc=balanced_accuracy_score(y_te,prdict_y)\n",
    "f1=fbeta_score(y_te,prdict_y,beta=1)\n",
    "acc_s=np.mean([bacc,rec,f1])\n",
    "T=t_1-s_1\n",
    "print('>%s: Average Balanced_Acc: %.3f ' % ('max-mean loss',bacc))\n",
    "print('>%s: Average F-measure: %.3f' % ('max-mean loss',f1))\n",
    "print('>%s: Average Recall: %.3f' % ('max-mean loss',rec))    \n",
    "print('>%s: Average Training time: %.3f' % ('max-mean loss',t_1-s_1))\n",
    "print('>%s: Average accuracy_score: %.3f' % ('max-mean loss',acc_s))\n",
    "print('>%s: Average Score: %.3f' % ('max-mean loss',0.99*acc_s+0.01/(T)))\n",
    "print('>%s: Average accuracy: %.3f' % ('max-mean loss',acc_s))\n",
    "          "
   ]
  },
  {
   "cell_type": "markdown",
   "metadata": {},
   "source": [
    "# Mean-uncertain max-mean method; Volatility-uncertain max-mean method"
   ]
  },
  {
   "cell_type": "code",
   "execution_count": 102,
   "metadata": {},
   "outputs": [],
   "source": [
    "'''Estimate the mean-uncertainty for a given N'''\n",
    "def meanuncertainty(x,n):\n",
    "    r=[]\n",
    "    for i in range(0,len(x)+1-n,n//10):\n",
    "        r.append(np.mean(x[i:i+n]))\n",
    "    return min(r),max(r)"
   ]
  },
  {
   "cell_type": "code",
   "execution_count": 298,
   "metadata": {},
   "outputs": [],
   "source": [
    "'''Define the Upper predoction F_u and lower prediction F_L'''\n",
    "def F_u(x,arr):\n",
    "    p=[]\n",
    "    for c in arr:\n",
    "        \n",
    "        if c <0:\n",
    "            p.append(2*x[1]*st.norm.cdf(c/x[1])/(x[0]+x[1]))\n",
    "        else:\n",
    "            p.append(1-2*x[0]*st.norm.cdf(-c/x[0])/(x[0]+x[1]))\n",
    "    return np.array(p)\n",
    "def F_L(x,arr):\n",
    "    p=[]\n",
    "    for c in arr:\n",
    "        \n",
    "        if c <0:\n",
    "            p.append(2*x[0]*st.norm.cdf(c/x[0])/(x[0]+x[1]))\n",
    "        else:\n",
    "            p.append(1-2*x[1]*st.norm.cdf(-c/x[1])/(x[0]+x[1]))\n",
    "    return np.array(p)"
   ]
  },
  {
   "cell_type": "code",
   "execution_count": 385,
   "metadata": {},
   "outputs": [],
   "source": [
    "'''equa_xh returns the maximal and minimal err obtained by max-mean loss for fixed window size n'''\n",
    "def equa_xh(x,n,r):\n",
    "            \n",
    "    ini_err=train_label-sigmoid_(np.dot(X_train,w_x_2),x).reshape(X_train.shape[0],)\n",
    "    for k in range(X_train.shape[0]):\n",
    "    \n",
    "        if train_label[k]==1:\n",
    "            ini_err[k]=r*ini_err[k]\n",
    "    return meanuncertainty(ini_err,n)[1]"
   ]
  },
  {
   "cell_type": "code",
   "execution_count": 386,
   "metadata": {},
   "outputs": [],
   "source": [
    "'''mean-uncertainty'''\n",
    "mean_xh=np.array([fsolve(lambda x: equa_xh(x,n,0.5*y_tr.shape[0]/sum(y_tr)),0.5) for n in range(10,550,10)])"
   ]
  },
  {
   "cell_type": "code",
   "execution_count": 459,
   "metadata": {},
   "outputs": [],
   "source": [
    "'''equa_vxh returns the maximal and minimal err obtained by max-mean loss for fixed window size n'''\n",
    "\n",
    "def equa_vxh(x,n,r):\n",
    "    pre_in=np.dot(X_train,w_x).reshape(x_tr.shape[0],)\n",
    "    err_u=y_tr-F_u(x,pre_in)\n",
    "    err_L=y_tr-F_L(x,pre_in)\n",
    "    for k in range(y_tr.shape[0]):\n",
    "    \n",
    "        if y_tr[k]==1:\n",
    "            err_u[k]=r*err_u[k]\n",
    "            err_L[k]=r*err_L[k]\n",
    "    \n",
    "    return np.array([meanuncertainty(err_u,n)[1],meanuncertainty(err_L,n)[0]])"
   ]
  },
  {
   "cell_type": "code",
   "execution_count": 253,
   "metadata": {},
   "outputs": [],
   "source": [
    "'''volatility-uncertainty'''\n",
    "var_xh=np.array([fsolve(lambda x: equa_vxh(x,n,0.5*y_tr.shape[0]/sum(y_tr)),[0.5,1.5]) for n in range(10,550,10)])"
   ]
  },
  {
   "cell_type": "code",
   "execution_count": 460,
   "metadata": {},
   "outputs": [],
   "source": [
    "var_xh_=np.array([fsolve(lambda x: equa_vxh(x,n,2),[0.5,1.5]) for n in range(10,200,10)])\n"
   ]
  },
  {
   "cell_type": "code",
   "execution_count": 388,
   "metadata": {},
   "outputs": [],
   "source": [
    "\"\"\"We use 'evaluate_modelxh' to obtain the average performance in 5-fold cross-validation set, for fixed upper mean 'm' \"\"\"\n",
    "\n",
    "metrics_names=['G_mean','Balanced_acc','F_score','Recall','Precision']\n",
    "def evaluate_modelxh(X,y,m,model=solution_XX(penalty='l2')):\n",
    "    \n",
    "    G_m,bacc,f1,rec,pre=list(),list(),list(),list(),list()\n",
    "   \n",
    "    for train_index,test_index in cv.split(X,y):\n",
    "                pre_cv,pre_y=split(X[train_index],y[train_index])\n",
    "                \n",
    "                w= model.fit(pre_cv,pre_y)\n",
    "                prob_y=sigmoid_(X[test_index].dot(w),m)\n",
    "                \n",
    "                \n",
    "                prdict_y=np.round(prob_y)\n",
    "                rec.append(recall_score(y[test_index],prdict_y))\n",
    "                G_m.append(np.sqrt(recall_score(y[test_index],prdict_y)*recall_score(y[test_index],prdict_y,pos_label=0)))\n",
    "                pre.append(precision_score(y[test_index],prdict_y))\n",
    "                bacc.append(balanced_accuracy_score(y[test_index],prdict_y))\n",
    "                f1.append(fbeta_score(y[test_index],prdict_y,beta=max(2,np.log(y_tr.shape[0]/sum(y_tr)-1))))\n",
    " \n",
    "    return G_m,bacc,f1,rec,pre\n",
    "    \n",
    "           \n",
    "               "
   ]
  },
  {
   "cell_type": "code",
   "execution_count": 389,
   "metadata": {},
   "outputs": [],
   "source": [
    "''''all_resultsxh' reports the performance of mean-uncertain max-mean method on CV sets '''\n",
    "all_resultsxh = []\n",
    "s_1=time.time()\n",
    "c=1\n",
    "for k in mean_xh.reshape(-1):\n",
    "    result=np.mean(evaluate_modelxh(X_train,y_tr,k),axis=1)\n",
    "    metric_res = {'window':10*c,'upper_mean': k}\n",
    "    c+=1\n",
    "    for name, value in zip(metrics_names, result):\n",
    "            metric_res[name] = value\n",
    "       \n",
    "\n",
    "    all_resultsxh.append(metric_res)\n",
    "e_1=time.time()"
   ]
  },
  {
   "cell_type": "code",
   "execution_count": 496,
   "metadata": {},
   "outputs": [
    {
     "name": "stdout",
     "output_type": "stream",
     "text": [
      "optimal window size N for mean-uncertain max-mean loss by fivefold CV: 70.000 \n"
     ]
    }
   ],
   "source": [
    "'''The selection of optimal window size'''\n",
    "eva_xh=pd.DataFrame(all_resultsxh)\n",
    "bias=eva_xh[np.mean(eva_xh.iloc[:,-4:-1],axis=1)==(np.mean(eva_xh.iloc[:,-4:-1],axis=1)).max()]\n",
    "\n",
    "N_optimal=bias['window'].values[0]\n",
    "print(\"optimal window size N for mean-uncertain max-mean loss by fivefold CV: %.3f \"%(bias['window']))\n"
   ]
  },
  {
   "cell_type": "code",
   "execution_count": 552,
   "metadata": {},
   "outputs": [
    {
     "name": "stdout",
     "output_type": "stream",
     "text": [
      "optimal upper mean:0.310\n",
      ">mean-uncertain MMLose: Average Balanced_Acc: 0.703 \n",
      ">mean-uncertain MMLose: Average F-measure: 0.708\n",
      ">mean-uncertain MMLose: Average Recall: 0.833\n",
      ">mean-uncertain MMLose: Average Training time: 0.445\n",
      ">mean-uncertain MMLose: Average accuracy_score: 0.748\n",
      ">mean-uncertain MMLose: Average Score: 0.748\n"
     ]
    }
   ],
   "source": [
    "'''The result of mean-uncertain max-mean method'''\n",
    "s_1=time.time()\n",
    "w_xx=modle_x.fit(pre_X,pre_Y)\n",
    "upper_mean=fsolve(lambda x: equa_xh(x,71,0.5*y_tr.shape[0]/sum(y_tr)),0.5)\n",
    "t_1=time.time()\n",
    "prob_y=sigmoid_(X_test.dot(w_x_2),upper_mean)\n",
    "                \n",
    "prdict_y=np.round(prob_y)\n",
    "rec=recall_score(y_te,prdict_y)\n",
    "pre=precision_score(y_te,prdict_y)\n",
    "#                 bacc_tr.append(balanced_accuracy_score(y[train_index],predict_tr))\n",
    "bacc=balanced_accuracy_score(y_te,prdict_y)\n",
    "f1=fbeta_score(y_te,prdict_y,beta=1)\n",
    "acc_s=np.mean([bacc,rec,f1])\n",
    "T=t_1-s_1\n",
    "print('optimal upper mean:%.3f'%(upper_mean))\n",
    "print('>%s: Average Balanced_Acc: %.3f ' % ('mean-uncertain MMLose',bacc))\n",
    "print('>%s: Average F-measure: %.3f' % ('mean-uncertain MMLose',f1))\n",
    "print('>%s: Average Recall: %.3f' % ('mean-uncertain MMLose',rec))    \n",
    "print('>%s: Average Training time: %.3f' % ('mean-uncertain MMLose',t_1-s_1))\n",
    "print('>%s: Average accuracy_score: %.3f' % ('mean-uncertain MMLose',acc_s))\n",
    "print('>%s: Average Score: %.3f' % ('mean-uncertain MMLose',0.99*acc_s+0.01/(T*0.9+1)))\n",
    "          "
   ]
  },
  {
   "cell_type": "code",
   "execution_count": 465,
   "metadata": {},
   "outputs": [],
   "source": [
    "def evaluate_varxh(X,y,m,model=solution_XX()):\n",
    "    \n",
    "    G_m,bacc,f2,rec,pre=list(),list(),list(),list(),list()\n",
    "   \n",
    "\n",
    "    for train_index,test_index in cv.split(X,y):\n",
    "        \n",
    "        pre_cv,pre_y=split(X[train_index],y[train_index])\n",
    "        w= model.fit(pre_cv,pre_y)\n",
    "        prob_y=F_u(m,X[test_index].dot(w))\n",
    "        prob_y[prob_y>0.5]=1\n",
    "        prob_y[prob_y<=0.5]=0\n",
    "        prdict_y=np.round(prob_y)\n",
    "        rec.append(recall_score(y[test_index],prdict_y))\n",
    "        pre.append(precision_score(y[test_index],prdict_y))\n",
    "        G_m.append(np.sqrt(recall_score(y[test_index],prdict_y)*recall_score(y[test_index],prdict_y,pos_label=0)))\n",
    "\n",
    "        bacc.append(balanced_accuracy_score(y[test_index],prdict_y))\n",
    "        f2.append(fbeta_score(y[test_index],prdict_y,beta=2))\n",
    " \n",
    "    return G_m,bacc,f2,rec,pre"
   ]
  },
  {
   "cell_type": "code",
   "execution_count": 305,
   "metadata": {},
   "outputs": [],
   "source": [
    "''''all_resultsxh_var' reports the performance of volatility-uncertain max-mean method on CV sets '''\n",
    "\n",
    "all_resultsxh_var = []\n",
    "s_1=time.time()\n",
    "c=1\n",
    "for k in var_xh:\n",
    "    result=np.mean(evaluate_varxh(X_train,y_tr,k),axis=1)\n",
    "    metric_res = {'window':10*c,'upper_mean': k}\n",
    "    c+=1\n",
    "    for name, value in zip(metrics_names, result):\n",
    "#             print(name, ': ', value)\n",
    "            metric_res[name] = value\n",
    "       \n",
    "\n",
    "    all_resultsxh_var.append(metric_res)\n",
    "e_1=time.time()"
   ]
  },
  {
   "cell_type": "code",
   "execution_count": 481,
   "metadata": {},
   "outputs": [
    {
     "name": "stdout",
     "output_type": "stream",
     "text": [
      "optimal window size N for vol-uncertain max-mean loss by fivefold CV: 320.000 \n"
     ]
    }
   ],
   "source": [
    "eva_xh_var=pd.DataFrame(all_resultsxh_var)\n",
    "bias=eva_xh_var[eva_xh_var.iloc[:,-4]==(eva_xh_var.iloc[:,-4]).max()]\n",
    "\n",
    "N_optimal=bias['window'].values[0]\n",
    "print(\"optimal window size N for vol-uncertain max-mean loss by fivefold CV: %.3f \"%(bias['window']))\n"
   ]
  },
  {
   "cell_type": "code",
   "execution_count": 581,
   "metadata": {},
   "outputs": [
    {
     "name": "stdout",
     "output_type": "stream",
     "text": [
      "optimal volatility interval: [0.19025243 0.28322746]\n",
      ">vol-uncertain MMLose: Average Balanced_Acc: 0.681 \n",
      ">vol-uncertain MMLose: Average F-measure: 0.616\n",
      ">vol-uncertain MMLose: Average Recall: 0.544\n",
      ">vol-uncertain MMLose: Average Training time: 7.637\n",
      ">vol-uncertain MMLose: Average accuracy_score: 0.614\n",
      ">vol-uncertain MMLose: Average Score: 0.609\n"
     ]
    }
   ],
   "source": [
    "'''The result of volatility-uncertain max-mean method'''\n",
    "s_1=time.time()\n",
    "w_xx=modle_x.fit(pre_X,pre_Y)\n",
    "upper_mean=fsolve(lambda x: equa_vxh(x,320,0.5*y_tr.shape[0]/sum(y_tr)),[0.5,1.5])\n",
    "t_1=time.time()\n",
    "prob_y=F_u(upper_mean,X_test.dot(w_x_2))\n",
    "prob_y[prob_y>0.5]=1\n",
    "prob_y[prob_y<=0.5]=0\n",
    "                \n",
    "prdict_y=np.round(prob_y)\n",
    "rec=recall_score(y_te,prdict_y)\n",
    "pre=precision_score(y_te,prdict_y)\n",
    "bacc=balanced_accuracy_score(y_te,prdict_y)\n",
    "f1=fbeta_score(y_te,prdict_y,beta=1)\n",
    "acc_s=np.mean([bacc,rec,f1])\n",
    "T=t_1-s_1\n",
    "print('optimal volatility interval:',(upper_mean))\n",
    "print('>%s: Average Balanced_Acc: %.3f ' % ('vol-uncertain MMLose',bacc))\n",
    "print('>%s: Average F-measure: %.3f' % ('vol-uncertain MMLose',f1))\n",
    "print('>%s: Average Recall: %.3f' % ('vol-uncertain MMLose',rec))    \n",
    "print('>%s: Average Training time: %.3f' % ('vol-uncertain MMLose',t_1-s_1))\n",
    "print('>%s: Average accuracy_score: %.3f' % ('vol-uncertain MMLose',acc_s))\n",
    "print('>%s: Average Score: %.3f' % ('vol-uncertain MMLose',0.99*acc_s+0.01/(T*0.9+1)))\n",
    "          "
   ]
  },
  {
   "cell_type": "markdown",
   "metadata": {},
   "source": [
    "# Mean-uncertain LR; Volatility-LR"
   ]
  },
  {
   "cell_type": "code",
   "execution_count": 138,
   "metadata": {},
   "outputs": [],
   "source": [
    "'''Return the max-mean of training error '''\n",
    "def equa_m(x,n,r):\n",
    "    pre_in=(np.dot(x_tr,model_in.coef_.T)+model_in.intercept_).reshape(x_tr.shape[0],)\n",
    "    ini_err=y_tr-sigmoid_(pre_in,x)##ini_err is the predicted err of training set, based on LR\n",
    "\n",
    "    for k in range(ini_err.shape[0]):\n",
    "    \n",
    "        if y_tr[k]==1:\n",
    "            ini_err[k]=r*ini_err[k]\n",
    "    return meanuncertainty(ini_err,n)[1]\n",
    "def equa_v(x,n,r):\n",
    " \n",
    "    pre_in=(np.dot(x_tr,model_in.coef_.T)+model_in.intercept_).reshape(x_tr.shape[0],)\n",
    "    err_u=y_tr-F_u(x,pre_in)\n",
    "    err_L=y_tr-F_L(x,pre_in)\n",
    "    for k in range(y_tr.shape[0]):\n",
    "    \n",
    "    \n",
    "    \n",
    "        if y_tr[k]==1:\n",
    "            err_u[k]=r*err_u[k]\n",
    "            err_L[k]=r*err_L[k]\n",
    "    \n",
    "    return np.array([meanuncertainty(err_u,n)[1],meanuncertainty(err_L,n)[0]])\n"
   ]
  },
  {
   "cell_type": "code",
   "execution_count": 115,
   "metadata": {},
   "outputs": [],
   "source": [
    "'''Mean-uncertainty with different N'''\n",
    "mean_lr=np.array([fsolve(lambda x: equa_m(x,n,0.5*y_tr.shape[0]/sum(y_tr)),0.5) for n in range(10,550,10)])"
   ]
  },
  {
   "cell_type": "code",
   "execution_count": 141,
   "metadata": {},
   "outputs": [],
   "source": [
    "'''volatility-uncertainty with different N'''\n",
    "var_lr=np.array([fsolve(lambda x: equa_v(x,n,0.5*y_tr.shape[0]/sum(y_tr)),[0.5,1.5]) for n in range(10,550,10)])"
   ]
  },
  {
   "cell_type": "code",
   "execution_count": 190,
   "metadata": {},
   "outputs": [],
   "source": [
    "\"\"\"We use 'evaluate_modelxh' to obtain the average performance in 5-fold cross-validation set, for fixed upper mean 'm' \"\"\"\n",
    "\n",
    "metrics_names=['G-mean','Balanced_acc','F2_score','Recall','Precision']\n",
    "def evaluate_model_lr(X,y,m,model=LogisticRegression()):\n",
    "    \n",
    "    G_m,bacc,f2,rec,pre=list(),list(),list(),list(),list()\n",
    "    for train_index,test_index in cv.split(X,y):\n",
    "#                 X_resampled_smote,y_resampled_smote=SMOTE().fit_resample(X[train_index], y[train_index])\n",
    "                model.fit(X[train_index],y[train_index])\n",
    "                prob_tr=sigmoid_((np.dot(X[train_index],model.coef_.T)+model.intercept_),m)\n",
    "                prob_y=sigmoid_((np.dot(X[test_index],model.coef_.T)+model.intercept_),m)\n",
    "                \n",
    "                predict_tr=np.round(prob_tr)\n",
    "                prdict_y=np.round(prob_y)\n",
    "                rec.append(recall_score(y[test_index],prdict_y))\n",
    "                G_m.append(np.sqrt(recall_score(y[test_index],prdict_y)*recall_score(y[test_index],prdict_y,pos_label=0)))\n",
    "                pre.append(precision_score(y[test_index],prdict_y))\n",
    "#                 bacc_tr.append(balanced_accuracy_score(y[train_index],predict_tr))\n",
    "                bacc.append(balanced_accuracy_score(y[test_index],prdict_y))\n",
    "                f2.append(fbeta_score(y[test_index],prdict_y,beta=max(2,np.log(y_tr.shape[0]/sum(y_tr)-1))))\n",
    " \n",
    "    return G_m,bacc,f2,rec,pre"
   ]
  },
  {
   "cell_type": "code",
   "execution_count": 191,
   "metadata": {},
   "outputs": [],
   "source": [
    "'''all_results reports the performance of mean-uncertain LR on cv sets'''\n",
    "all_results = []\n",
    "c=1\n",
    "strat=time.time()\n",
    "for k in mean_lr.reshape(-1):\n",
    "    result=np.mean(evaluate_model_lr(x_tr,y_tr,k),axis=1)\n",
    "    metric_res = {'window':10*c,'upper_mean': k}\n",
    "    c+=1\n",
    "    for name, value in zip(metrics_names, result):\n",
    "            metric_res[name] = value\n",
    "       \n",
    "\n",
    "    all_results.append(metric_res)\n"
   ]
  },
  {
   "cell_type": "code",
   "execution_count": 192,
   "metadata": {},
   "outputs": [
    {
     "name": "stdout",
     "output_type": "stream",
     "text": [
      "optimal window size N for mean-uncertain LR by fivefold CV: 80.000 \n"
     ]
    }
   ],
   "source": [
    "'''Select the optimal parameter'''\n",
    "eva=pd.DataFrame(all_results)\n",
    "bias=eva[np.mean(eva.iloc[:,-4:-1],axis=1)==(np.mean(eva.iloc[:,-4:-1],axis=1)).max()]\n",
    "N_optimal=bias['window'].values[0]\n",
    "print(\"optimal window size N for mean-uncertain LR by fivefold CV: %.3f \"%(bias['window']))\n"
   ]
  },
  {
   "cell_type": "code",
   "execution_count": 546,
   "metadata": {},
   "outputs": [
    {
     "data": {
      "text/plain": [
       "2.4651040224918206"
      ]
     },
     "execution_count": 546,
     "metadata": {},
     "output_type": "execute_result"
    }
   ],
   "source": [
    "np.log(y_tr.shape[0]/sum(y_tr))"
   ]
  },
  {
   "cell_type": "code",
   "execution_count": 548,
   "metadata": {},
   "outputs": [
    {
     "name": "stdout",
     "output_type": "stream",
     "text": [
      "optimal upper mean: 2.540\n",
      ">mean-uncertain LR: Average Balanced_Acc: 0.701 \n",
      ">mean-uncertain LR: Average F-measure: 0.655\n",
      ">mean-uncertain LR: Average Recall: 0.611\n",
      ">mean-uncertain LR: Average Training time: 0.054\n",
      ">mean-uncertain LR: Average accuracy_score: 0.656\n",
      ">mean-uncertain LR: Average Score: 0.659\n"
     ]
    }
   ],
   "source": [
    "'''performance of mean-uncertain LR'''\n",
    "s_1=time.time()\n",
    "model_in.fit(x_tr,y_tr)\n",
    "upper_mean=fsolve(lambda x: equa_m(x,80,0.5*y_tr.shape[0]/sum(y_tr)),0.5)\n",
    "t_1=time.time()\n",
    "prob_y=sigmoid_((np.dot(x_te,model_in.coef_.T)+model_in.intercept_),upper_mean)\n",
    "                \n",
    "prdict_y=np.round(prob_y)\n",
    "rec=recall_score(y_te,prdict_y)\n",
    "pre=precision_score(y_te,prdict_y)\n",
    "#                 bacc_tr.append(balanced_accuracy_score(y[train_index],predict_tr))\n",
    "bacc=balanced_accuracy_score(y_te,prdict_y)\n",
    "f1=fbeta_score(y_te,prdict_y,beta=1)\n",
    "acc_s=np.mean([bacc,rec,f1])\n",
    "T=t_1-s_1\n",
    "print('optimal upper mean: %.3f'%(upper_mean))\n",
    "print('>%s: Average Balanced_Acc: %.3f ' % ('mean-uncertain LR',bacc))\n",
    "print('>%s: Average F-measure: %.3f' % ('mean-uncertain LR',f1))\n",
    "print('>%s: Average Recall: %.3f' % ('mean-uncertain LR',rec))    \n",
    "print('>%s: Average Training time: %.3f' % ('mean-uncertain LR',t_1-s_1))\n",
    "print('>%s: Average accuracy_score: %.3f' % ('mean-uncertain LR',acc_s))\n",
    "print('>%s: Average Score: %.3f' % ('mean-uncertain LR',0.99*acc_s+0.01/(T*0.9+1)))\n",
    "          "
   ]
  },
  {
   "cell_type": "code",
   "execution_count": 588,
   "metadata": {},
   "outputs": [],
   "source": [
    "eva.to_csv('/Users/lvjingzhe/Desktop/璇/modified_althogram/code/0531_simulation_cv_meanLR.csv')\n",
    "eva_var.to_csv('/Users/lvjingzhe/Desktop/璇/modified_althogram/code/0531_simulation_cv_volLR.csv')"
   ]
  },
  {
   "cell_type": "code",
   "execution_count": 582,
   "metadata": {},
   "outputs": [
    {
     "data": {
      "text/plain": [
       "<matplotlib.legend.Legend at 0x7fda385c5128>"
      ]
     },
     "execution_count": 582,
     "metadata": {},
     "output_type": "execute_result"
    },
    {
     "data": {
      "image/png": "[encoded data removed]",
      "text/plain": [
       "<Figure size 432x288 with 1 Axes>"
      ]
     },
     "metadata": {
      "needs_background": "light"
     },
     "output_type": "display_data"
    }
   ],
   "source": [
    "'''Validation process for parameter selection'''\n",
    "eva_xh['Balanced_acc'].plot(label='Mean-uncertain max-mean ')\n",
    "eva['Balanced_acc'].plot(label='Mean-uncertain LR')\n",
    "plt.legend()"
   ]
  },
  {
   "cell_type": "code",
   "execution_count": 542,
   "metadata": {},
   "outputs": [
    {
     "data": {
      "text/plain": [
       "<matplotlib.legend.Legend at 0x7fda35dd2fd0>"
      ]
     },
     "execution_count": 542,
     "metadata": {},
     "output_type": "execute_result"
    },
    {
     "data": {
      "image/png": "[encoded data removed]",
      "text/plain": [
       "<Figure size 432x288 with 2 Axes>"
      ]
     },
     "metadata": {},
     "output_type": "display_data"
    }
   ],
   "source": [
    "'''Validation process for parameter selection'''\n",
    "fig = plt.figure()\n",
    "ax = fig.add_subplot(1,1,1)\n",
    "\n",
    "h1, =ax.plot(np.array(eva.index)[2:35]*10,eva['Balanced_acc'].iloc[2:35],marker='o',markersize=3,color='tab:orange',label='Mean-uncertain LR')\n",
    "\n",
    "\n",
    "ax.set_xlabel('Window size')\n",
    "ax.set_ylabel('Balanced_accuracy')\n",
    "\n",
    "ax2 = ax.twinx()\n",
    "h2, = ax2.plot(np.array(eva.index)[2:35]*10,eva_var['Balanced_acc'].iloc[2:35],marker='o',markersize=3,color='tab:blue')\n",
    "\n",
    "ax.tick_params(axis='y', colors='tab:orange')\n",
    "ax2.tick_params(axis='y', colors='tab:blue')\n",
    "ax2.yaxis.label.set_color('tab:blue')\n",
    "\n",
    "ax.legend([h1,h2],['Mean-uncertain LR','Volatility-uncertain LR'])\n"
   ]
  },
  {
   "cell_type": "code",
   "execution_count": 143,
   "metadata": {},
   "outputs": [],
   "source": [
    "def var_evaluate_model(X,y,m,model=LogisticRegression()):\n",
    "    \n",
    "    G_m,bacc,f2,rec,pre=list(),list(),list(),list(),list()\n",
    "   \n",
    "    for train_index,test_index in cv.split(X,y):\n",
    "                model.fit(X[train_index],y[train_index])\n",
    "                prob_y=F_u(m,(np.dot(X[test_index],model.coef_.T)+model.intercept_).reshape(X[test_index].shape[0],))\n",
    "        \n",
    "                \n",
    "                prdict_y=np.round(prob_y)\n",
    "                rec.append(recall_score(y[test_index],prdict_y))\n",
    "                pre.append(precision_score(y[test_index],prdict_y))\n",
    "                G_m.append(np.sqrt(recall_score(y[test_index],prdict_y)*recall_score(y[test_index],prdict_y,pos_label=0)))\n",
    "\n",
    "                bacc.append(balanced_accuracy_score(y[test_index],prdict_y))\n",
    "                f2.append(fbeta_score(y[test_index],prdict_y,beta=2))\n",
    " \n",
    "    return G_m,bacc,f2,rec,pre"
   ]
  },
  {
   "cell_type": "code",
   "execution_count": 144,
   "metadata": {},
   "outputs": [],
   "source": [
    "'''all_results_var reports the performance of volatility-uncertain method on cv sets'''\n",
    "all_results_var = []\n",
    "c=1\n",
    "\n",
    "for k in var_lr:\n",
    "    result=np.mean(var_evaluate_model(x_tr,y_tr,k),axis=1)\n",
    "    metric_res = {'window':10*c,'upper_mean': k}\n",
    "    c+=1\n",
    "    for name, value in zip(metrics_names, result):\n",
    "            metric_res[name] = value\n",
    "       \n",
    "\n",
    "    all_results_var.append(metric_res)"
   ]
  },
  {
   "cell_type": "code",
   "execution_count": 184,
   "metadata": {},
   "outputs": [
    {
     "name": "stdout",
     "output_type": "stream",
     "text": [
      "optimal window size N for volatility-uncertain LR by fivefold CV: 120.000 \n"
     ]
    }
   ],
   "source": [
    "'''Select the optimal parameter'''\n",
    "eva_var=pd.DataFrame(all_results_var)\n",
    "bias=eva_var[eva_var.iloc[:,-4]==(eva_var.iloc[:,-4]).max()]\n",
    "N_optimal_v=bias['window'].values[0]\n",
    "print(\"optimal window size N for volatility-uncertain LR by fivefold CV: %.3f \"%(N_optimal_v))\n"
   ]
  },
  {
   "cell_type": "code",
   "execution_count": 551,
   "metadata": {},
   "outputs": [
    {
     "name": "stdout",
     "output_type": "stream",
     "text": [
      "optimal volatility interval: [3.74495786 7.53573922]\n",
      ">volatility-uncertain LR: Average Balanced_Acc: 0.685 \n",
      ">volatility-uncertain LR: Average F-measure: 0.615\n",
      ">volatility-uncertain LR: Average Recall: 0.533\n",
      ">volatility-uncertain LR: Average Training time: 3.139\n",
      ">volatility-uncertain LR: Average accuracy_score: 0.611\n",
      ">volatility-uncertain LR: Average Score: 0.608\n"
     ]
    }
   ],
   "source": [
    "'''performance of volatility-uncertain LR'''\n",
    "\n",
    "s_1=time.time()\n",
    "model_in.fit(x_tr,y_tr)\n",
    "vola=fsolve(lambda x: equa_v(x,120,0.5*y_tr.shape[0]/sum(y_tr)),[0.5,1.5])\n",
    "t_1=time.time()\n",
    "prob_y=F_u(vola,(np.dot(x_te,model_in.coef_.T)+model_in.intercept_).reshape(x_te.shape[0],))\n",
    "        \n",
    "\n",
    "prdict_y=np.round(prob_y)\n",
    "rec=recall_score(y_te,prdict_y)\n",
    "pre=precision_score(y_te,prdict_y)\n",
    "#                 bacc_tr.append(balanced_accuracy_score(y[train_index],predict_tr))\n",
    "bacc=balanced_accuracy_score(y_te,prdict_y)\n",
    "f1=fbeta_score(y_te,prdict_y,beta=1)\n",
    "acc_s=np.mean([bacc,rec,f1])\n",
    "T=t_1-s_1\n",
    "print('optimal volatility interval:',(vola))\n",
    "print('>%s: Average Balanced_Acc: %.3f ' % ('volatility-uncertain LR',bacc))\n",
    "print('>%s: Average F-measure: %.3f' % ('volatility-uncertain LR',f1))\n",
    "print('>%s: Average Recall: %.3f' % ('volatility-uncertain LR',rec))    \n",
    "print('>%s: Average Training time: %.3f' % ('volatility-uncertain LR',t_1-s_1))\n",
    "print('>%s: Average accuracy_score: %.3f' % ('volatility-uncertain LR',acc_s))\n",
    "print('>%s: Average Score: %.3f' % ('volatility-uncertain LR',0.99*acc_s+0.01/(T*0.9+1)))\n",
    "          "
   ]
  },
  {
   "cell_type": "code",
   "execution_count": 580,
   "metadata": {},
   "outputs": [
    {
     "data": {
      "text/plain": [
       "<matplotlib.legend.Legend at 0x7fda387b4b70>"
      ]
     },
     "execution_count": 580,
     "metadata": {},
     "output_type": "execute_result"
    },
    {
     "data": {
      "image/png": "[encoded data removed]",
      "text/plain": [
       "<Figure size 504x360 with 1 Axes>"
      ]
     },
     "metadata": {
      "needs_background": "light"
     },
     "output_type": "display_data"
    }
   ],
   "source": [
    "'''Boundary-line of different classifiers'''\n",
    "plt.figure(figsize=(7,5))\n",
    "sns.distplot(x_te[u[-200:]==0],bins=20)\n",
    "sns.distplot(x_te[u[-200:]==1],hist=False)\n",
    "# plt.vlines(train[train_label==0],0,0.1)\n",
    "plt.vlines(x_te[u[-200:]==1],0,0.1,'y')\n",
    "plt.vlines(-model_in.intercept_/model_in.coef_,0,0.65,'r','--',label='LR')\n",
    "plt.vlines(-w_x_2[1]/w_x_2[0],0,0.65,'k','--',label='Max-mean loss')\n",
    "plt.vlines((-w_x_2[1]-0.310)/w_x_2[0],0,0.65,'b','--',label='Mean-uncertain Max-mean')\n",
    "plt.vlines((-model_r.intercept_)/model_r.coef_,0,0.65,'y','--',label='RUS-LR')\n",
    "plt.vlines((-model_s.intercept_)/model_s.coef_,0,0.65,'g','--',label='SMOTE-LR')\n",
    "plt.vlines((-w_mle[1]-2.54)/w_mle[0],0,0.65,'tab:orange','--',label='Mean-uncertain LR')\n",
    "# plt.title('Boundary line of different models')\n",
    "plt.xlabel('X')\n",
    "\n",
    "plt.legend()"
   ]
  },
  {
   "cell_type": "code",
   "execution_count": null,
   "metadata": {},
   "outputs": [],
   "source": []
  },
  {
   "cell_type": "code",
   "execution_count": null,
   "metadata": {},
   "outputs": [],
   "source": []
  }
 ],
 "metadata": {
  "kernelspec": {
   "display_name": "Python 3",
   "language": "python",
   "name": "python3"
  },
  "language_info": {
   "codemirror_mode": {
    "name": "ipython",
    "version": 3
   },
   "file_extension": ".py",
   "mimetype": "text/x-python",
   "name": "python",
   "nbconvert_exporter": "python",
   "pygments_lexer": "ipython3",
   "version": "3.7.3"
  }
 },
 "nbformat": 4,
 "nbformat_minor": 2
}
