{
 "cells": [
  {
   "cell_type": "code",
   "execution_count": 1,
   "metadata": {},
   "outputs": [
    {
     "name": "stderr",
     "output_type": "stream",
     "text": [
      "/Users/lvjingzhe/anaconda3/lib/python3.7/site-packages/pandas/compat/_optional.py:138: UserWarning: Pandas requires version '2.7.0' or newer of 'numexpr' (version '2.6.9' currently installed).\n",
      "  warnings.warn(msg, UserWarning)\n",
      "/Users/lvjingzhe/anaconda3/lib/python3.7/site-packages/tensorflow/python/framework/dtypes.py:516: FutureWarning: Passing (type, 1) or '1type' as a synonym of type is deprecated; in a future version of numpy, it will be understood as (type, (1,)) / '(1,)type'.\n",
      "  _np_qint8 = np.dtype([(\"qint8\", np.int8, 1)])\n",
      "/Users/lvjingzhe/anaconda3/lib/python3.7/site-packages/tensorflow/python/framework/dtypes.py:517: FutureWarning: Passing (type, 1) or '1type' as a synonym of type is deprecated; in a future version of numpy, it will be understood as (type, (1,)) / '(1,)type'.\n",
      "  _np_quint8 = np.dtype([(\"quint8\", np.uint8, 1)])\n",
      "/Users/lvjingzhe/anaconda3/lib/python3.7/site-packages/tensorflow/python/framework/dtypes.py:518: FutureWarning: Passing (type, 1) or '1type' as a synonym of type is deprecated; in a future version of numpy, it will be understood as (type, (1,)) / '(1,)type'.\n",
      "  _np_qint16 = np.dtype([(\"qint16\", np.int16, 1)])\n",
      "/Users/lvjingzhe/anaconda3/lib/python3.7/site-packages/tensorflow/python/framework/dtypes.py:519: FutureWarning: Passing (type, 1) or '1type' as a synonym of type is deprecated; in a future version of numpy, it will be understood as (type, (1,)) / '(1,)type'.\n",
      "  _np_quint16 = np.dtype([(\"quint16\", np.uint16, 1)])\n",
      "/Users/lvjingzhe/anaconda3/lib/python3.7/site-packages/tensorflow/python/framework/dtypes.py:520: FutureWarning: Passing (type, 1) or '1type' as a synonym of type is deprecated; in a future version of numpy, it will be understood as (type, (1,)) / '(1,)type'.\n",
      "  _np_qint32 = np.dtype([(\"qint32\", np.int32, 1)])\n",
      "/Users/lvjingzhe/anaconda3/lib/python3.7/site-packages/tensorflow/python/framework/dtypes.py:525: FutureWarning: Passing (type, 1) or '1type' as a synonym of type is deprecated; in a future version of numpy, it will be understood as (type, (1,)) / '(1,)type'.\n",
      "  np_resource = np.dtype([(\"resource\", np.ubyte, 1)])\n",
      "/Users/lvjingzhe/anaconda3/lib/python3.7/site-packages/tensorboard/compat/tensorflow_stub/dtypes.py:541: FutureWarning: Passing (type, 1) or '1type' as a synonym of type is deprecated; in a future version of numpy, it will be understood as (type, (1,)) / '(1,)type'.\n",
      "  _np_qint8 = np.dtype([(\"qint8\", np.int8, 1)])\n",
      "/Users/lvjingzhe/anaconda3/lib/python3.7/site-packages/tensorboard/compat/tensorflow_stub/dtypes.py:542: FutureWarning: Passing (type, 1) or '1type' as a synonym of type is deprecated; in a future version of numpy, it will be understood as (type, (1,)) / '(1,)type'.\n",
      "  _np_quint8 = np.dtype([(\"quint8\", np.uint8, 1)])\n",
      "/Users/lvjingzhe/anaconda3/lib/python3.7/site-packages/tensorboard/compat/tensorflow_stub/dtypes.py:543: FutureWarning: Passing (type, 1) or '1type' as a synonym of type is deprecated; in a future version of numpy, it will be understood as (type, (1,)) / '(1,)type'.\n",
      "  _np_qint16 = np.dtype([(\"qint16\", np.int16, 1)])\n",
      "/Users/lvjingzhe/anaconda3/lib/python3.7/site-packages/tensorboard/compat/tensorflow_stub/dtypes.py:544: FutureWarning: Passing (type, 1) or '1type' as a synonym of type is deprecated; in a future version of numpy, it will be understood as (type, (1,)) / '(1,)type'.\n",
      "  _np_quint16 = np.dtype([(\"quint16\", np.uint16, 1)])\n",
      "/Users/lvjingzhe/anaconda3/lib/python3.7/site-packages/tensorboard/compat/tensorflow_stub/dtypes.py:545: FutureWarning: Passing (type, 1) or '1type' as a synonym of type is deprecated; in a future version of numpy, it will be understood as (type, (1,)) / '(1,)type'.\n",
      "  _np_qint32 = np.dtype([(\"qint32\", np.int32, 1)])\n",
      "/Users/lvjingzhe/anaconda3/lib/python3.7/site-packages/tensorboard/compat/tensorflow_stub/dtypes.py:550: FutureWarning: Passing (type, 1) or '1type' as a synonym of type is deprecated; in a future version of numpy, it will be understood as (type, (1,)) / '(1,)type'.\n",
      "  np_resource = np.dtype([(\"resource\", np.ubyte, 1)])\n"
     ]
    }
   ],
   "source": [
    "import matplotlib as mpl\n",
    "import pandas as pd\n",
    "import matplotlib.pyplot as plt\n",
    "import numpy as np\n",
    "import seaborn as sns\n",
    "import tensorflow.compat.v1 as tf\n",
    "from sklearn.preprocessing import LabelEncoder\n",
    "import sklearn\n",
    "from sklearn.metrics import confusion_matrix\n",
    "from sklearn.linear_model import LogisticRegression\n",
    "import time\n",
    "from sklearn.model_selection import cross_val_score\n",
    "from sklearn.model_selection import RepeatedStratifiedKFold\n",
    "from sklearn.dummy import DummyClassifier\n",
    "from sklearn.preprocessing import LabelEncoder\n",
    "from sklearn.model_selection import cross_val_score\n",
    "from sklearn.model_selection import RepeatedStratifiedKFold\n",
    "from sklearn.linear_model import LogisticRegression\n",
    "from sklearn.svm import SVC\n",
    "from sklearn.ensemble import RandomForestClassifier\n",
    "from sklearn.ensemble import GradientBoostingClassifier\n",
    "from sklearn.ensemble import BaggingClassifier\n",
    "from sklearn.preprocessing import PowerTransformer\n",
    "from sklearn.metrics import roc_auc_score\n",
    "import scipy.stats as st\n",
    "from sympy.solvers import solve\n",
    "from sympy import Symbol\n",
    "from scipy.optimize import fsolve\n",
    "from sklearn.metrics import fbeta_score,f1_score,balanced_accuracy_score,recall_score,precision_score\n",
    "from sklearn.neural_network import MLPClassifier\n",
    "warnings.filterwarnings('ignore')\n",
    "from sklearn.model_selection import train_test_split\n",
    "from cvxopt import matrix\n",
    "from cvxopt import solvers\n",
    "from sklearn.preprocessing import StandardScaler\n",
    "from sklearn.preprocessing import MinMaxScaler\n",
    "from tensorflow.keras.layers import Input, Dense, Dropout, BatchNormalization, Flatten, Activation, GlobalAveragePooling2D,Conv2D, MaxPooling2D\n",
    "from sklearn.ensemble import AdaBoostClassifier # AdaBoostClassifier\n",
    "from sklearn.neighbors import KNeighborsClassifier # KNeighborsClassifier\n",
    "from sklearn.ensemble import RandomForestClassifier \n",
    "from tensorflow.keras.models import Model, Sequential\n",
    "import math"
   ]
  },
  {
   "cell_type": "code",
   "execution_count": null,
   "metadata": {},
   "outputs": [],
   "source": []
  },
  {
   "cell_type": "code",
   "execution_count": 2,
   "metadata": {},
   "outputs": [],
   "source": [
    "yeast=pd.read_csv('/Users/lvjingzhe/Desktop/璇/modified_althogram/DRM/data/yeast.csv',)"
   ]
  },
  {
   "cell_type": "code",
   "execution_count": 265,
   "metadata": {},
   "outputs": [
    {
     "data": {
      "text/html": [
       "<div>\n",
       "<style scoped>\n",
       "    .dataframe tbody tr th:only-of-type {\n",
       "        vertical-align: middle;\n",
       "    }\n",
       "\n",
       "    .dataframe tbody tr th {\n",
       "        vertical-align: top;\n",
       "    }\n",
       "\n",
       "    .dataframe thead th {\n",
       "        text-align: right;\n",
       "    }\n",
       "</style>\n",
       "<table border=\"1\" class=\"dataframe\">\n",
       "  <thead>\n",
       "    <tr style=\"text-align: right;\">\n",
       "      <th></th>\n",
       "      <th>Mcg</th>\n",
       "      <th>Gvh</th>\n",
       "      <th>Alm</th>\n",
       "      <th>Mit</th>\n",
       "      <th>Erl</th>\n",
       "      <th>Pox</th>\n",
       "      <th>Vac</th>\n",
       "      <th>Nuc</th>\n",
       "      <th>Class</th>\n",
       "    </tr>\n",
       "  </thead>\n",
       "  <tbody>\n",
       "    <tr>\n",
       "      <th>0</th>\n",
       "      <td>0.58</td>\n",
       "      <td>0.61</td>\n",
       "      <td>0.47</td>\n",
       "      <td>0.13</td>\n",
       "      <td>0.5</td>\n",
       "      <td>0.0</td>\n",
       "      <td>0.48</td>\n",
       "      <td>0.22</td>\n",
       "      <td>MIT</td>\n",
       "    </tr>\n",
       "    <tr>\n",
       "      <th>1</th>\n",
       "      <td>0.43</td>\n",
       "      <td>0.67</td>\n",
       "      <td>0.48</td>\n",
       "      <td>0.27</td>\n",
       "      <td>0.5</td>\n",
       "      <td>0.0</td>\n",
       "      <td>0.53</td>\n",
       "      <td>0.22</td>\n",
       "      <td>MIT</td>\n",
       "    </tr>\n",
       "    <tr>\n",
       "      <th>2</th>\n",
       "      <td>0.64</td>\n",
       "      <td>0.62</td>\n",
       "      <td>0.49</td>\n",
       "      <td>0.15</td>\n",
       "      <td>0.5</td>\n",
       "      <td>0.0</td>\n",
       "      <td>0.53</td>\n",
       "      <td>0.22</td>\n",
       "      <td>MIT</td>\n",
       "    </tr>\n",
       "    <tr>\n",
       "      <th>3</th>\n",
       "      <td>0.58</td>\n",
       "      <td>0.44</td>\n",
       "      <td>0.57</td>\n",
       "      <td>0.13</td>\n",
       "      <td>0.5</td>\n",
       "      <td>0.0</td>\n",
       "      <td>0.54</td>\n",
       "      <td>0.22</td>\n",
       "      <td>NUC</td>\n",
       "    </tr>\n",
       "    <tr>\n",
       "      <th>4</th>\n",
       "      <td>0.42</td>\n",
       "      <td>0.44</td>\n",
       "      <td>0.48</td>\n",
       "      <td>0.54</td>\n",
       "      <td>0.5</td>\n",
       "      <td>0.0</td>\n",
       "      <td>0.48</td>\n",
       "      <td>0.22</td>\n",
       "      <td>MIT</td>\n",
       "    </tr>\n",
       "    <tr>\n",
       "      <th>...</th>\n",
       "      <td>...</td>\n",
       "      <td>...</td>\n",
       "      <td>...</td>\n",
       "      <td>...</td>\n",
       "      <td>...</td>\n",
       "      <td>...</td>\n",
       "      <td>...</td>\n",
       "      <td>...</td>\n",
       "      <td>...</td>\n",
       "    </tr>\n",
       "    <tr>\n",
       "      <th>1479</th>\n",
       "      <td>0.82</td>\n",
       "      <td>0.63</td>\n",
       "      <td>0.47</td>\n",
       "      <td>0.18</td>\n",
       "      <td>0.5</td>\n",
       "      <td>0.0</td>\n",
       "      <td>0.50</td>\n",
       "      <td>0.22</td>\n",
       "      <td>POX</td>\n",
       "    </tr>\n",
       "    <tr>\n",
       "      <th>1480</th>\n",
       "      <td>0.35</td>\n",
       "      <td>0.29</td>\n",
       "      <td>0.46</td>\n",
       "      <td>0.14</td>\n",
       "      <td>0.5</td>\n",
       "      <td>0.0</td>\n",
       "      <td>0.54</td>\n",
       "      <td>0.66</td>\n",
       "      <td>NUC</td>\n",
       "    </tr>\n",
       "    <tr>\n",
       "      <th>1481</th>\n",
       "      <td>0.41</td>\n",
       "      <td>0.47</td>\n",
       "      <td>0.50</td>\n",
       "      <td>0.14</td>\n",
       "      <td>0.5</td>\n",
       "      <td>0.0</td>\n",
       "      <td>0.53</td>\n",
       "      <td>0.37</td>\n",
       "      <td>NUC</td>\n",
       "    </tr>\n",
       "    <tr>\n",
       "      <th>1482</th>\n",
       "      <td>0.51</td>\n",
       "      <td>0.45</td>\n",
       "      <td>0.62</td>\n",
       "      <td>0.25</td>\n",
       "      <td>0.5</td>\n",
       "      <td>0.0</td>\n",
       "      <td>0.59</td>\n",
       "      <td>0.22</td>\n",
       "      <td>MIT</td>\n",
       "    </tr>\n",
       "    <tr>\n",
       "      <th>1483</th>\n",
       "      <td>0.67</td>\n",
       "      <td>0.57</td>\n",
       "      <td>0.36</td>\n",
       "      <td>0.19</td>\n",
       "      <td>0.5</td>\n",
       "      <td>0.0</td>\n",
       "      <td>0.56</td>\n",
       "      <td>0.22</td>\n",
       "      <td>ME2</td>\n",
       "    </tr>\n",
       "  </tbody>\n",
       "</table>\n",
       "<p>1484 rows × 9 columns</p>\n",
       "</div>"
      ],
      "text/plain": [
       "       Mcg   Gvh   Alm   Mit   Erl   Pox   Vac   Nuc  Class\n",
       "0     0.58  0.61  0.47  0.13   0.5   0.0  0.48  0.22    MIT\n",
       "1     0.43  0.67  0.48  0.27   0.5   0.0  0.53  0.22    MIT\n",
       "2     0.64  0.62  0.49  0.15   0.5   0.0  0.53  0.22    MIT\n",
       "3     0.58  0.44  0.57  0.13   0.5   0.0  0.54  0.22    NUC\n",
       "4     0.42  0.44  0.48  0.54   0.5   0.0  0.48  0.22    MIT\n",
       "...    ...   ...   ...   ...   ...   ...   ...   ...    ...\n",
       "1479  0.82  0.63  0.47  0.18   0.5   0.0  0.50  0.22    POX\n",
       "1480  0.35  0.29  0.46  0.14   0.5   0.0  0.54  0.66    NUC\n",
       "1481  0.41  0.47  0.50  0.14   0.5   0.0  0.53  0.37    NUC\n",
       "1482  0.51  0.45  0.62  0.25   0.5   0.0  0.59  0.22    MIT\n",
       "1483  0.67  0.57  0.36  0.19   0.5   0.0  0.56  0.22    ME2\n",
       "\n",
       "[1484 rows x 9 columns]"
      ]
     },
     "execution_count": 265,
     "metadata": {},
     "output_type": "execute_result"
    }
   ],
   "source": [
    "yeast"
   ]
  },
  {
   "cell_type": "code",
   "execution_count": 3,
   "metadata": {},
   "outputs": [
    {
     "data": {
      "text/plain": [
       " CYT    463\n",
       " NUC    429\n",
       " MIT    244\n",
       " ME3    163\n",
       " ME2     51\n",
       " ME1     44\n",
       " EXC     35\n",
       " VAC     30\n",
       " POX     20\n",
       " ERL      5\n",
       "Name:  Class, dtype: int64"
      ]
     },
     "execution_count": 3,
     "metadata": {},
     "output_type": "execute_result"
    }
   ],
   "source": [
    "yeast.iloc[:,-1].value_counts()"
   ]
  },
  {
   "cell_type": "code",
   "execution_count": 4,
   "metadata": {},
   "outputs": [],
   "source": [
    "L=[]\n",
    "for k in yeast[' Class'].values:\n",
    "    if k ==' ME2':\n",
    "        L.append(1)\n",
    "    else:L.append(0)\n",
    "yeast[' Class']=L"
   ]
  },
  {
   "cell_type": "code",
   "execution_count": 5,
   "metadata": {},
   "outputs": [
    {
     "data": {
      "text/plain": [
       "0    1433\n",
       "1      51\n",
       "Name:  Class, dtype: int64"
      ]
     },
     "execution_count": 5,
     "metadata": {},
     "output_type": "execute_result"
    }
   ],
   "source": [
    "yeast[' Class'].value_counts()"
   ]
  },
  {
   "cell_type": "code",
   "execution_count": 6,
   "metadata": {},
   "outputs": [
    {
     "data": {
      "text/plain": [
       "(1484, 8)"
      ]
     },
     "execution_count": 6,
     "metadata": {},
     "output_type": "execute_result"
    }
   ],
   "source": [
    "E=np.array(yeast)\n",
    "np.random.seed(4123)\n",
    "np.random.shuffle(E)\n",
    "X_sample=E[:,:-1]/np.max(E[:,:-1],axis=0)\n",
    "y_sample=E[:,-1]\n",
    "X_sample.shape"
   ]
  },
  {
   "cell_type": "code",
   "execution_count": 166,
   "metadata": {},
   "outputs": [],
   "source": [
    "# X_sample=np.array(ecoli.iloc[:,:-1]/np.max(ecoli.iloc[:,:-1],axis=0))\n",
    "# y_sample=np.array(ecoli['Class'])\n",
    "# X_sample.shape"
   ]
  },
  {
   "cell_type": "code",
   "execution_count": 7,
   "metadata": {},
   "outputs": [],
   "source": [
    "X_sample_XX=np.c_[X_sample,np.ones(X_sample.shape[0])]"
   ]
  },
  {
   "cell_type": "code",
   "execution_count": 8,
   "metadata": {},
   "outputs": [],
   "source": [
    "X_sample_ord=np.concatenate((X_sample[y_sample==0],X_sample[y_sample==1]))\n",
    "y_sample_ord=np.concatenate((y_sample[y_sample==0],y_sample[y_sample==1]))"
   ]
  },
  {
   "cell_type": "code",
   "execution_count": 9,
   "metadata": {},
   "outputs": [
    {
     "data": {
      "text/plain": [
       "(1484, 8)"
      ]
     },
     "execution_count": 9,
     "metadata": {},
     "output_type": "execute_result"
    }
   ],
   "source": [
    "X_sample_ord.shape"
   ]
  },
  {
   "cell_type": "code",
   "execution_count": 10,
   "metadata": {},
   "outputs": [],
   "source": [
    "x_tr, x_te, y_tr, y_te = train_test_split(X_sample,y_sample,test_size = 0.2,\n",
    "                                                  shuffle = True,\n",
    "                                                  random_state = 4123)"
   ]
  },
  {
   "cell_type": "code",
   "execution_count": 11,
   "metadata": {},
   "outputs": [],
   "source": [
    "X_train=np.c_[x_tr,np.ones(x_tr.shape[0])]\n",
    "X_test=np.c_[x_te,np.ones(x_te.shape[0])]"
   ]
  },
  {
   "cell_type": "code",
   "execution_count": 40,
   "metadata": {},
   "outputs": [
    {
     "data": {
      "text/plain": [
       "((297, 8), (1187, 8))"
      ]
     },
     "execution_count": 40,
     "metadata": {},
     "output_type": "execute_result"
    }
   ],
   "source": [
    "x_te.shape,x_tr.shape"
   ]
  },
  {
   "cell_type": "code",
   "execution_count": 13,
   "metadata": {},
   "outputs": [
    {
     "data": {
      "text/plain": [
       "29.098039215686274"
      ]
     },
     "execution_count": 13,
     "metadata": {},
     "output_type": "execute_result"
    }
   ],
   "source": [
    "y_sample.shape[0]/sum(y_sample)"
   ]
  },
  {
   "cell_type": "code",
   "execution_count": 14,
   "metadata": {},
   "outputs": [],
   "source": [
    "def split(x,y):\n",
    "    k=int(y.shape[0]/sum(y))-1\n",
    "    n=y[y==1].shape[0]\n",
    "    m=int((x.shape[0]-n)/k)\n",
    "    indice=[i*m for i in range(1,k)]\n",
    "    indice.append(x.shape[0]-n)\n",
    "    x_c=np.concatenate((x[y==0],x[y==1]))\n",
    "    y_c=np.concatenate((np.array([0]*(x.shape[0]-n)),np.array([1]*n)))\n",
    "    return np.array(np.split(x_c,indice)),np.array(np.split(y_c,indice))\n",
    "\n",
    "\n",
    "n=y_tr[y_tr==1].shape[0]\n",
    "XX=np.concatenate((X_train[y_tr==0],X_train[y_tr==1]))\n",
    "YY=np.concatenate((np.array([0]*(X_train.shape[0]-n)),np.array([1]*n)))\n",
    "m=int((X_train.shape[0]-n)/68)\n",
    "indice=[k*m for k in range(1,68)]\n",
    "indice.append(X_train.shape[0]-n)\n",
    "\n",
    "pre_XX=np.array(np.split(XX,indice))\n",
    "pre_YY=np.array(np.split(YY,indice))"
   ]
  },
  {
   "cell_type": "code",
   "execution_count": 99,
   "metadata": {},
   "outputs": [],
   "source": [
    "# cv_= RepeatedStratifiedKFold(n_splits=3, n_repeats=1, random_state=0)\n",
    "# cv=RepeatedStratifiedKFold(n_splits=3, n_repeats=1, random_state=42)\n",
    "cv= RepeatedStratifiedKFold(n_splits=5, n_repeats=1, random_state=0)\n",
    "cv_=RepeatedStratifiedKFold(n_splits=10, n_repeats=1, random_state=0)"
   ]
  },
  {
   "cell_type": "code",
   "execution_count": 16,
   "metadata": {},
   "outputs": [
    {
     "name": "stdout",
     "output_type": "stream",
     "text": [
      "              precision    recall  f1-score   support\n",
      "\n",
      "         0.0       0.95      1.00      0.98       283\n",
      "         1.0       0.00      0.00      0.00        14\n",
      "\n",
      "    accuracy                           0.95       297\n",
      "   macro avg       0.48      0.50      0.49       297\n",
      "weighted avg       0.91      0.95      0.93       297\n",
      "\n",
      "Running time:0.01 s\n",
      "Balanced-Accuracy on testing set：50.00%\n",
      "Recall on testing set：0.00%\n",
      "F-measure on testing set：0.00%\n",
      "Accuracy on training set：96.88%\n",
      "Accuracy on testing set：95.29%\n"
     ]
    }
   ],
   "source": [
    "import time\n",
    "start_i=time.time()\n",
    "model_in=LogisticRegression()\n",
    "model_in.fit(x_tr,y_tr)\n",
    "# model_in.fit(X_resampled_smote,y_resampled_smote)\n",
    "end_i=time.time()\n",
    "y_train_proba=model_in.predict_proba(x_tr)\n",
    "y_train_label=model_in.predict(x_tr)\n",
    "y_test_proba=model_in.predict_proba(x_te)\n",
    "\n",
    "y_test_label=model_in.predict(x_te)\n",
    "\n",
    "from sklearn.metrics import classification_report\n",
    "print(classification_report(y_te,y_test_label))\n",
    "print(\"Running time:%.2f s\"%(end_i-start_i))\n",
    "from sklearn.metrics import accuracy_score\n",
    "\n",
    "print('Balanced-Accuracy on testing set：{:.2%}'.format(balanced_accuracy_score(y_te,y_test_label)))\n",
    "print('Recall on testing set：{:.2%}'.format(recall_score(y_te,y_test_label)))\n",
    "print('F-measure on testing set：{:.2%}'.format(fbeta_score(y_te,y_test_label,beta=2)))\n",
    "print('Accuracy on training set：{:.2%}'.format(accuracy_score(y_tr,y_train_label)))\n",
    "print('Accuracy on testing set：{:.2%}'.format(accuracy_score(y_te,y_test_label)))"
   ]
  },
  {
   "cell_type": "markdown",
   "metadata": {},
   "source": [
    "## DRM"
   ]
  },
  {
   "cell_type": "code",
   "execution_count": 163,
   "metadata": {},
   "outputs": [],
   "source": [
    "class Poly_close_solution:\n",
    "    def __init__(self,kernel='self._poly',penalty = None,gamma=1,degree = 2,coef0=0,alpha=1,beta=1):\n",
    "        self.W = None\n",
    "        self.penalty = penalty\n",
    "        self.d = degree\n",
    "        self.b = coef0\n",
    "        self.alpha=alpha\n",
    "        self.beta=beta\n",
    "        self.g=gamma\n",
    "        self.kernel=kernel\n",
    "        \n",
    "    def _poly(self,X_1,X_2):\n",
    "        return (self.g*(X_1.dot(X_2.T))+self.b)**self.d\n",
    "    def _rbf(self,x,y):\n",
    "        return np.exp(-self.g*np.sum((x[...,None,:]-y)**2,axis=2))\n",
    "\n",
    "    def poly_B_matrix(self,X,Y):\n",
    "        n=Y[Y==1].shape[0]\n",
    "        X_sample_split=np.array(np.split(X,np.array([X.shape[0]-n])))\n",
    "        B=np.zeros((X.shape[0],X.shape[0]))\n",
    "        I=0\n",
    "        for  m in X_sample_split:\n",
    "            I+=m.shape[0]\n",
    "            B[I-m.shape[0]:I,I-m.shape[0]:I]=eval(self.kernel+'(m,m)')/m.shape[0]\n",
    "        return B\n",
    "    \n",
    "    def K_x(self,X,x_t):\n",
    "        return eval(self.kernel+'(X,x_t)')\n",
    "    \n",
    "    def QplusBeta(self,X,Y):\n",
    "        s=time.time()\n",
    "        K=eval(self.kernel+'(X,X)')\n",
    "        H_p=np.diag(np.diagonal(K))\n",
    "        B_p=self.poly_B_matrix(X,Y)\n",
    "        Qplus_beta=K+self.alpha*(H_p-B_p)+np.diag([self.beta]*X.shape[0])\n",
    "        e=time.time()\n",
    "        return K,Qplus_beta\n",
    "    def fit(self,invQ,X,x_t):\n",
    "        \n",
    "        \n",
    "        W=invQ.dot(self.K_x(X,x_t))##求逆耗时\n",
    "        \n",
    "        return W.reshape(-1)\n",
    "    def delta_phi(self,K,invQ,X,Y,x_t,j):\n",
    "        \n",
    "        w=self.fit(invQ,X,x_t)\n",
    "        w_noty=w\n",
    "\n",
    "        w_y=np.zeros((X.shape[0]))\n",
    "        indice=np.argwhere(Y==j).reshape(-1)\n",
    "        w_noty[indice]=0\n",
    "        w_y[indice]=w[indice]\n",
    "        delta=np.dot(w_y,K.dot(w_y))+np.dot(w_noty,K.dot(w_noty))-2*np.dot(w_y,self.K_x(X,x_t))\n",
    "        return delta\n",
    "    def predict(self,K,invQ,X,Y,x_t):\n",
    "        delta=[]\n",
    "        for k in np.unique(Y):\n",
    "            delta.append(self.delta_phi(K,invQ,X,Y,x_t,k))\n",
    "        return np.argmin(delta)"
   ]
  },
  {
   "cell_type": "code",
   "execution_count": 164,
   "metadata": {},
   "outputs": [],
   "source": [
    "from numpy.linalg import inv,det"
   ]
  },
  {
   "cell_type": "code",
   "execution_count": 165,
   "metadata": {},
   "outputs": [],
   "source": [
    "from sklearn.metrics import fbeta_score\n",
    "from numpy.linalg import inv,det\n",
    "metrics_names=['G-mean','Balanced_acc','F1_score','Recall','Precision']\n",
    "def DRM_FiveCV(X,y,model=Poly_close_solution(\n",
    "                                )):\n",
    "    \n",
    "    G_m,bacc,f2,rec,pre=list(),list(),list(),list(),list()\n",
    "    for train_index,test_index in cv_.split(X,y):\n",
    "                \n",
    "                K,Q_beta=model.QplusBeta(X[train_index],y[train_index])\n",
    "                invQ=inv(Q_beta)\n",
    "                y_test_label=list()\n",
    "                for i in range(y[test_index].shape[0]):\n",
    "#                 X_resampled_smote,y_resampled_smote=SMOTE().fit_resample(X[train_index], y[train_index])\n",
    "                    y_test_label.append(model.predict(K,invQ,X[train_index],y[train_index],X[test_index][i]))\n",
    "#                 y_train_proba=model.predict_proba(X[train_index])\n",
    "#                 y_train_label=model.predict(X[train_index])\n",
    "                \n",
    "#                 print(\"running time for each CV:%.2f s\"%(t2-t1))\n",
    "                \n",
    "#     print(classification_report(y,y_pre))\n",
    "                rec.append(recall_score(y[test_index],y_test_label))\n",
    "                pre.append(precision_score(y[test_index],y_test_label))\n",
    "                G_m.append(math.sqrt(recall_score(y[test_index],y_test_label)*recall_score(y[test_index],y_test_label,pos_label=0)))\n",
    "                bacc.append(balanced_accuracy_score(y[test_index],y_test_label))\n",
    "                f2.append(fbeta_score(y[test_index],y_test_label,beta=2))\n",
    " \n",
    "    return G_m,bacc,f2,rec,pre\n"
   ]
  },
  {
   "cell_type": "code",
   "execution_count": 45,
   "metadata": {},
   "outputs": [
    {
     "name": "stdout",
     "output_type": "stream",
     "text": [
      "DRM_L_fivefold-cv time:218.55\n"
     ]
    }
   ],
   "source": [
    "degree=np.array([2,3,4,5,8,10])##tr:te=8:2\n",
    "gamma=np.array([0.01,0.1,1,10])\n",
    "parameter=np.array([0.01,0.1,1,10,100])\n",
    "X_tr_ord=np.concatenate((x_tr[y_tr==0],x_tr[y_tr==1]))\n",
    "y_tr_ord=np.concatenate((y_tr[y_tr==0],y_tr[y_tr==1]))\n",
    "all_results_Ldrm = []\n",
    "import time\n",
    "import math\n",
    "# for k in mean_lr:\n",
    "start=time.time()\n",
    "\n",
    "for k in gamma:\n",
    "    for p in gamma:\n",
    "        for d in degree:\n",
    "            Lo_score=np.mean(DRM_FiveCV(X_tr_ord,y_tr_ord,model=Poly_close_solution(alpha=k,beta=p,degree=d\n",
    "                                )),axis=1)\n",
    "\n",
    "            metric_res = {'alpha':k,'beta':p,'degree':d}\n",
    "\n",
    "            for name, value in zip(metrics_names, Lo_score):\n",
    "        #             print(name, ': ', value)\n",
    "                    metric_res[name] = value\n",
    "\n",
    "\n",
    "            all_results_Ldrm.append(metric_res)\n",
    "end=time.time()\n",
    "print(\"DRM_L_fivefold-cv time:%.2f\"%(end-start))"
   ]
  },
  {
   "cell_type": "code",
   "execution_count": 46,
   "metadata": {},
   "outputs": [],
   "source": [
    "pd.DataFrame(all_results_Ldrm).to_csv('/Users/lvjingzhe/Desktop/璇/modified_althogram/code/0514CV_select_DRML_keelyeast_4.csv')\n"
   ]
  },
  {
   "cell_type": "code",
   "execution_count": 47,
   "metadata": {},
   "outputs": [],
   "source": [
    "degree=np.array([2,3,4,5,8,10])\n",
    "gamma=np.array([0.001,0.01,0.1,1,10])\n",
    "parameter=np.array([0.01,0.1,1,10,100])\n",
    "def fivetrials_DRM(X,y):\n",
    "    \n",
    "    \n",
    "    G_m,bacc,fbeta,rec,pre,T=list(),list(),list(),list(),list(),list()\n",
    "    \n",
    "    for train_index,test_index in cv.split(X, y):\n",
    "#         all_results_Ldrm = []\n",
    "#         for k in parameter:\n",
    "#             for p in parameter:\n",
    "#                 for d in degree:\n",
    "#                     Lo_score=np.mean(DRM_FiveCV(X[train_index],y[train_index],model=Poly_close_solution(alpha=k,beta=p,degree=d\n",
    "#                                         )),axis=1)\n",
    "\n",
    "#                     metric_res = {'alpha':k,'beta':p,'degree':d}\n",
    "\n",
    "#                     for name, value in zip(metrics_names, Lo_score):\n",
    "#                 #             print(name, ': ', value)\n",
    "#                             metric_res[name] = value\n",
    "\n",
    "\n",
    "#                     all_results_Ldrm.append(metric_res)\n",
    "#         eva=pd.DataFrame(all_results_Ldrm)\n",
    "#         bias=eva[eva.iloc[:,-5]==(eva.iloc[:,-5]).max()]\n",
    "#         al,be,de=np.array(bias[['alpha','beta','degree']])[0]\n",
    "        start=time.time()\n",
    "        P_model=Poly_close_solution(alpha=1,beta=0.1,degree=2)\n",
    "        K,Q_beta=P_model.QplusBeta(X[train_index],y[train_index])\n",
    "        invQ=inv(Q_beta)\n",
    "        prdict_y=[]\n",
    "        for i in range(y[test_index].shape[0]):\n",
    "            prdict_y.append(P_model.predict(K,invQ,X[train_index],y[train_index],X[test_index][i]))\n",
    "        end=time.time()\n",
    "        \n",
    "        print(classification_report(y[test_index],prdict_y))\n",
    "        rec.append(recall_score(y[test_index],prdict_y))\n",
    "        G_m.append(np.sqrt(recall_score(y[test_index],prdict_y)*recall_score(y[test_index],prdict_y,pos_label=0)))\n",
    "        pre.append(precision_score(y[test_index],prdict_y))\n",
    "    #     auc.append(roc_auc_score(y[test_index],prob_y[:,-1]))\n",
    "        bacc.append(balanced_accuracy_score(y[test_index],prdict_y))\n",
    "        fbeta.append(fbeta_score(y[test_index],prdict_y,beta=max(2,np.log(y_sample.shape[0]/sum(y_sample)-1))))\n",
    "        T.append(end-start)\n",
    "#     pipeline = Pipeline(steps=steps)\n",
    "   \n",
    "#     print('Balanced-Accuracy on testing set：{:.2%}'.format(balanced_accuracy_score(y_te,y_L)))\n",
    "#     print('Recall on testing set：{:.2%}'.format(recall_score(y_te,y_L)))\n",
    "#     print('F-measure on testing set：{:.2%}'.format(fbeta_score(y_te,y_L,beta=3.66)))\n",
    "#     print('Score :{:.3}'.format(np.mean([recall,bacc,fbeta])*0.99+0.01/(end_d-start_d)))\n",
    "\n",
    "\n",
    "\n",
    "    return G_m,bacc,fbeta,rec,pre,T"
   ]
  },
  {
   "cell_type": "code",
   "execution_count": 48,
   "metadata": {},
   "outputs": [
    {
     "name": "stdout",
     "output_type": "stream",
     "text": [
      "              precision    recall  f1-score   support\n",
      "\n",
      "         0.0       0.99      0.92      0.95       287\n",
      "         1.0       0.20      0.60      0.30        10\n",
      "\n",
      "    accuracy                           0.91       297\n",
      "   macro avg       0.59      0.76      0.62       297\n",
      "weighted avg       0.96      0.91      0.93       297\n",
      "\n",
      "              precision    recall  f1-score   support\n",
      "\n",
      "         0.0       0.98      0.94      0.96       287\n",
      "         1.0       0.23      0.50      0.31        10\n",
      "\n",
      "    accuracy                           0.93       297\n",
      "   macro avg       0.60      0.72      0.64       297\n",
      "weighted avg       0.96      0.93      0.94       297\n",
      "\n",
      "              precision    recall  f1-score   support\n",
      "\n",
      "         0.0       1.00      0.93      0.96       287\n",
      "         1.0       0.31      0.90      0.46        10\n",
      "\n",
      "    accuracy                           0.93       297\n",
      "   macro avg       0.65      0.92      0.71       297\n",
      "weighted avg       0.97      0.93      0.95       297\n",
      "\n",
      "              precision    recall  f1-score   support\n",
      "\n",
      "         0.0       0.98      0.95      0.96       286\n",
      "         1.0       0.29      0.55      0.37        11\n",
      "\n",
      "    accuracy                           0.93       297\n",
      "   macro avg       0.63      0.75      0.67       297\n",
      "weighted avg       0.96      0.93      0.94       297\n",
      "\n",
      "              precision    recall  f1-score   support\n",
      "\n",
      "         0.0       0.99      0.96      0.98       286\n",
      "         1.0       0.42      0.80      0.55        10\n",
      "\n",
      "    accuracy                           0.96       296\n",
      "   macro avg       0.71      0.88      0.76       296\n",
      "weighted avg       0.97      0.96      0.96       296\n",
      "\n",
      ">DRM:: Average G-mean:0.788(0.091) \n",
      ">DRM:: Average Balanced_Acc: 0.804(0.078) \n",
      ">DRM:: Average Fbeta: 0.600(0.134)\n",
      ">DRM:: Average Recall: 0.669(0.154)\n",
      ">DRM:: Average Training time: 0.678(0.027)\n",
      ">DRM:: Average accuracy_score: 0.715(0.114)\n",
      ">DRM:: Average Score: 0.714(0.113)\n"
     ]
    }
   ],
   "source": [
    "result_DRM = fivetrials_DRM(X_sample_ord,y_sample_ord)\n",
    "\n",
    "G_mean=result_DRM[0]\n",
    "Bacc=result_DRM[1]\n",
    "# summarize performance\n",
    "recall=result_DRM[3]\n",
    "Fbeta=result_DRM[2]\n",
    "T=result_DRM[-1]\n",
    "acc_s=np.mean(np.array(result_DRM)[:4,:],axis=0)\n",
    "\t# summarize and store\n",
    "print('>%s: Average G-mean:%.3f(%.3f) ' % ('DRM:',np.mean(G_mean),np.std(G_mean)))\n",
    "print('>%s: Average Balanced_Acc: %.3f(%.3f) ' % ('DRM:',np.mean(Bacc),np.std(Bacc)))\n",
    "print('>%s: Average Fbeta: %.3f(%.3f)' % ('DRM:',np.mean(Fbeta),np.std(Fbeta)))\n",
    "print('>%s: Average Recall: %.3f(%.3f)' % ('DRM:',np.mean(recall),np.std(recall)))    \n",
    "print('>%s: Average Training time: %.3f(%.3f)' % ('DRM:',np.mean(T),np.std(T)))\n",
    "print('>%s: Average accuracy_score: %.3f(%.3f)' % ('DRM:',np.mean(acc_s),np.std(acc_s)))\n",
    "print('>%s: Average Score: %.3f(%.3f)' % ('DRM:',np.mean(0.99*acc_s+0.01/(np.array(result)[-1,:]/10*9+1)),np.std(0.99*acc_s+0.01/(np.array(result)[-1,:]/10*9+1))))\n",
    "          "
   ]
  },
  {
   "cell_type": "code",
   "execution_count": null,
   "metadata": {},
   "outputs": [],
   "source": []
  },
  {
   "cell_type": "code",
   "execution_count": null,
   "metadata": {},
   "outputs": [],
   "source": []
  },
  {
   "cell_type": "markdown",
   "metadata": {},
   "source": [
    "# SOTA methods"
   ]
  },
  {
   "cell_type": "code",
   "execution_count": 17,
   "metadata": {},
   "outputs": [],
   "source": [
    "from sklearn import tree\n",
    "def get_models():\n",
    "\tmodels, names = list(), list()\n",
    "\t# LR\n",
    "\tmodels.append(LogisticRegression())\n",
    "\tnames.append('LR')\n",
    "\t# SVM\n",
    "\tmodels.append(SVC(probability=True))\n",
    "\tnames.append('SVM')\n",
    "\t# Bagging\n",
    "\tmodels.append(BaggingClassifier(n_estimators=1000))\n",
    "\tnames.append('BAG')\n",
    "\tmodels.append(AdaBoostClassifier(random_state=0))\n",
    "\tnames.append('Adaboost')\n",
    "\t# RF\n",
    "\tmodels.append(\n",
    "\ttree.DecisionTreeClassifier(max_leaf_nodes=6,\n",
    "                               random_state=0))\n",
    "\tnames.append('CART')\n",
    "\tmodels.append(RandomForestClassifier(criterion='entropy',n_estimators=6))\n",
    "\tnames.append('RF')\n",
    "\t# GBM\n",
    "\tmodels.append(MLPClassifier(random_state=0, max_iter=200,hidden_layer_sizes=(50,)))\n",
    "    \n",
    "\tnames.append('MLP')\n",
    "# \tmodels.append(solution_XX())\n",
    "# \tnames.append('max-mean loss')\n",
    "\treturn models, names"
   ]
  },
  {
   "cell_type": "code",
   "execution_count": 18,
   "metadata": {},
   "outputs": [],
   "source": [
    "def evaluate_model(X,y,model):\n",
    "#     steps = [('p', PowerTransformer()), ('m',model)]\n",
    "    \n",
    "#     pipeline = Pipeline(steps=steps)\n",
    "    pipeline = model\n",
    "    import time\n",
    "    start=time.time()\n",
    "    pipeline.fit(X,y)\n",
    "    end=time.time()\n",
    "    prdict_y=pipeline.predict(x_te)\n",
    "    prob_y=pipeline.predict_proba(x_te)\n",
    "    rec=recall_score(y_te,prdict_y)\n",
    "    G_m=np.sqrt(recall_score(y_te,prdict_y)*recall_score(y_te,prdict_y,pos_label=0))\n",
    "    pre=precision_score(y_te,prdict_y)\n",
    "#     auc.append(roc_auc_score(y[test_index],prob_y[:,-1]))\n",
    "    bacc=balanced_accuracy_score(y_te,prdict_y)\n",
    "    fbeta=fbeta_score(y_te,prdict_y,beta=4)\n",
    "#     print('Balanced-Accuracy on testing set：{:.2%}'.format(balanced_accuracy_score(y_te,y_L)))\n",
    "#     print('Recall on testing set：{:.2%}'.format(recall_score(y_te,y_L)))\n",
    "#     print('F-measure on testing set：{:.2%}'.format(fbeta_score(y_te,y_L,beta=3.66)))\n",
    "#     print('Score :{:.3}'.format(np.mean([recall,bacc,fbeta])*0.99+0.01/(end_d-start_d)))\n",
    "\n",
    "\n",
    "\n",
    "    return G_m,bacc,fbeta,rec,pre,end-start"
   ]
  },
  {
   "cell_type": "code",
   "execution_count": 19,
   "metadata": {},
   "outputs": [],
   "source": [
    "import time\n",
    "def fivetrials(X,y,model,sample='none'):\n",
    "    pipeline = model\n",
    "    \n",
    "    G_m,bacc,fbeta,rec,pre,T=list(),list(),list(),list(),list(),list()\n",
    "    if sample!='none':\n",
    "#     steps = [('p', PowerTransformer()), ('m',model)]\n",
    "        for train_index,test_index in cv.split(X, y):\n",
    "        \n",
    "            start=time.time()\n",
    "            resample_x,resample_y=sample.fit_resample(X[train_index],y[train_index])\n",
    "            \n",
    "            pipeline.fit(resample_x,resample_y)\n",
    "            end=time.time()\n",
    "            prdict_y=pipeline.predict(X[test_index])\n",
    "            prob_y=pipeline.predict_proba(X[test_index])\n",
    "            rec.append(recall_score(y[test_index],prdict_y))\n",
    "            G_m.append(np.sqrt(recall_score(y[test_index],prdict_y)*recall_score(y[test_index],prdict_y,pos_label=0)))\n",
    "            pre.append(precision_score(y[test_index],prdict_y))\n",
    "        #     auc.append(roc_auc_score(y[test_index],prob_y[:,-1]))\n",
    "            bacc.append(balanced_accuracy_score(y[test_index],prdict_y))\n",
    "            fbeta.append(fbeta_score(y[test_index],prdict_y,beta=2))\n",
    "            T.append(end-start)\n",
    "#     pipeline = Pipeline(steps=steps)\n",
    "    else:\n",
    "        for train_index,test_index in cv.split(X, y):\n",
    "    \n",
    "            start=time.time()\n",
    "            pipeline.fit(X[train_index],y[train_index])\n",
    "            end=time.time()\n",
    "            prdict_y=pipeline.predict(X[test_index])\n",
    "            prob_y=pipeline.predict_proba(X[test_index])\n",
    "            rec.append(recall_score(y[test_index],prdict_y))\n",
    "            G_m.append(np.sqrt(recall_score(y[test_index],prdict_y)*recall_score(y[test_index],prdict_y,pos_label=0)))\n",
    "            pre.append(precision_score(y[test_index],prdict_y))\n",
    "        #     auc.append(roc_auc_score(y[test_index],prob_y[:,-1]))\n",
    "            bacc.append(balanced_accuracy_score(y[test_index],prdict_y))\n",
    "            fbeta.append(fbeta_score(y[test_index],prdict_y,beta=max(2,np.log(y_sample.shape[0]/sum(y_sample)-1))))\n",
    "            T.append(end-start)\n",
    "#     print('Balanced-Accuracy on testing set：{:.2%}'.format(balanced_accuracy_score(y_te,y_L)))\n",
    "#     print('Recall on testing set：{:.2%}'.format(recall_score(y_te,y_L)))\n",
    "#     print('F-measure on testing set：{:.2%}'.format(fbeta_score(y_te,y_L,beta=3.66)))\n",
    "#     print('Score :{:.3}'.format(np.mean([recall,bacc,fbeta])*0.99+0.01/(end_d-start_d)))\n",
    "\n",
    "\n",
    "\n",
    "    return G_m,bacc,fbeta,rec,pre,T\n",
    "# print('>%s: Mean Balanced_Acc: %.3f (%.3f)' % (names[-1],mean(Bacc),std(Bacc)))"
   ]
  },
  {
   "cell_type": "code",
   "execution_count": 20,
   "metadata": {},
   "outputs": [],
   "source": [
    "from imblearn.over_sampling import SMOTE\n",
    "from imblearn.under_sampling import RandomUnderSampler\n",
    "X_resampled,y_resampled=RandomUnderSampler().fit_resample(x_tr,y_tr)\n",
    "X_resampled_smote,y_resampled_smote  = SMOTE().fit_resample(x_tr, y_tr)"
   ]
  },
  {
   "cell_type": "code",
   "execution_count": 166,
   "metadata": {},
   "outputs": [
    {
     "name": "stdout",
     "output_type": "stream",
     "text": [
      ">LR: Average G-mean:0.000(0.000) \n",
      ">LR: Average Balanced_Acc: 0.500(0.000) \n",
      ">LR: Average Fbeta: 0.000(0.000)\n",
      ">LR: Average Recall: 0.000(0.000)\n",
      ">LR: Average Training time: 0.015(0.007)\n",
      ">LR: Average accuracy_score: 0.125(0.000)\n",
      ">LR: Average Score: 0.134(0.000)\n",
      ">SVM: Average G-mean:0.000(0.000) \n",
      ">SVM: Average Balanced_Acc: 0.500(0.000) \n",
      ">SVM: Average Fbeta: 0.000(0.000)\n",
      ">SVM: Average Recall: 0.000(0.000)\n",
      ">SVM: Average Training time: 0.055(0.010)\n",
      ">SVM: Average accuracy_score: 0.125(0.000)\n",
      ">SVM: Average Score: 0.133(0.000)\n",
      ">BAG: Average G-mean:0.521(0.039) \n",
      ">BAG: Average Balanced_Acc: 0.633(0.020) \n",
      ">BAG: Average Fbeta: 0.287(0.040)\n",
      ">BAG: Average Recall: 0.275(0.039)\n",
      ">BAG: Average Training time: 2.060(0.058)\n",
      ">BAG: Average accuracy_score: 0.429(0.034)\n",
      ">BAG: Average Score: 0.428(0.034)\n",
      ">Adaboost: Average G-mean:0.464(0.127) \n",
      ">Adaboost: Average Balanced_Acc: 0.610(0.059) \n",
      ">Adaboost: Average Fbeta: 0.240(0.119)\n",
      ">Adaboost: Average Recall: 0.235(0.118)\n",
      ">Adaboost: Average Training time: 0.081(0.006)\n",
      ">Adaboost: Average accuracy_score: 0.387(0.106)\n",
      ">Adaboost: Average Score: 0.393(0.105)\n",
      ">CART: Average G-mean:0.528(0.129) \n",
      ">CART: Average Balanced_Acc: 0.645(0.063) \n",
      ">CART: Average Fbeta: 0.308(0.129)\n",
      ">CART: Average Recall: 0.298(0.129)\n",
      ">CART: Average Training time: 0.002(0.000)\n",
      ">CART: Average accuracy_score: 0.445(0.112)\n",
      ">CART: Average Score: 0.450(0.111)\n",
      ">RF: Average G-mean:0.302(0.163) \n",
      ">RF: Average Balanced_Acc: 0.556(0.038) \n",
      ">RF: Average Fbeta: 0.125(0.080)\n",
      ">RF: Average Recall: 0.118(0.075)\n",
      ">RF: Average Training time: 0.009(0.001)\n",
      ">RF: Average accuracy_score: 0.275(0.088)\n",
      ">RF: Average Score: 0.283(0.087)\n",
      ">MLP: Average G-mean:0.000(0.000) \n",
      ">MLP: Average Balanced_Acc: 0.500(0.000) \n",
      ">MLP: Average Fbeta: 0.000(0.000)\n",
      ">MLP: Average Recall: 0.000(0.000)\n",
      ">MLP: Average Training time: 0.550(0.012)\n",
      ">MLP: Average accuracy_score: 0.125(0.000)\n",
      ">MLP: Average Score: 0.130(0.000)\n"
     ]
    }
   ],
   "source": [
    "models, names = get_models()\n",
    "# from sklearn.neural_network import MLPClassifier\n",
    "# evaluate each model\n",
    "for i in range(len(models)):\n",
    "\t# evaluate the model and store results\n",
    "\tresult = fivetrials(X_sample,y_sample,models[i])\n",
    "\n",
    "\tG_mean=result[0]\n",
    "\tBacc=result[1]\n",
    "# summarize performance\n",
    "\trecall=result[3]\n",
    "\tFbeta=result[2]\n",
    "\tT=result[-1]\n",
    "\tacc_s=np.mean(np.array(result)[:4,:],axis=0)\n",
    "\t# summarize and store\n",
    "\tprint('>%s: Average G-mean:%.3f(%.3f) ' % (names[i],np.mean(G_mean),np.std(G_mean)))\n",
    "\tprint('>%s: Average Balanced_Acc: %.3f(%.3f) ' % (names[i],np.mean(Bacc),np.std(Bacc)))\n",
    "\tprint('>%s: Average Fbeta: %.3f(%.3f)' % (names[i],np.mean(Fbeta),np.std(Fbeta)))\n",
    "\tprint('>%s: Average Recall: %.3f(%.3f)' % (names[i],np.mean(recall),np.std(recall)))    \n",
    "\tprint('>%s: Average Training time: %.3f(%.3f)' % (names[i],np.mean(T),np.std(T)))\n",
    "\tprint('>%s: Average accuracy_score: %.3f(%.3f)' % (names[i],np.mean(acc_s),np.std(acc_s)))\n",
    "\tprint('>%s: Average Score: %.3f(%.3f)' % (names[i],np.mean(0.99*acc_s+0.01/(np.array(result)[-1,:]/10*9+1)),np.std(0.99*acc_s+0.01/(np.array(result)[-1,:]/10*9+1))))\n",
    "          "
   ]
  },
  {
   "cell_type": "code",
   "execution_count": 21,
   "metadata": {
    "scrolled": false
   },
   "outputs": [
    {
     "name": "stdout",
     "output_type": "stream",
     "text": [
      ">SMOTELR: Average G-mean:0.793(0.055) \n",
      ">SMOTELR: Average Balanced_Acc: 0.799(0.051) \n",
      ">SMOTELR: Average Fbeta: 0.433(0.048)\n",
      ">SMOTELR: Average Recall: 0.727(0.110)\n",
      ">SMOTELR: Average Training time: 0.017(0.001)\n",
      ">SMOTELR: Average accuracy_score: 0.688(0.065)\n",
      ">SMOTELR: Average Score: 0.691(0.064)\n",
      ">SMOTESVM: Average G-mean:0.789(0.066) \n",
      ">SMOTESVM: Average Balanced_Acc: 0.798(0.058) \n",
      ">SMOTESVM: Average Fbeta: 0.447(0.057)\n",
      ">SMOTESVM: Average Recall: 0.709(0.129)\n",
      ">SMOTESVM: Average Training time: 0.449(0.017)\n",
      ">SMOTESVM: Average accuracy_score: 0.686(0.076)\n",
      ">SMOTESVM: Average Score: 0.686(0.075)\n",
      ">SMOTEBAG: Average G-mean:0.676(0.111) \n",
      ">SMOTEBAG: Average Balanced_Acc: 0.725(0.083) \n",
      ">SMOTEBAG: Average Fbeta: 0.428(0.126)\n",
      ">SMOTEBAG: Average Recall: 0.491(0.168)\n",
      ">SMOTEBAG: Average Training time: 5.498(0.135)\n",
      ">SMOTEBAG: Average accuracy_score: 0.580(0.122)\n",
      ">SMOTEBAG: Average Score: 0.576(0.121)\n",
      ">SMOTEAdaboost: Average G-mean:0.720(0.100) \n",
      ">SMOTEAdaboost: Average Balanced_Acc: 0.749(0.078) \n",
      ">SMOTEAdaboost: Average Fbeta: 0.430(0.102)\n",
      ">SMOTEAdaboost: Average Recall: 0.569(0.160)\n",
      ">SMOTEAdaboost: Average Training time: 0.140(0.016)\n",
      ">SMOTEAdaboost: Average accuracy_score: 0.617(0.110)\n",
      ">SMOTEAdaboost: Average Score: 0.620(0.109)\n",
      ">SMOTECART: Average G-mean:0.790(0.094) \n",
      ">SMOTECART: Average Balanced_Acc: 0.799(0.087) \n",
      ">SMOTECART: Average Fbeta: 0.414(0.080)\n",
      ">SMOTECART: Average Recall: 0.745(0.185)\n",
      ">SMOTECART: Average Training time: 0.005(0.000)\n",
      ">SMOTECART: Average accuracy_score: 0.687(0.111)\n",
      ">SMOTECART: Average Score: 0.690(0.110)\n",
      ">SMOTERF: Average G-mean:0.617(0.149) \n",
      ">SMOTERF: Average Balanced_Acc: 0.694(0.097) \n",
      ">SMOTERF: Average Fbeta: 0.392(0.167)\n",
      ">SMOTERF: Average Recall: 0.415(0.198)\n",
      ">SMOTERF: Average Training time: 0.020(0.001)\n",
      ">SMOTERF: Average accuracy_score: 0.529(0.153)\n",
      ">SMOTERF: Average Score: 0.534(0.151)\n",
      ">SMOTEMLP: Average G-mean:0.779(0.075) \n",
      ">SMOTEMLP: Average Balanced_Acc: 0.787(0.067) \n",
      ">SMOTEMLP: Average Fbeta: 0.418(0.069)\n",
      ">SMOTEMLP: Average Recall: 0.707(0.137)\n",
      ">SMOTEMLP: Average Training time: 1.339(0.058)\n",
      ">SMOTEMLP: Average accuracy_score: 0.673(0.086)\n",
      ">SMOTEMLP: Average Score: 0.671(0.085)\n"
     ]
    }
   ],
   "source": [
    "models, names = get_models()\n",
    "# from sklearn.neural_network import MLPClassifier\n",
    "# evaluate each model\n",
    "for i in range(len(models)):\n",
    "\t# evaluate the model and store results\n",
    "\tresult = fivetrials(X_sample,y_sample,models[i],sample=SMOTE(random_state=42))\n",
    "\n",
    "\tG_mean=result[0]\n",
    "\tBacc=result[1]\n",
    "# summarize performance\n",
    "\trecall=result[3]\n",
    "\tFbeta=result[2]\n",
    "\tT=result[-1]\n",
    "\tacc_s=np.mean(np.array(result)[:4,:],axis=0)\n",
    "\t# summarize and store\n",
    "\tprint('>%s: Average G-mean:%.3f(%.3f) ' % ('SMOTE'+names[i],np.mean(G_mean),np.std(G_mean)))\n",
    "\tprint('>%s: Average Balanced_Acc: %.3f(%.3f) ' % ('SMOTE'+names[i],np.mean(Bacc),np.std(Bacc)))\n",
    "\tprint('>%s: Average Fbeta: %.3f(%.3f)' % ('SMOTE'+names[i],np.mean(Fbeta),np.std(Fbeta)))\n",
    "\tprint('>%s: Average Recall: %.3f(%.3f)' % ('SMOTE'+names[i],np.mean(recall),np.std(recall)))    \n",
    "\tprint('>%s: Average Training time: %.3f(%.3f)' % ('SMOTE'+names[i],np.mean(T),np.std(T)))\n",
    "\tprint('>%s: Average accuracy_score: %.3f(%.3f)' % ('SMOTE'+names[i],np.mean(acc_s),np.std(acc_s)))\n",
    "\tprint('>%s: Average Score: %.3f(%.3f)' % ('SMOTE'+names[i],np.mean(0.99*acc_s+0.01/(np.array(result)[-1,:]/10*9+1)),np.std(0.99*acc_s+0.01/(np.array(result)[-1,:]/10*9+1))))\n",
    "          "
   ]
  },
  {
   "cell_type": "code",
   "execution_count": 167,
   "metadata": {},
   "outputs": [
    {
     "name": "stdout",
     "output_type": "stream",
     "text": [
      ">RUSLR: Average G-mean:0.810(0.065) \n",
      ">RUSLR: Average Balanced_Acc: 0.814(0.063) \n",
      ">RUSLR: Average Fbeta: 0.426(0.057)\n",
      ">RUSLR: Average Recall: 0.784(0.133)\n",
      ">RUSLR: Average Training time: 0.007(0.002)\n",
      ">RUSLR: Average accuracy_score: 0.708(0.079)\n",
      ">RUSLR: Average Score: 0.711(0.078)\n",
      ">RUSSVM: Average G-mean:0.830(0.067) \n",
      ">RUSSVM: Average Balanced_Acc: 0.833(0.065) \n",
      ">RUSSVM: Average Fbeta: 0.445(0.062)\n",
      ">RUSSVM: Average Recall: 0.824(0.132)\n",
      ">RUSSVM: Average Training time: 0.004(0.001)\n",
      ">RUSSVM: Average accuracy_score: 0.733(0.081)\n",
      ">RUSSVM: Average Score: 0.736(0.081)\n",
      ">RUSBAG: Average G-mean:0.811(0.034) \n",
      ">RUSBAG: Average Balanced_Acc: 0.813(0.034) \n",
      ">RUSBAG: Average Fbeta: 0.416(0.056)\n",
      ">RUSBAG: Average Recall: 0.804(0.064)\n",
      ">RUSBAG: Average Training time: 1.283(0.020)\n",
      ">RUSBAG: Average accuracy_score: 0.711(0.040)\n",
      ">RUSBAG: Average Score: 0.708(0.039)\n",
      ">RUSAdaboost: Average G-mean:0.759(0.073) \n",
      ">RUSAdaboost: Average Balanced_Acc: 0.761(0.072) \n",
      ">RUSAdaboost: Average Fbeta: 0.344(0.079)\n",
      ">RUSAdaboost: Average Recall: 0.747(0.112)\n",
      ">RUSAdaboost: Average Training time: 0.059(0.005)\n",
      ">RUSAdaboost: Average accuracy_score: 0.653(0.082)\n",
      ">RUSAdaboost: Average Score: 0.656(0.082)\n",
      ">RUSCART: Average G-mean:0.795(0.059) \n",
      ">RUSCART: Average Balanced_Acc: 0.801(0.058) \n",
      ">RUSCART: Average Fbeta: 0.365(0.054)\n",
      ">RUSCART: Average Recall: 0.844(0.135)\n",
      ">RUSCART: Average Training time: 0.002(0.000)\n",
      ">RUSCART: Average accuracy_score: 0.701(0.072)\n",
      ">RUSCART: Average Score: 0.704(0.071)\n",
      ">RUSRF: Average G-mean:0.763(0.035) \n",
      ">RUSRF: Average Balanced_Acc: 0.771(0.030) \n",
      ">RUSRF: Average Fbeta: 0.395(0.035)\n",
      ">RUSRF: Average Recall: 0.687(0.093)\n",
      ">RUSRF: Average Training time: 0.008(0.000)\n",
      ">RUSRF: Average accuracy_score: 0.654(0.040)\n",
      ">RUSRF: Average Score: 0.657(0.040)\n",
      ">RUSMLP: Average G-mean:0.811(0.071) \n",
      ">RUSMLP: Average Balanced_Acc: 0.814(0.070) \n",
      ">RUSMLP: Average Fbeta: 0.411(0.065)\n",
      ">RUSMLP: Average Recall: 0.805(0.138)\n",
      ">RUSMLP: Average Training time: 0.094(0.005)\n",
      ">RUSMLP: Average accuracy_score: 0.710(0.085)\n",
      ">RUSMLP: Average Score: 0.712(0.084)\n"
     ]
    }
   ],
   "source": [
    "models, names = get_models()\n",
    "# from sklearn.neural_network import MLPClassifier\n",
    "# evaluate each model\n",
    "for i in range(len(models)):\n",
    "\t# evaluate the model and store results\n",
    "\tresult = fivetrials(X_sample,y_sample,models[i],sample=RandomUnderSampler(random_state=42))\n",
    "\n",
    "\tG_mean=result[0]\n",
    "\tBacc=result[1]\n",
    "# summarize performance\n",
    "\trecall=result[3]\n",
    "\tFbeta=result[2]\n",
    "\tT=result[-1]\n",
    "\tacc_s=np.mean(np.array(result)[:4,:],axis=0)\n",
    "\t# summarize and store\n",
    "\tprint('>%s: Average G-mean:%.3f(%.3f) ' % ('RUS'+names[i],np.mean(G_mean),np.std(G_mean)))\n",
    "\tprint('>%s: Average Balanced_Acc: %.3f(%.3f) ' % ('RUS'+names[i],np.mean(Bacc),np.std(Bacc)))\n",
    "\tprint('>%s: Average Fbeta: %.3f(%.3f)' % ('RUS'+names[i],np.mean(Fbeta),np.std(Fbeta)))\n",
    "\tprint('>%s: Average Recall: %.3f(%.3f)' % ('RUS'+names[i],np.mean(recall),np.std(recall)))    \n",
    "\tprint('>%s: Average Training time: %.3f(%.3f)' % ('RUS'+names[i],np.mean(T),np.std(T)))\n",
    "\tprint('>%s: Average accuracy_score: %.3f(%.3f)' % ('RUS'+names[i],np.mean(acc_s),np.std(acc_s)))\n",
    "\tprint('>%s: Average Score: %.3f(%.3f)' % ('RUS'+names[i],np.mean(0.99*acc_s+0.01/(np.array(result)[-1,:]/10*9+1)),np.std(0.99*acc_s+0.01/(np.array(result)[-1,:]/10*9+1))))\n",
    "          \n"
   ]
  },
  {
   "cell_type": "code",
   "execution_count": 261,
   "metadata": {},
   "outputs": [
    {
     "data": {
      "text/plain": [
       "75.2"
      ]
     },
     "execution_count": 261,
     "metadata": {},
     "output_type": "execute_result"
    }
   ],
   "source": [
    "y_sample.shape[0]/10"
   ]
  },
  {
   "cell_type": "markdown",
   "metadata": {},
   "source": [
    "# Max-mean loss method"
   ]
  },
  {
   "cell_type": "code",
   "execution_count": 64,
   "metadata": {},
   "outputs": [
    {
     "data": {
      "text/plain": [
       "(30,)"
      ]
     },
     "execution_count": 64,
     "metadata": {},
     "output_type": "execute_result"
    }
   ],
   "source": [
    "pre_YY.shape"
   ]
  },
  {
   "cell_type": "code",
   "execution_count": 168,
   "metadata": {},
   "outputs": [],
   "source": [
    "class solution_XX:\n",
    "    \n",
    "    \n",
    "    def __init__(self,penalty = None,Lambda = 0.03,a = 0.5,epochs = 200):\n",
    "        self.W = None\n",
    "        self.penalty = penalty\n",
    "        self.Lambda = Lambda\n",
    "        self.a = a\n",
    "        self.epochs =epochs\n",
    "        self.sigmoid = lambda x:1/(1 + np.exp(-x))\n",
    "        \n",
    "#     err=(y_tr-s.sigmoid(np.dot(X_train,w)))**2\n",
    "#     err[index]=2.6*err[index]\n",
    "\n",
    "    def f_XX(self,X,Y):\n",
    "        if self.penalty=='l1':f=np.array([np.mean((self.sigmoid(np.dot(x,self.W))-y)**2 )+self.Lambda*np.sum(np.abs(self.W)) for x,y in zip(X,Y)])\n",
    "        elif self.penalty=='l2':f=np.array([np.mean((self.sigmoid(np.dot(x,self.W))-y)**2 )+self.Lambda*np.sum(self.W**2) for x,y in zip(X,Y)])#pre_Xtrain,pre_Ytrain\n",
    "        else:f=np.array([np.mean((self.sigmoid(np.dot(x,self.W))-y)**2 ) for x,y in zip(X,Y)])\n",
    "\n",
    "        return f         \n",
    "    def Gf_XX(self,X,Y):#To compute the Derivative matrix, the shape of which is N*2\n",
    "        if self.penalty=='l1':d=np.array([x.T.dot(0.02*(self.sigmoid(np.dot(x,self.W))-y)*self.sigmoid(np.dot(x,self.W))*(1-self.sigmoid(np.dot(x,self.W))))+self.Lambda*np.sign(self.W )for x,y in zip(X,Y)])\n",
    "        elif self.penalty=='l2':\n",
    "            d=np.array([x.T.dot(0.02*(self.sigmoid(np.dot(x,self.W))-y)*self.sigmoid(np.dot(x,self.W))*(1-self.sigmoid(np.dot(x,self.W))))+2*self.Lambda*self.W for x,y in zip(X,Y)])\n",
    "#     return d.reshape(20,12289)\n",
    "        else:d=np.array([x.T.dot(0.02*(self.sigmoid(np.dot(x,self.W))-y)*self.sigmoid(np.dot(x,self.W))*(1-self.sigmoid(np.dot(x,self.W)))) for x,y in zip(X,Y)])\n",
    "        return d\n",
    "    def direction_XX(self,X,Y):\n",
    "        gra=self.Gf_XX(X,Y)\n",
    "        p=matrix(gra.dot(gra.T),tc='d')\n",
    "        q=matrix(-self.f_XX(X,Y),tc='d')\n",
    "        G=matrix(np.diag(np.array([-1]*(Y.shape[0]))),tc='d')#N=20\n",
    "        h=matrix(np.array([[0]]*(Y.shape[0])),tc='d')\n",
    "        A=matrix([[1.0]]*(Y.shape[0]))\n",
    "        b=matrix([1.0])\n",
    "        solvers.options['show_progress'] = False\n",
    "        sol = solvers.qp(p,q,G,h,A,b)\n",
    "        t=np.array(sol['x'])\n",
    "        d= -(gra.T.dot(t))\n",
    "        return d.reshape((X_train.shape[-1],))\n",
    "\n",
    "    def fit(self,X,Y):\n",
    "        \n",
    "        call=[]\n",
    "        pre=[]\n",
    "        loss=[]\n",
    "        testloss=[]\n",
    "        np.random.seed(1324)\n",
    "        self.W=np.random.random((X_train.shape[-1],))*2-1\n",
    "#         self.W=w_2\n",
    "        n=y_te[y_te==1.].shape[0]\n",
    "        for k in range(200):\n",
    "    #     while np.linalg.norm(d)//10**(-8) >= 10:\n",
    "            d=self.direction_XX(X,Y)\n",
    "#             print(np.linalg.norm(d))\n",
    "            if np.linalg.norm(d)//10**(-7) < 25:\n",
    "                break\n",
    "            sigma=0.8\n",
    "            f_1=np.max(self.f_XX(X,Y))\n",
    "            w=self.W\n",
    "            self.W=d*sigma+w\n",
    "            while np.max(self.f_XX(X,Y))>np.max(f_1):\n",
    "                sigma=sigma*0.8\n",
    "                self.W=d*sigma+w\n",
    "            self.W=d*sigma+w\n",
    "\n",
    "            \n",
    "    #         output=output.reshape(4000,)\n",
    "    #         pt=max(output[output==1.].shape[0],1)\n",
    "    #         m=0\n",
    "    #         for j in range(4000):\n",
    "    #             if output[j]==test_label[j]==1:\n",
    "    #                 m+=1\n",
    "\n",
    "\n",
    "    # # b1=np.random.random((1,10))*2-1\n",
    "\n",
    "\n",
    "            \n",
    "    #         call.append(m/n)\n",
    "    #         pre.append(m/pt)\n",
    "    #         loss.append(max(f_X(w)))\n",
    "    #         testloss.append(ff_X(w))\n",
    "        return self.W"
   ]
  },
  {
   "cell_type": "code",
   "execution_count": 70,
   "metadata": {},
   "outputs": [
    {
     "data": {
      "text/plain": [
       "(1279, 12)"
      ]
     },
     "execution_count": 70,
     "metadata": {},
     "output_type": "execute_result"
    }
   ],
   "source": [
    "X_train.shape"
   ]
  },
  {
   "cell_type": "code",
   "execution_count": 169,
   "metadata": {},
   "outputs": [],
   "source": [
    "def fivetrials_XX(X,y,model=solution_XX()):\n",
    "    pipeline = model\n",
    "    \n",
    "    G_m,bacc,fbeta,rec,pre,T=list(),list(),list(),list(),list(),list()\n",
    "    \n",
    "#     steps = [('p', PowerTransformer()), ('m',model)]\n",
    "    for train_index,test_index in cv.split(X, y):\n",
    "        \n",
    "        start=time.time()\n",
    "#         n=y[train_index][y[train_index]==1].shape[0]\n",
    "#         XX=np.concatenate((X[train_index][y[train_index]==0],X[train_index][y[train_index]==1]))\n",
    "#         YY=np.concatenate((np.array([0]*(X[train_index].shape[0]-n)),np.array([1]*n)))\n",
    "#         m=int((X[train_index].shape[0]-n)/3)\n",
    "#         indice=[k*m for k in range(1,3)]\n",
    "#         indice.append(X[train_index].shape[0]-n)\n",
    "\n",
    "#         pre_X=np.array(np.split(XX,indice))\n",
    "#         pre_Y=np.array(np.split(YY,indice))\n",
    "        pre_X,pre_Y=split(X[train_index],y[train_index])\n",
    "#         print(pre_Y.shape)\n",
    "\n",
    "        w_x=pipeline.fit(pre_X,pre_Y)\n",
    "        end=time.time()\n",
    "        prdict_y=pipeline.sigmoid(X[test_index].dot(w_x))\n",
    "        prdict_y[prdict_y>=0.5]=1\n",
    "        prdict_y[prdict_y<0.5]=0\n",
    "\n",
    "        print(classification_report(y[test_index],prdict_y))\n",
    "        \n",
    "        rec.append(recall_score(y[test_index],prdict_y))\n",
    "        G_m.append(np.sqrt(recall_score(y[test_index],prdict_y)*recall_score(y[test_index],prdict_y,pos_label=0)))\n",
    "        pre.append(precision_score(y[test_index],prdict_y))\n",
    "    #     auc.append(roc_auc_score(y[test_index],prob_y[:,-1]))\n",
    "        bacc.append(balanced_accuracy_score(y[test_index],prdict_y))\n",
    "        fbeta.append(fbeta_score(y[test_index],prdict_y,beta=2))\n",
    "        T.append(end-start)\n",
    "#     pipeline = Pipeline(steps=steps)\n",
    "   \n",
    "#     print('Balanced-Accuracy on testing set：{:.2%}'.format(balanced_accuracy_score(y_te,y_L)))\n",
    "#     print('Recall on testing set：{:.2%}'.format(recall_score(y_te,y_L)))\n",
    "#     print('F-measure on testing set：{:.2%}'.format(fbeta_score(y_te,y_L,beta=3.66)))\n",
    "#     print('Score :{:.3}'.format(np.mean([recall,bacc,fbeta])*0.99+0.01/(end_d-start_d)))\n",
    "\n",
    "\n",
    "\n",
    "    return G_m,bacc,fbeta,rec,pre,T"
   ]
  },
  {
   "cell_type": "code",
   "execution_count": 71,
   "metadata": {},
   "outputs": [
    {
     "data": {
      "text/plain": [
       "(1599, 12)"
      ]
     },
     "execution_count": 71,
     "metadata": {},
     "output_type": "execute_result"
    }
   ],
   "source": [
    "X_sample_XX.shape"
   ]
  },
  {
   "cell_type": "code",
   "execution_count": 170,
   "metadata": {},
   "outputs": [
    {
     "name": "stdout",
     "output_type": "stream",
     "text": [
      "              precision    recall  f1-score   support\n",
      "\n",
      "         0.0       0.98      0.90      0.94       287\n",
      "         1.0       0.17      0.60      0.26        10\n",
      "\n",
      "    accuracy                           0.89       297\n",
      "   macro avg       0.58      0.75      0.60       297\n",
      "weighted avg       0.96      0.89      0.92       297\n",
      "\n",
      "              precision    recall  f1-score   support\n",
      "\n",
      "         0.0       0.98      0.86      0.92       287\n",
      "         1.0       0.13      0.60      0.21        10\n",
      "\n",
      "    accuracy                           0.85       297\n",
      "   macro avg       0.56      0.73      0.57       297\n",
      "weighted avg       0.96      0.85      0.89       297\n",
      "\n",
      "              precision    recall  f1-score   support\n",
      "\n",
      "         0.0       1.00      0.85      0.92       287\n",
      "         1.0       0.17      0.90      0.29        10\n",
      "\n",
      "    accuracy                           0.85       297\n",
      "   macro avg       0.58      0.87      0.60       297\n",
      "weighted avg       0.97      0.85      0.89       297\n",
      "\n",
      "              precision    recall  f1-score   support\n",
      "\n",
      "         0.0       1.00      0.88      0.93       286\n",
      "         1.0       0.24      1.00      0.39        11\n",
      "\n",
      "    accuracy                           0.88       297\n",
      "   macro avg       0.62      0.94      0.66       297\n",
      "weighted avg       0.97      0.88      0.91       297\n",
      "\n",
      "              precision    recall  f1-score   support\n",
      "\n",
      "         0.0       0.99      0.87      0.93       286\n",
      "         1.0       0.17      0.80      0.29        10\n",
      "\n",
      "    accuracy                           0.86       296\n",
      "   macro avg       0.58      0.83      0.61       296\n",
      "weighted avg       0.96      0.86      0.90       296\n",
      "\n",
      ">max_mean loss:: Average G-mean:0.819(0.083) \n",
      ">max_mean loss:: Average Balanced_Acc: 0.825(0.078) \n",
      ">max_mean loss:: Average Fbeta: 0.461(0.089)\n",
      ">max_mean loss:: Average Recall: 0.780(0.160)\n",
      ">max_mean loss:: Average Training time: 0.737(0.054)\n",
      ">max_mean loss:: Average accuracy_score: 0.721(0.102)\n",
      ">max_mean loss:: Average Score: 0.723(0.101)\n"
     ]
    }
   ],
   "source": [
    "result_XX = fivetrials_XX(X_sample_XX,y_sample)\n",
    "\n",
    "G_mean=result_XX[0]\n",
    "Bacc=result_XX[1]\n",
    "# summarize performance\n",
    "recall=result_XX[3]\n",
    "Fbeta=result_XX[2]\n",
    "T=result_XX[-1]\n",
    "acc_s=np.mean(np.array(result_XX)[:4,:],axis=0)\n",
    "\t# summarize and store\n",
    "print('>%s: Average G-mean:%.3f(%.3f) ' % ('max_mean loss:',np.mean(G_mean),np.std(G_mean)))\n",
    "print('>%s: Average Balanced_Acc: %.3f(%.3f) ' % ('max_mean loss:',np.mean(Bacc),np.std(Bacc)))\n",
    "print('>%s: Average Fbeta: %.3f(%.3f)' % ('max_mean loss:',np.mean(Fbeta),np.std(Fbeta)))\n",
    "print('>%s: Average Recall: %.3f(%.3f)' % ('max_mean loss:',np.mean(recall),np.std(recall)))    \n",
    "print('>%s: Average Training time: %.3f(%.3f)' % ('max_mean loss:',np.mean(T),np.std(T)))\n",
    "print('>%s: Average accuracy_score: %.3f(%.3f)' % ('max_mean loss:',np.mean(acc_s),np.std(acc_s)))\n",
    "print('>%s: Average Score: %.3f(%.3f)' % ('max_mean loss:',np.mean(0.99*acc_s+0.01/(np.array(result)[-1,:]/10*9+1)),np.std(0.99*acc_s+0.01/(np.array(result)[-1,:]/10*9+1))))\n",
    "          \n"
   ]
  },
  {
   "cell_type": "markdown",
   "metadata": {},
   "source": [
    "# Mean-uncertain method"
   ]
  },
  {
   "cell_type": "code",
   "execution_count": 26,
   "metadata": {},
   "outputs": [],
   "source": [
    "import testjx\n",
    "def sigmoid_(x,u):\n",
    "    return 1.0/(1.0+np.exp(-x-u))"
   ]
  },
  {
   "cell_type": "code",
   "execution_count": 108,
   "metadata": {},
   "outputs": [
    {
     "data": {
      "text/plain": [
       "array([0.1490997])"
      ]
     },
     "execution_count": 108,
     "metadata": {},
     "output_type": "execute_result"
    }
   ],
   "source": [
    "fsolve(lambda x:equa_m(x,400,1),0.5 )"
   ]
  },
  {
   "cell_type": "code",
   "execution_count": 943,
   "metadata": {},
   "outputs": [
    {
     "name": "stdout",
     "output_type": "stream",
     "text": [
      "429.49512219429016\n"
     ]
    }
   ],
   "source": [
    "start=time.time()\n",
    "mean_sm_=np.array([fsolve(lambda x:equa_m(x,n),0.5 ) for n in range(10,600,5)])\n",
    "\n",
    "end=time.time()\n",
    "print(end-start)"
   ]
  },
  {
   "cell_type": "code",
   "execution_count": 27,
   "metadata": {},
   "outputs": [],
   "source": [
    "\n",
    "def equa_m(x,n,r):\n",
    "    pre_in=(np.dot(x_tr,model_in.coef_.T)+model_in.intercept_).reshape(x_tr.shape[0],)\n",
    "    \n",
    "    ini_err=y_tr-sigmoid_(pre_in,x)##ini_err is the predicted err of training set, based on LR\n",
    "\n",
    "    for k in range(ini_err.shape[0]):\n",
    "        if y_tr[k]==1:\n",
    "            ini_err[k]=r*ini_err[k]\n",
    "\n",
    "#     tm=testjx.testjx.meanuncertainty(ini_err.tolist(),n)\n",
    "    return testjx.testjx.meanuncertainty(ini_err.tolist(),n)[1]\n",
    "def equa_sm(x,n):\n",
    "#     ini_err=y_tr-sigmoid_(pre_in,x)\n",
    "    \n",
    "    ini_err=y_tr-sigmoid_(pre_in,x)##ini_err is the predicted err of training set, based on LR\n",
    "\n",
    "#     for k in ini_err.index:\n",
    "#         if y_tr[k]==1:\n",
    "#             ini_err[k]=1.5*ini_err[k]\n",
    "\n",
    "#     tm=testjx.testjx.meanuncertainty(ini_err.tolist(),n)\n",
    "    return testjx.testjx.meanuncertainty(ini_err.tolist(),n)[1]"
   ]
  },
  {
   "cell_type": "code",
   "execution_count": 28,
   "metadata": {},
   "outputs": [],
   "source": [
    "\n",
    "def equa_fivem(x,n,r,Mod,x_train,y_train):\n",
    "    pre_in=(np.dot(x_train,Mod.coef_.T)+Mod.intercept_).reshape(x_train.shape[0],)\n",
    "    \n",
    "    ini_err=y_train-sigmoid_(pre_in,x)##ini_err is the predicted err of training set, based on LR\n",
    "\n",
    "    for k in range(ini_err.shape[0]):\n",
    "        if y_train[k]==1:\n",
    "            ini_err[k]=r*ini_err[k]\n",
    "\n",
    "    \n",
    "    return testjx.testjx.meanuncertainty(ini_err.tolist(),n)[1]\n"
   ]
  },
  {
   "cell_type": "code",
   "execution_count": 31,
   "metadata": {},
   "outputs": [],
   "source": [
    "metrics_names=['Balanced_acc','F2_score','Recall','Precision']\n",
    "def evaluate_model_lr(X,y,m,model=LogisticRegression()):\n",
    "    \n",
    "    bacc,f2,rec,pre=list(),list(),list(),list()\n",
    "    for train_index,test_index in cv_.split(X,y):\n",
    "#                 X_resampled_smote,y_resampled_smote=SMOTE().fit_resample(X[train_index], y[train_index])\n",
    "                model.fit(X[train_index],y[train_index])\n",
    "                prob_y=sigmoid_((np.dot(X[test_index],model.coef_.T)+model.intercept_),m)\n",
    "                \n",
    "                \n",
    "                prdict_y=np.round(prob_y)\n",
    "                rec.append(recall_score(y[test_index],prdict_y))\n",
    "                pre.append(precision_score(y[test_index],prdict_y))\n",
    "                \n",
    "                bacc.append(balanced_accuracy_score(y[test_index],prdict_y))\n",
    "                f2.append(fbeta_score(y[test_index],prdict_y,beta=4))\n",
    " \n",
    "    return bacc,f2,rec,pre"
   ]
  },
  {
   "cell_type": "code",
   "execution_count": 155,
   "metadata": {},
   "outputs": [],
   "source": [
    "var_lr=np.array(pd.read_csv('/Users/lvjingzhe/Desktop/璇/modified_althogram/code/0512_lrvar_mean_yeast4.csv'))\n"
   ]
  },
  {
   "cell_type": "code",
   "execution_count": 321,
   "metadata": {},
   "outputs": [],
   "source": [
    "# mean_xh=np.array([fsolve(lambda x:equa_xh(x,n,0.5*61),0.5 ) for n in range(50,420,5)])"
   ]
  },
  {
   "cell_type": "code",
   "execution_count": 60,
   "metadata": {},
   "outputs": [],
   "source": [
    "def select(arr,n,k):##arr为1-D\n",
    "    per=[]\n",
    "    A=abs(arr-k)\n",
    "\n",
    "    for j in np.sort(A)[:n]:\n",
    "        per.append(list(A).index(j))\n",
    "    return arr[per]"
   ]
  },
  {
   "cell_type": "code",
   "execution_count": 151,
   "metadata": {},
   "outputs": [],
   "source": [
    "metrics_names=['Balanced_acc','F2_score','Recall','Precision']\n",
    "def Fivetrails_mean(k,X,y,model=LogisticRegression()):\n",
    "    \n",
    "    mean=mean_lr.reshape(-1)\n",
    "    G_m,bacc,f2,rec,pre,T=list(),list(),list(),list(),list(),list()\n",
    "    for train_index,test_index in cv.split(X,y):\n",
    "                s_1=time.time()\n",
    "#                 print(sum(y[train_index]))\n",
    "#                 X_resampled_smote,y_resampled_smote=SMOTE().fit_resample(X[train_index], y[train_index])\n",
    "                model.fit(X[train_index],y[train_index])\n",
    "                t_1=time.time()\n",
    "#                 mean_u=np.array([fsolve(lambda x:equa_fivem(x,n,0.5*(k+1),model,X[train_index],y[train_index]),0.5 ) for n in range(50,int(y[train_index].shape[0]*0.8),5)])\n",
    "                all_results = []\n",
    "                c=0\n",
    "                \n",
    "                \n",
    "                for i in mean:\n",
    "                    result=np.mean(evaluate_model_lr(X[train_index],y[train_index],i),axis=1)\n",
    "                    metric_res = {'window':10+5*c,'upper_mean': i}\n",
    "                    c+=1\n",
    "                    for name, value in zip(metrics_names, result):\n",
    "                #             print(name, ': ', value)\n",
    "                            metric_res[name] = value\n",
    "\n",
    "\n",
    "                    all_results.append(metric_res)\n",
    "                eva=pd.DataFrame(all_results)\n",
    "#                 eva.to_csv('{:}: datapre_diabetesCV_which_mu_to_set_inLRBIAS.csv'.format(k))\n",
    "                bias=eva[eva.iloc[:,-4]==eva.iloc[:,-4].max()]\n",
    "                mean=select(mean_lr.reshape(-1),5,bias['upper_mean'].mean())\n",
    "                print(\"Optimal upper_mean selected by CV: %.3f \"%(bias['upper_mean'].mean()))\n",
    "                prob_y=sigmoid_((np.dot(X[test_index],model.coef_.T)+model.intercept_).reshape(X[test_index].shape[0],),bias['upper_mean'].mean()\n",
    "                             )\n",
    "                \n",
    "                \n",
    "                \n",
    "                prdict_y=np.round(prob_y)\n",
    "                print(classification_report(y[test_index],prdict_y))\n",
    "                rec.append(recall_score(y[test_index],prdict_y))\n",
    "                pre.append(precision_score(y[test_index],prdict_y))\n",
    "                G_m.append(np.sqrt(recall_score(y[test_index],prdict_y)*recall_score(y[test_index],prdict_y,pos_label=0)))\n",
    "                bacc.append(balanced_accuracy_score(y[test_index],prdict_y))\n",
    "                f2.append(fbeta_score(y[test_index],prdict_y,beta=max(2,np.log(k))))\n",
    "                T.append(t_1-s_1)\n",
    "    return G_m,bacc,f2,rec,pre,T\n"
   ]
  },
  {
   "cell_type": "code",
   "execution_count": 152,
   "metadata": {},
   "outputs": [
    {
     "name": "stdout",
     "output_type": "stream",
     "text": [
      "Optimal upper_mean selected by CV: 3.099 \n",
      "              precision    recall  f1-score   support\n",
      "\n",
      "         0.0       0.98      0.85      0.91       287\n",
      "         1.0       0.12      0.60      0.20        10\n",
      "\n",
      "    accuracy                           0.84       297\n",
      "   macro avg       0.55      0.73      0.56       297\n",
      "weighted avg       0.95      0.84      0.89       297\n",
      "\n",
      "Optimal upper_mean selected by CV: 2.980 \n",
      "              precision    recall  f1-score   support\n",
      "\n",
      "         0.0       0.99      0.87      0.93       287\n",
      "         1.0       0.17      0.80      0.29        10\n",
      "\n",
      "    accuracy                           0.87       297\n",
      "   macro avg       0.58      0.83      0.61       297\n",
      "weighted avg       0.96      0.87      0.90       297\n",
      "\n",
      "Optimal upper_mean selected by CV: 2.918 \n",
      "              precision    recall  f1-score   support\n",
      "\n",
      "         0.0       1.00      0.86      0.93       287\n",
      "         1.0       0.20      1.00      0.34        10\n",
      "\n",
      "    accuracy                           0.87       297\n",
      "   macro avg       0.60      0.93      0.63       297\n",
      "weighted avg       0.97      0.87      0.91       297\n",
      "\n",
      "Optimal upper_mean selected by CV: 2.848 \n",
      "              precision    recall  f1-score   support\n",
      "\n",
      "         0.0       0.99      0.89      0.94       286\n",
      "         1.0       0.22      0.82      0.35        11\n",
      "\n",
      "    accuracy                           0.89       297\n",
      "   macro avg       0.61      0.85      0.64       297\n",
      "weighted avg       0.96      0.89      0.92       297\n",
      "\n",
      "Optimal upper_mean selected by CV: 2.813 \n",
      "              precision    recall  f1-score   support\n",
      "\n",
      "         0.0       0.99      0.92      0.95       286\n",
      "         1.0       0.26      0.80      0.39        10\n",
      "\n",
      "    accuracy                           0.92       296\n",
      "   macro avg       0.63      0.86      0.67       296\n",
      "weighted avg       0.97      0.92      0.94       296\n",
      "\n",
      ">LR_mean:: Average G-mean:0.837(0.070) \n",
      ">LR_mean:: Average Balanced_Acc: 0.841(0.067) \n",
      ">LR_mean:: Average Fbeta: 0.635(0.101)\n",
      ">LR_mean:: Average Recall: 0.804(0.127)\n",
      ">LR_mean:: Average accuracy_score: 0.779(0.090)\n",
      ">LR_mean:: Average Training time: 0.008(0.002)\n",
      ">LR_mean:: Average Score: 0.781(0.090)\n"
     ]
    }
   ],
   "source": [
    "result = Fivetrails_mean(y_sample.shape[0]/sum(y_sample)-1,X_sample,y_sample)\n",
    "# \n",
    "G_mean=result[0]\n",
    "Bacc=result[1]\n",
    "# summarize performance\n",
    "recall=result[3]\n",
    "Fbeta=result[2]\n",
    "T=result[-1]\n",
    "acc_s=np.mean(np.array(result)[:4,:],axis=0)\n",
    "\n",
    "print('>%s: Average G-mean:%.3f(%.3f) ' % ('LR_mean:',np.mean(G_mean),np.std(G_mean)))\n",
    "print('>%s: Average Balanced_Acc: %.3f(%.3f) ' % ('LR_mean:',np.mean(Bacc),np.std(Bacc)))\n",
    "print('>%s: Average Fbeta: %.3f(%.3f)' % ('LR_mean:',np.mean(Fbeta),np.std(Fbeta)))\n",
    "print('>%s: Average Recall: %.3f(%.3f)' % ('LR_mean:',np.mean(recall),np.std(recall)))    \n",
    "print('>%s: Average accuracy_score: %.3f(%.3f)' % ('LR_mean:',np.mean(acc_s),np.std(acc_s)))\n",
    "\n",
    "print('>%s: Average Training time: %.3f(%.3f)' % ('LR_mean:',np.mean(T),np.std(T)))\n",
    "print('>%s: Average Score: %.3f(%.3f)' % ('LR_mean:',np.mean(0.99*acc_s+0.01/(np.array(result)[-1,:]/10*9+1)),np.std(0.99*acc_s+0.01/(np.array(result)[-1,:]/10*9+1))))\n",
    "\n",
    "# print('>%s: Average accuracy_score: %.3f(%.3f)' % ('IR='+str(k),np.mean(acc_s),np.std(acc_s)))"
   ]
  },
  {
   "cell_type": "code",
   "execution_count": null,
   "metadata": {},
   "outputs": [],
   "source": []
  },
  {
   "cell_type": "code",
   "execution_count": 407,
   "metadata": {},
   "outputs": [
    {
     "data": {
      "text/plain": [
       "array([0.4696526 , 2.25753618])"
      ]
     },
     "execution_count": 407,
     "metadata": {},
     "output_type": "execute_result"
    }
   ],
   "source": [
    "np.array(bias['upper_mean'])[0]"
   ]
  },
  {
   "cell_type": "markdown",
   "metadata": {},
   "source": [
    "# Volatility-uncertain method"
   ]
  },
  {
   "cell_type": "code",
   "execution_count": 76,
   "metadata": {},
   "outputs": [],
   "source": [
    "def F_u(x,arr):\n",
    "    p=[]\n",
    "    for c in arr:\n",
    "        \n",
    "        if c <0:\n",
    "            p.append(2*x[1]*st.norm.cdf(c/x[1])/(x[0]+x[1]))\n",
    "        else:\n",
    "            p.append(1-2*x[0]*st.norm.cdf(-c/x[0])/(x[0]+x[1]))\n",
    "    return np.array(p)\n",
    "def F_L(x,arr):\n",
    "    p=[]\n",
    "    for c in arr:\n",
    "        \n",
    "        if c <0:\n",
    "            p.append(2*x[0]*st.norm.cdf(c/x[0])/(x[0]+x[1]))\n",
    "        else:\n",
    "            p.append(1-2*x[1]*st.norm.cdf(-c/x[1])/(x[0]+x[1]))\n",
    "    return np.array(p)"
   ]
  },
  {
   "cell_type": "code",
   "execution_count": 83,
   "metadata": {},
   "outputs": [],
   "source": [
    "def equa_vxh(x,n,r):\n",
    "    pre_in=np.dot(X_train,w_2).reshape(x_tr.shape[0],)\n",
    "    err_u=y_tr-F_u(x,pre_in)\n",
    "    err_L=y_tr-F_L(x,pre_in)\n",
    "    for k in range(y_tr.shape[0]):\n",
    "    \n",
    "        if y_tr[k]==1:\n",
    "            err_u[k]=r*err_u[k]\n",
    "            err_L[k]=r*err_L[k]\n",
    "    \n",
    "    return np.array([testjx.testjx.meanuncertainty(err_u,n)[1],testjx.testjx.meanuncertainty(err_L,n)[0]])"
   ]
  },
  {
   "cell_type": "code",
   "execution_count": 853,
   "metadata": {},
   "outputs": [
    {
     "data": {
      "text/plain": [
       "array([ 0.0663078, -0.1309536])"
      ]
     },
     "execution_count": 853,
     "metadata": {},
     "output_type": "execute_result"
    }
   ],
   "source": [
    "equa_vxh([0.1,0.3],100)"
   ]
  },
  {
   "cell_type": "code",
   "execution_count": 111,
   "metadata": {},
   "outputs": [],
   "source": [
    "def meanuncertainty(x,n):\n",
    "    r=[]\n",
    "    for i in range(0,len(x)+1-n,n//5):\n",
    "        r.append(np.mean(x[i:i+n]))\n",
    "    return min(r),max(r)"
   ]
  },
  {
   "cell_type": "code",
   "execution_count": 158,
   "metadata": {},
   "outputs": [],
   "source": [
    "def equa_v(x,n,r):\n",
    " \n",
    "    pre_in=(np.dot(x_tr,model_in.coef_.T)+model_in.intercept_).reshape(x_tr.shape[0],)\n",
    "    err_u=y_tr-F_u(x,pre_in)\n",
    "    err_L=y_tr-F_L(x,pre_in)\n",
    "    for k in range(y_tr.shape[0]):\n",
    "    \n",
    "        if y_tr[k]==1:\n",
    "            err_u[k]=r*err_u[k]\n",
    "            err_L[k]=r*err_L[k]\n",
    "    \n",
    "    return np.array([meanuncertainty(err_u,n)[1],meanuncertainty(err_L,n)[0]])"
   ]
  },
  {
   "cell_type": "code",
   "execution_count": 384,
   "metadata": {},
   "outputs": [
    {
     "data": {
      "text/plain": [
       "552"
      ]
     },
     "execution_count": 384,
     "metadata": {},
     "output_type": "execute_result"
    }
   ],
   "source": [
    "y_tr.shape[0]"
   ]
  },
  {
   "cell_type": "code",
   "execution_count": 54,
   "metadata": {},
   "outputs": [],
   "source": [
    "def var_evaluate_model(X,y,m,model=LogisticRegression()):\n",
    "    \n",
    "    bacc,f2,rec,pre=list(),list(),list(),list()\n",
    "   \n",
    "#   \n",
    "    for train_index,test_index in cv_.split(X,y):\n",
    "#                 X_resampled_smote,y_resampled_smote=SMOTE().fit_resample(X[train_index], y[train_index])\n",
    "                model.fit(X[train_index],y[train_index])\n",
    "                prob_y=F_u(m,(np.dot(X[test_index],model.coef_.T)+model.intercept_).reshape(X[test_index].shape[0],))\n",
    "        \n",
    "#                 auc.append(roc_auc_score(y[test_index],prob_y))\n",
    "                \n",
    "                prdict_y=np.round(prob_y)\n",
    "                rec.append(recall_score(y[test_index],prdict_y))\n",
    "                pre.append(precision_score(y[test_index],prdict_y))\n",
    "                \n",
    "                bacc.append(balanced_accuracy_score(y[test_index],prdict_y))\n",
    "                f2.append(fbeta_score(y[test_index],prdict_y,beta=2))\n",
    " \n",
    "    return bacc,f2,rec,pre"
   ]
  },
  {
   "cell_type": "code",
   "execution_count": 153,
   "metadata": {},
   "outputs": [],
   "source": [
    "def Fivetrails_var(X,y,model=LogisticRegression()):\n",
    "    G_m,bacc,f2,rec,pre,T=list(),list(),list(),list(),list(),list()\n",
    "    for train_index,test_index in cv.split(X,y):\n",
    "                s_1=time.time()\n",
    "#                 X_resampled_smote,y_resampled_smote=SMOTE().fit_resample(X[train_index], y[train_index])\n",
    "                model.fit(X[train_index],y[train_index])\n",
    "                t_1=time.time()\n",
    "#                 mean_u=np.array([fsolve(lambda x:equa_fivem(x,n,0.5*(k+1),model,X[train_index],y[train_index]),0.5) for n in range(int(y[train_index].shape[0]*0.2),int(y[train_index].shape[0]*0.8),5)])\n",
    "                all_results = []\n",
    "                c=0\n",
    "                # for k in mean_lr:\n",
    "            #     strat=time.time()\n",
    "                for i in var_lr:\n",
    "                    result=np.mean(var_evaluate_model(X[train_index],y[train_index],i),axis=1)\n",
    "                    metric_res = {'window':10+5*c,'upper_mean': i}\n",
    "                    c+=1\n",
    "                    for name, value in zip(metrics_names, result):\n",
    "                #             print(name, ': ', value)\n",
    "                            metric_res[name] = value\n",
    "\n",
    "\n",
    "                    all_results.append(metric_res)\n",
    "                eva=pd.DataFrame(all_results)\n",
    "#                 eva.to_csv('{:}: datapre_diabetesCV_which_mu_to_set_inLRBIAS.csv'.format(k))\n",
    "                bias=eva[eva.iloc[:,-4]==(eva.iloc[:,-4]).max()]\n",
    "#                 end=time.time()\n",
    "                print(\"Optimal volatility selected by CV: \",np.array(bias['upper_mean']))  \n",
    "                prob_y=F_u(np.array(bias['upper_mean'])[0],(np.dot(X[test_index],model.coef_.T)+model.intercept_).reshape(X[test_index].shape[0],))\n",
    "                \n",
    "                \n",
    "                prdict_y=np.round(prob_y)\n",
    "                print(classification_report(y[test_index],prdict_y))\n",
    "                rec.append(recall_score(y[test_index],prdict_y))\n",
    "                pre.append(precision_score(y[test_index],prdict_y))\n",
    "                G_m.append(np.sqrt(recall_score(y[test_index],prdict_y)*recall_score(y[test_index],prdict_y,pos_label=0)))\n",
    "                bacc.append(balanced_accuracy_score(y[test_index],prdict_y))\n",
    "                f2.append(fbeta_score(y[test_index],prdict_y,beta=max(2,np.log(y_sample.shape[0]/sum(y_sample)-1))))\n",
    "                T.append(t_1-s_1)\n",
    "    return G_m,bacc,f2,rec,pre,T\n"
   ]
  },
  {
   "cell_type": "code",
   "execution_count": 156,
   "metadata": {},
   "outputs": [
    {
     "name": "stdout",
     "output_type": "stream",
     "text": [
      "Optimal volatility selected by CV:  [array([ 5.21935252, 10.08817084])]\n",
      "              precision    recall  f1-score   support\n",
      "\n",
      "         0.0       0.98      0.85      0.91       287\n",
      "         1.0       0.12      0.60      0.20        10\n",
      "\n",
      "    accuracy                           0.84       297\n",
      "   macro avg       0.55      0.73      0.56       297\n",
      "weighted avg       0.95      0.84      0.89       297\n",
      "\n",
      "Optimal volatility selected by CV:  [array([4.94724769, 9.34293741])]\n",
      "              precision    recall  f1-score   support\n",
      "\n",
      "         0.0       0.98      0.89      0.94       287\n",
      "         1.0       0.16      0.60      0.26        10\n",
      "\n",
      "    accuracy                           0.88       297\n",
      "   macro avg       0.57      0.75      0.60       297\n",
      "weighted avg       0.96      0.88      0.91       297\n",
      "\n",
      "Optimal volatility selected by CV:  [array([ 5.21935252, 10.08817084])]\n",
      "              precision    recall  f1-score   support\n",
      "\n",
      "         0.0       1.00      0.81      0.89       287\n",
      "         1.0       0.15      1.00      0.27        10\n",
      "\n",
      "    accuracy                           0.81       297\n",
      "   macro avg       0.58      0.90      0.58       297\n",
      "weighted avg       0.97      0.81      0.87       297\n",
      "\n",
      "Optimal volatility selected by CV:  [array([ 5.21935252, 10.08817084])]\n",
      "              precision    recall  f1-score   support\n",
      "\n",
      "         0.0       1.00      0.84      0.91       286\n",
      "         1.0       0.18      0.91      0.30        11\n",
      "\n",
      "    accuracy                           0.84       297\n",
      "   macro avg       0.59      0.87      0.60       297\n",
      "weighted avg       0.97      0.84      0.89       297\n",
      "\n",
      "Optimal volatility selected by CV:  [array([ 5.21935252, 10.08817084])]\n",
      "              precision    recall  f1-score   support\n",
      "\n",
      "         0.0       1.00      0.83      0.90       286\n",
      "         1.0       0.16      0.90      0.26        10\n",
      "\n",
      "    accuracy                           0.83       296\n",
      "   macro avg       0.58      0.86      0.58       296\n",
      "weighted avg       0.97      0.83      0.88       296\n",
      "\n",
      ">LR_volatility:: Average G-mean:0.816(0.077) \n",
      ">LR_volatility:: Average Balanced_Acc: 0.823(0.073) \n",
      ">LR_volatility:: Average Fbeta: 0.591(0.099)\n",
      ">LR_volatility:: Average Recall: 0.802(0.168)\n",
      ">LR_volatility:: Average Training time: 0.007(0.001)\n",
      ">LR_volatility:: Average accuracy_score: 0.758(0.104)\n",
      ">LR_volatility:: Average Score: 0.760(0.103)\n"
     ]
    }
   ],
   "source": [
    "##yeast4\n",
    "result_v = Fivetrails_var(X_sample,y_sample)\n",
    "# \n",
    "G_mean=result_v[0]\n",
    "Bacc=result_v[1]\n",
    "# summarize performance\n",
    "recall=result_v[3]\n",
    "Fbeta=result_v[2]\n",
    "# T=result[-1]\n",
    "acc_s=np.mean(np.array(result_v)[:4,:],axis=0)\n",
    "T=result_v[-1]\n",
    "print('>%s: Average G-mean:%.3f(%.3f) ' % ('LR_volatility:',np.mean(G_mean),np.std(G_mean)))\n",
    "print('>%s: Average Balanced_Acc: %.3f(%.3f) ' % ('LR_volatility:',np.mean(Bacc),np.std(Bacc)))\n",
    "print('>%s: Average Fbeta: %.3f(%.3f)' % ('LR_volatility:',np.mean(Fbeta),np.std(Fbeta)))\n",
    "print('>%s: Average Recall: %.3f(%.3f)' % ('LR_volatility:',np.mean(recall),np.std(recall)))    \n",
    "print('>%s: Average Training time: %.3f(%.3f)' % ('LR_volatility:',np.mean(T),np.std(T)))\n",
    "print('>%s: Average accuracy_score: %.3f(%.3f)' % ('LR_volatility:',np.mean(acc_s),np.std(acc_s)))\n",
    "print('>%s: Average Score: %.3f(%.3f)' % ('LR_volatility:',np.mean(0.99*acc_s+0.01/(np.array(result_v)[-1,:]/10*9+1)),np.std(0.99*acc_s+0.01/(np.array(result_v)[-1,:]/10*9+1))))"
   ]
  },
  {
   "cell_type": "code",
   "execution_count": null,
   "metadata": {},
   "outputs": [],
   "source": []
  }
 ],
 "metadata": {
  "kernelspec": {
   "display_name": "Python 3",
   "language": "python",
   "name": "python3"
  },
  "language_info": {
   "codemirror_mode": {
    "name": "ipython",
    "version": 3
   },
   "file_extension": ".py",
   "mimetype": "text/x-python",
   "name": "python",
   "nbconvert_exporter": "python",
   "pygments_lexer": "ipython3",
   "version": "3.7.3"
  }
 },
 "nbformat": 4,
 "nbformat_minor": 2
}
